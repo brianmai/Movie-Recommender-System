{
 "cells": [
  {
   "cell_type": "markdown",
   "metadata": {},
   "source": [
    "# 1. Import Dataset & Packages"
   ]
  },
  {
   "cell_type": "markdown",
   "metadata": {},
   "source": [
    "## 1.1 Import Packages"
   ]
  },
  {
   "cell_type": "code",
   "execution_count": 1,
   "metadata": {
    "ExecuteTime": {
     "end_time": "2021-05-21T19:45:12.394518Z",
     "start_time": "2021-05-21T19:45:08.450875Z"
    }
   },
   "outputs": [],
   "source": [
    "import pandas as pd # manipulate dataframe\n",
    "import numpy as np # array, linear algebra\n",
    "\n",
    "# Visualization\n",
    "import matplotlib.pyplot as plt\n",
    "import seaborn as sns\n",
    "\n",
    "# Web Scraping\n",
    "import requests\n",
    "from bs4 import BeautifulSoup\n",
    "\n",
    "# Make web scraping 10 times faster\n",
    "import lxml\n",
    "import cchardet\n",
    "\n",
    "from datetime import date # get today's date for most updated data\n",
    "\n",
    "# Hide warning\n",
    "import warnings\n",
    "warnings.filterwarnings('ignore')\n",
    "\n",
    "%matplotlib inline"
   ]
  },
  {
   "cell_type": "code",
   "execution_count": 2,
   "metadata": {
    "ExecuteTime": {
     "end_time": "2021-05-21T19:45:12.407483Z",
     "start_time": "2021-05-21T19:45:12.402496Z"
    }
   },
   "outputs": [],
   "source": [
    "# Run and display all commands in a cell\n",
    "from IPython.core.interactiveshell import InteractiveShell\n",
    "InteractiveShell.ast_node_interactivity = \"all\""
   ]
  },
  {
   "cell_type": "markdown",
   "metadata": {},
   "source": [
    "## 1.2 Web Scraping"
   ]
  },
  {
   "cell_type": "code",
   "execution_count": 3,
   "metadata": {},
   "outputs": [
    {
     "name": "stdout",
     "output_type": "stream",
     "text": [
      "Wall time: 0 ns\n"
     ]
    }
   ],
   "source": [
    "# Scrape data from IMDB movie database\n",
    "\n",
    "# 1st pass requirements: Movie, English language, rating 4+, year 2018+, scrape 1st 3000 movies by popularity\n",
    "# 2nd pass requirements: same as 1st, add concurrent thread for faster scraping\n",
    "# Link to scrape: https://www.imdb.com/search/title/?title_type=feature&release_date=2018-01-01,2022-02-17&user_rating=4.0,&languages=en\n",
    "# Link to go to next page, each page display only 50 movies: https://www.imdb.com/search/title/?title_type=feature&release_date=2019-01-01,2022-02-17&user_rating=4.0,&languages=en&start=51&ref_=adv_nxt\n",
    "\n",
    "# Create empty array to store information:\n",
    "movie_name = []\n",
    "year = []\n",
    "runtime=[]\n",
    "rating=[]\n",
    "metascore =[]\n",
    "stars=[]\n",
    "synopsis = []\n",
    "genre=[]\n",
    "\n",
    "# Create condition for scraping:\n",
    "# Link to get customized header: https://www.whatismybrowser.com/detect/what-http-headers-is-my-browser-sending\n",
    "my_headers ={\n",
    "    'User-Agent': 'Mozilla/5.0 (Windows NT 10.0; Win64; x64; rv:96.0) Gecko/20100101 Firefox/96.0',\n",
    "    'Accept': 'text/html,application/xhtml+xml,application/xml;q=0.9,image/avif,image/webp,*/*;q=0.8'\n",
    "}\n",
    "\n",
    "today = date.today().strftime(\"%Y-%m-%m\") # Get today's date to get most relevant data\n",
    "pages = np.arange(1,1000,250) #array of number of movies to impute to link to get next 250 movies\n",
    "\n",
    "for page in pages:\n",
    "    page = requests.get('https://www.imdb.com/search/title/?title_type=feature&release_date=2018-01-01,' +str(today) +\n",
    "                        '&user_rating=4.0,&languages=en&count=250&start=' +str(page)+'&ref_=adv_nxt')\n",
    "#    soup = BeautifulSoup(page.text, 'html.parser')\n",
    "    soup = BeautifulSoup(page.text, 'lxml')\n",
    "    movies = soup.findAll('div', class_ ='lister-item mode-advanced')\n",
    "\n",
    "    for movie in movies:\n",
    "        movie_name.append(movie.h3.a.text) # Get movie name\n",
    "        year.append(movie.h3.text[-6:-2]) # Get year \n",
    "        runtime.append(movie.find('span', class_ ='runtime').text if movie.find('span', class_ ='runtime') else 'NA')  # Get runtime \n",
    "        rating.append(movie.find('div', class_ = \"inline-block ratings-imdb-rating\").text.replace('\\n', '') if movie.find('div', class_ =\"inline-block ratings-imdb-rating\") else 'NA') # Get rating\n",
    "        metascore.append(movie.find('span', class_ = \"metascore\").text if movie.find('span', class_ = \"metascore\") else 'NA') # Get metascore\n",
    "        synopsis.append(movie.find_all('p', class_ ='text-muted')[1].text.replace('\\n','')) # Get synopsis\n",
    "        genre.append(movie.find('span', class_ ='genre').text.replace('\\n','') if movie.find('span', class_ ='genre') else 'NA') # Get genre\n",
    "        stars.append([x.text for x in d] if (d := movie.select('a[href*=\"_dr_\"]')) else None)\n",
    "\n",
    "%time"
   ]
  },
  {
   "cell_type": "code",
   "execution_count": 4,
   "metadata": {
    "tags": []
   },
   "outputs": [],
   "source": [
    "movies = pd.DataFrame({\"Movie_Name\": movie_name, \n",
    "                        \"Release_Year\" : year, \n",
    "                        \"Runtime\": runtime,\n",
    "                       \"Genre\": genre,\n",
    "                       \"Movie_Rating\": rating, \n",
    "                       \"Critic_Rating\": metascore,\n",
    "                       \"Stars\": stars,\n",
    "                       \"Synopsis\": synopsis})"
   ]
  },
  {
   "cell_type": "code",
   "execution_count": 5,
   "metadata": {},
   "outputs": [
    {
     "data": {
      "text/plain": [
       "1000"
      ]
     },
     "execution_count": 5,
     "metadata": {},
     "output_type": "execute_result"
    }
   ],
   "source": [
    "len(movies)"
   ]
  },
  {
   "cell_type": "code",
   "execution_count": 6,
   "metadata": {},
   "outputs": [
    {
     "data": {
      "text/html": [
       "<div>\n",
       "<style scoped>\n",
       "    .dataframe tbody tr th:only-of-type {\n",
       "        vertical-align: middle;\n",
       "    }\n",
       "\n",
       "    .dataframe tbody tr th {\n",
       "        vertical-align: top;\n",
       "    }\n",
       "\n",
       "    .dataframe thead th {\n",
       "        text-align: right;\n",
       "    }\n",
       "</style>\n",
       "<table border=\"1\" class=\"dataframe\">\n",
       "  <thead>\n",
       "    <tr style=\"text-align: right;\">\n",
       "      <th></th>\n",
       "      <th>Movie_Name</th>\n",
       "      <th>Release_Year</th>\n",
       "      <th>Runtime</th>\n",
       "      <th>Genre</th>\n",
       "      <th>Movie_Rating</th>\n",
       "      <th>Critic_Rating</th>\n",
       "      <th>Stars</th>\n",
       "      <th>Synopsis</th>\n",
       "    </tr>\n",
       "  </thead>\n",
       "  <tbody>\n",
       "    <tr>\n",
       "      <th>995</th>\n",
       "      <td>Rise of the Footsoldier: Origins</td>\n",
       "      <td>2021</td>\n",
       "      <td>107 min</td>\n",
       "      <td>Action, Crime, Drama</td>\n",
       "      <td>6.3</td>\n",
       "      <td>NA</td>\n",
       "      <td>None</td>\n",
       "      <td>The origin story of how Tucker, Rolfie, and Pa...</td>\n",
       "    </tr>\n",
       "    <tr>\n",
       "      <th>996</th>\n",
       "      <td>Misbehaviour</td>\n",
       "      <td>2020</td>\n",
       "      <td>106 min</td>\n",
       "      <td>Comedy, Drama, History</td>\n",
       "      <td>6.3</td>\n",
       "      <td>62</td>\n",
       "      <td>None</td>\n",
       "      <td>A group of women hatch a plan to disrupt the 1...</td>\n",
       "    </tr>\n",
       "    <tr>\n",
       "      <th>997</th>\n",
       "      <td>Falling</td>\n",
       "      <td>2020</td>\n",
       "      <td>112 min</td>\n",
       "      <td>Drama</td>\n",
       "      <td>6.5</td>\n",
       "      <td>63</td>\n",
       "      <td>None</td>\n",
       "      <td>John Peterson lives with his partner Eric and ...</td>\n",
       "    </tr>\n",
       "    <tr>\n",
       "      <th>998</th>\n",
       "      <td>Amulet</td>\n",
       "      <td>2020</td>\n",
       "      <td>99 min</td>\n",
       "      <td>Horror, Mystery</td>\n",
       "      <td>4.8</td>\n",
       "      <td>62</td>\n",
       "      <td>None</td>\n",
       "      <td>An ex-soldier, living homeless in London, is o...</td>\n",
       "    </tr>\n",
       "    <tr>\n",
       "      <th>999</th>\n",
       "      <td>The Postcard Killings</td>\n",
       "      <td>2020</td>\n",
       "      <td>104 min</td>\n",
       "      <td>Crime, Drama, Thriller</td>\n",
       "      <td>5.8</td>\n",
       "      <td>29</td>\n",
       "      <td>None</td>\n",
       "      <td>A New York detective investigates the death of...</td>\n",
       "    </tr>\n",
       "  </tbody>\n",
       "</table>\n",
       "</div>"
      ],
      "text/plain": [
       "                           Movie_Name Release_Year  Runtime  \\\n",
       "995  Rise of the Footsoldier: Origins         2021  107 min   \n",
       "996                      Misbehaviour         2020  106 min   \n",
       "997                           Falling         2020  112 min   \n",
       "998                            Amulet         2020   99 min   \n",
       "999             The Postcard Killings         2020  104 min   \n",
       "\n",
       "                                  Genre Movie_Rating Critic_Rating Stars  \\\n",
       "995    Action, Crime, Drama                      6.3            NA  None   \n",
       "996  Comedy, Drama, History                      6.3    62          None   \n",
       "997                   Drama                      6.5    63          None   \n",
       "998         Horror, Mystery                      4.8    62          None   \n",
       "999  Crime, Drama, Thriller                      5.8    29          None   \n",
       "\n",
       "                                              Synopsis  \n",
       "995  The origin story of how Tucker, Rolfie, and Pa...  \n",
       "996  A group of women hatch a plan to disrupt the 1...  \n",
       "997  John Peterson lives with his partner Eric and ...  \n",
       "998  An ex-soldier, living homeless in London, is o...  \n",
       "999  A New York detective investigates the death of...  "
      ]
     },
     "execution_count": 6,
     "metadata": {},
     "output_type": "execute_result"
    }
   ],
   "source": [
    "movies.tail()"
   ]
  },
  {
   "cell_type": "markdown",
   "metadata": {},
   "source": [
    "## Summary"
   ]
  },
  {
   "cell_type": "code",
   "execution_count": 236,
   "metadata": {
    "cell_style": "split",
    "tags": []
   },
   "outputs": [
    {
     "data": {
      "text/html": [
       "<div>\n",
       "<style scoped>\n",
       "    .dataframe tbody tr th:only-of-type {\n",
       "        vertical-align: middle;\n",
       "    }\n",
       "\n",
       "    .dataframe tbody tr th {\n",
       "        vertical-align: top;\n",
       "    }\n",
       "\n",
       "    .dataframe thead th {\n",
       "        text-align: right;\n",
       "    }\n",
       "</style>\n",
       "<table border=\"1\" class=\"dataframe\">\n",
       "  <thead>\n",
       "    <tr style=\"text-align: right;\">\n",
       "      <th></th>\n",
       "      <th>Movie_Name</th>\n",
       "      <th>Release_Year</th>\n",
       "      <th>Runtime</th>\n",
       "      <th>Genre</th>\n",
       "      <th>Movie_Rating</th>\n",
       "      <th>Critic_Rating</th>\n",
       "      <th>Stars</th>\n",
       "      <th>Synopsis</th>\n",
       "    </tr>\n",
       "  </thead>\n",
       "  <tbody>\n",
       "    <tr>\n",
       "      <th>0</th>\n",
       "      <td>Nightmare Alley</td>\n",
       "      <td>2021</td>\n",
       "      <td>150 min</td>\n",
       "      <td>Crime, Drama, Thriller</td>\n",
       "      <td>7.2</td>\n",
       "      <td>70</td>\n",
       "      <td>None</td>\n",
       "      <td>An ambitious carny with a talent for manipulat...</td>\n",
       "    </tr>\n",
       "    <tr>\n",
       "      <th>1</th>\n",
       "      <td>The Power of the Dog</td>\n",
       "      <td>2021</td>\n",
       "      <td>126 min</td>\n",
       "      <td>Drama, Romance, Western</td>\n",
       "      <td>6.9</td>\n",
       "      <td>89</td>\n",
       "      <td>None</td>\n",
       "      <td>Charismatic rancher Phil Burbank inspires fear...</td>\n",
       "    </tr>\n",
       "  </tbody>\n",
       "</table>\n",
       "</div>"
      ],
      "text/plain": [
       "             Movie_Name Release_Year  Runtime  \\\n",
       "0       Nightmare Alley         2021  150 min   \n",
       "1  The Power of the Dog         2021  126 min   \n",
       "\n",
       "                                 Genre Movie_Rating Critic_Rating Stars  \\\n",
       "0   Crime, Drama, Thriller                      7.2    70          None   \n",
       "1  Drama, Romance, Western                      6.9    89          None   \n",
       "\n",
       "                                            Synopsis  \n",
       "0  An ambitious carny with a talent for manipulat...  \n",
       "1  Charismatic rancher Phil Burbank inspires fear...  "
      ]
     },
     "execution_count": 236,
     "metadata": {},
     "output_type": "execute_result"
    },
    {
     "name": "stdout",
     "output_type": "stream",
     "text": [
      "<class 'pandas.core.frame.DataFrame'>\n",
      "RangeIndex: 70000 entries, 0 to 69999\n",
      "Data columns (total 8 columns):\n",
      " #   Column         Non-Null Count  Dtype \n",
      "---  ------         --------------  ----- \n",
      " 0   Movie_Name     70000 non-null  object\n",
      " 1   Release_Year   70000 non-null  object\n",
      " 2   Runtime        70000 non-null  object\n",
      " 3   Genre          70000 non-null  object\n",
      " 4   Movie_Rating   70000 non-null  object\n",
      " 5   Critic_Rating  70000 non-null  object\n",
      " 6   Stars          0 non-null      object\n",
      " 7   Synopsis       70000 non-null  object\n",
      "dtypes: object(8)\n",
      "memory usage: 4.3+ MB\n"
     ]
    },
    {
     "data": {
      "text/html": [
       "<div>\n",
       "<style scoped>\n",
       "    .dataframe tbody tr th:only-of-type {\n",
       "        vertical-align: middle;\n",
       "    }\n",
       "\n",
       "    .dataframe tbody tr th {\n",
       "        vertical-align: top;\n",
       "    }\n",
       "\n",
       "    .dataframe thead th {\n",
       "        text-align: right;\n",
       "    }\n",
       "</style>\n",
       "<table border=\"1\" class=\"dataframe\">\n",
       "  <thead>\n",
       "    <tr style=\"text-align: right;\">\n",
       "      <th></th>\n",
       "      <th>Movie_Name</th>\n",
       "      <th>Release_Year</th>\n",
       "      <th>Runtime</th>\n",
       "      <th>Genre</th>\n",
       "      <th>Movie_Rating</th>\n",
       "      <th>Critic_Rating</th>\n",
       "      <th>Stars</th>\n",
       "      <th>Synopsis</th>\n",
       "    </tr>\n",
       "  </thead>\n",
       "  <tbody>\n",
       "    <tr>\n",
       "      <th>count</th>\n",
       "      <td>70000</td>\n",
       "      <td>70000</td>\n",
       "      <td>70000</td>\n",
       "      <td>70000</td>\n",
       "      <td>70000</td>\n",
       "      <td>70000</td>\n",
       "      <td>0</td>\n",
       "      <td>70000</td>\n",
       "    </tr>\n",
       "    <tr>\n",
       "      <th>unique</th>\n",
       "      <td>9798</td>\n",
       "      <td>9</td>\n",
       "      <td>161</td>\n",
       "      <td>476</td>\n",
       "      <td>61</td>\n",
       "      <td>89</td>\n",
       "      <td>0</td>\n",
       "      <td>9756</td>\n",
       "    </tr>\n",
       "    <tr>\n",
       "      <th>top</th>\n",
       "      <td>The Invisible Man</td>\n",
       "      <td>2021</td>\n",
       "      <td>109 min</td>\n",
       "      <td>Drama</td>\n",
       "      <td>7.3</td>\n",
       "      <td>NA</td>\n",
       "      <td>NaN</td>\n",
       "      <td>Add a Plot</td>\n",
       "    </tr>\n",
       "    <tr>\n",
       "      <th>freq</th>\n",
       "      <td>242</td>\n",
       "      <td>31829</td>\n",
       "      <td>2985</td>\n",
       "      <td>4559</td>\n",
       "      <td>3785</td>\n",
       "      <td>12111</td>\n",
       "      <td>NaN</td>\n",
       "      <td>243</td>\n",
       "    </tr>\n",
       "  </tbody>\n",
       "</table>\n",
       "</div>"
      ],
      "text/plain": [
       "               Movie_Name Release_Year  Runtime              Genre  \\\n",
       "count               70000        70000    70000              70000   \n",
       "unique               9798            9      161                476   \n",
       "top     The Invisible Man         2021  109 min  Drama               \n",
       "freq                  242        31829     2985               4559   \n",
       "\n",
       "       Movie_Rating Critic_Rating Stars    Synopsis  \n",
       "count         70000         70000     0       70000  \n",
       "unique           61            89     0        9756  \n",
       "top             7.3            NA   NaN  Add a Plot  \n",
       "freq           3785         12111   NaN         243  "
      ]
     },
     "execution_count": 236,
     "metadata": {},
     "output_type": "execute_result"
    }
   ],
   "source": [
    "movies.head(2)\n",
    "movies.info()\n",
    "movies.describe()"
   ]
  },
  {
   "cell_type": "markdown",
   "metadata": {},
   "source": [
    "# Data Manipulation"
   ]
  },
  {
   "cell_type": "code",
   "execution_count": 6,
   "metadata": {
    "ExecuteTime": {
     "end_time": "2021-05-21T19:45:16.908136Z",
     "start_time": "2021-05-21T19:45:16.815384Z"
    },
    "cell_style": "center"
   },
   "outputs": [
    {
     "data": {
      "text/html": [
       "<div>\n",
       "<style scoped>\n",
       "    .dataframe tbody tr th:only-of-type {\n",
       "        vertical-align: middle;\n",
       "    }\n",
       "\n",
       "    .dataframe tbody tr th {\n",
       "        vertical-align: top;\n",
       "    }\n",
       "\n",
       "    .dataframe thead th {\n",
       "        text-align: right;\n",
       "    }\n",
       "</style>\n",
       "<table border=\"1\" class=\"dataframe\">\n",
       "  <thead>\n",
       "    <tr style=\"text-align: right;\">\n",
       "      <th></th>\n",
       "      <th>id</th>\n",
       "      <th>budget</th>\n",
       "      <th>genres</th>\n",
       "      <th>imdb_id</th>\n",
       "      <th>original_language</th>\n",
       "      <th>original_title</th>\n",
       "      <th>overview</th>\n",
       "      <th>popularity</th>\n",
       "      <th>production_companies</th>\n",
       "      <th>production_countries</th>\n",
       "      <th>...</th>\n",
       "      <th>runtime</th>\n",
       "      <th>spoken_languages</th>\n",
       "      <th>status</th>\n",
       "      <th>tagline</th>\n",
       "      <th>title</th>\n",
       "      <th>vote_average</th>\n",
       "      <th>vote_count</th>\n",
       "      <th>production_companies_number</th>\n",
       "      <th>production_countries_number</th>\n",
       "      <th>spoken_languages_number</th>\n",
       "    </tr>\n",
       "  </thead>\n",
       "  <tbody>\n",
       "    <tr>\n",
       "      <th>0</th>\n",
       "      <td>2</td>\n",
       "      <td>0</td>\n",
       "      <td>Drama|Crime</td>\n",
       "      <td>tt0094675</td>\n",
       "      <td>fi</td>\n",
       "      <td>Ariel</td>\n",
       "      <td>Taisto Kasurinen is a Finnish coal miner whose...</td>\n",
       "      <td>0.823904</td>\n",
       "      <td>Villealfa Filmproduction Oy</td>\n",
       "      <td>Finland</td>\n",
       "      <td>...</td>\n",
       "      <td>69.0</td>\n",
       "      <td>suomi</td>\n",
       "      <td>Released</td>\n",
       "      <td>NaN</td>\n",
       "      <td>Ariel</td>\n",
       "      <td>7.1</td>\n",
       "      <td>40</td>\n",
       "      <td>2</td>\n",
       "      <td>1</td>\n",
       "      <td>2</td>\n",
       "    </tr>\n",
       "    <tr>\n",
       "      <th>1</th>\n",
       "      <td>3</td>\n",
       "      <td>0</td>\n",
       "      <td>Drama|Comedy</td>\n",
       "      <td>tt0092149</td>\n",
       "      <td>fi</td>\n",
       "      <td>Varjoja paratiisissa</td>\n",
       "      <td>An episode in the life of Nikander, a garbage ...</td>\n",
       "      <td>0.47445</td>\n",
       "      <td>Villealfa Filmproduction Oy</td>\n",
       "      <td>Finland</td>\n",
       "      <td>...</td>\n",
       "      <td>76.0</td>\n",
       "      <td>English</td>\n",
       "      <td>Released</td>\n",
       "      <td>NaN</td>\n",
       "      <td>Shadows in Paradise</td>\n",
       "      <td>7.0</td>\n",
       "      <td>32</td>\n",
       "      <td>1</td>\n",
       "      <td>1</td>\n",
       "      <td>3</td>\n",
       "    </tr>\n",
       "  </tbody>\n",
       "</table>\n",
       "<p>2 rows × 22 columns</p>\n",
       "</div>"
      ],
      "text/plain": [
       "   id  budget        genres    imdb_id original_language  \\\n",
       "0   2       0   Drama|Crime  tt0094675                fi   \n",
       "1   3       0  Drama|Comedy  tt0092149                fi   \n",
       "\n",
       "         original_title                                           overview  \\\n",
       "0                 Ariel  Taisto Kasurinen is a Finnish coal miner whose...   \n",
       "1  Varjoja paratiisissa  An episode in the life of Nikander, a garbage ...   \n",
       "\n",
       "  popularity         production_companies production_countries  ... runtime  \\\n",
       "0   0.823904  Villealfa Filmproduction Oy              Finland  ...    69.0   \n",
       "1    0.47445  Villealfa Filmproduction Oy              Finland  ...    76.0   \n",
       "\n",
       "   spoken_languages    status tagline                title vote_average  \\\n",
       "0             suomi  Released     NaN                Ariel          7.1   \n",
       "1           English  Released     NaN  Shadows in Paradise          7.0   \n",
       "\n",
       "  vote_count  production_companies_number  production_countries_number  \\\n",
       "0         40                            2                            1   \n",
       "1         32                            1                            1   \n",
       "\n",
       "   spoken_languages_number  \n",
       "0                        2  \n",
       "1                        3  \n",
       "\n",
       "[2 rows x 22 columns]"
      ]
     },
     "execution_count": 6,
     "metadata": {},
     "output_type": "execute_result"
    }
   ],
   "source": [
    "# Keep certain columns in casts dataframe\n",
    "# Keep only the lead and first two supporting roles\n",
    "casts = casts[[\n",
    "    'id', 'actor1_name', 'actor2_name', 'actor3_name', 'director_name'\n",
    "]]\n",
    "\n",
    "# Keep certain columns in tmdb Dataframe\n",
    "tmdb.head(2)\n",
    "tmdb = tmdb[['id', 'overview', 'production_companies', 'production_countries']]"
   ]
  },
  {
   "cell_type": "code",
   "execution_count": 9,
   "metadata": {
    "ExecuteTime": {
     "end_time": "2021-05-21T19:45:17.293766Z",
     "start_time": "2021-05-21T19:45:17.276812Z"
    },
    "scrolled": true
   },
   "outputs": [
    {
     "data": {
      "text/html": [
       "<div>\n",
       "<style scoped>\n",
       "    .dataframe tbody tr th:only-of-type {\n",
       "        vertical-align: middle;\n",
       "    }\n",
       "\n",
       "    .dataframe tbody tr th {\n",
       "        vertical-align: top;\n",
       "    }\n",
       "\n",
       "    .dataframe thead th {\n",
       "        text-align: right;\n",
       "    }\n",
       "</style>\n",
       "<table border=\"1\" class=\"dataframe\">\n",
       "  <thead>\n",
       "    <tr style=\"text-align: right;\">\n",
       "      <th></th>\n",
       "      <th>movieId</th>\n",
       "      <th>title</th>\n",
       "      <th>genres</th>\n",
       "      <th>tmdbId</th>\n",
       "      <th>id</th>\n",
       "      <th>overview</th>\n",
       "      <th>production_companies</th>\n",
       "      <th>production_countries</th>\n",
       "      <th>actor1_name</th>\n",
       "      <th>actor2_name</th>\n",
       "      <th>actor3_name</th>\n",
       "      <th>director_name</th>\n",
       "      <th>tag</th>\n",
       "      <th>year</th>\n",
       "    </tr>\n",
       "  </thead>\n",
       "  <tbody>\n",
       "    <tr>\n",
       "      <th>0</th>\n",
       "      <td>1</td>\n",
       "      <td>Toy Story (1995)</td>\n",
       "      <td>Adventure|Animation|Children|Comedy|Fantasy</td>\n",
       "      <td>862.0</td>\n",
       "      <td>862.0</td>\n",
       "      <td>Led by Woody, Andy's toys live happily in his ...</td>\n",
       "      <td>Pixar Animation Studios</td>\n",
       "      <td>United States of America</td>\n",
       "      <td>Tom Hanks</td>\n",
       "      <td>Tim Allen</td>\n",
       "      <td>Don Rickles</td>\n",
       "      <td>John Lasseter</td>\n",
       "      <td>pixar fun</td>\n",
       "      <td>1995</td>\n",
       "    </tr>\n",
       "    <tr>\n",
       "      <th>1</th>\n",
       "      <td>2</td>\n",
       "      <td>Jumanji (1995)</td>\n",
       "      <td>Adventure|Children|Fantasy</td>\n",
       "      <td>8844.0</td>\n",
       "      <td>8844.0</td>\n",
       "      <td>When siblings Judy and Peter discover an encha...</td>\n",
       "      <td>TriStar Pictures</td>\n",
       "      <td>United States of America</td>\n",
       "      <td>Robin Williams</td>\n",
       "      <td>Jonathan Hyde</td>\n",
       "      <td>Kirsten Dunst</td>\n",
       "      <td>Joe Johnston</td>\n",
       "      <td>fantasy magic board game Robin Williams game</td>\n",
       "      <td>1995</td>\n",
       "    </tr>\n",
       "  </tbody>\n",
       "</table>\n",
       "</div>"
      ],
      "text/plain": [
       "   movieId             title                                       genres  \\\n",
       "0        1  Toy Story (1995)  Adventure|Animation|Children|Comedy|Fantasy   \n",
       "1        2    Jumanji (1995)                   Adventure|Children|Fantasy   \n",
       "\n",
       "   tmdbId      id                                           overview  \\\n",
       "0   862.0   862.0  Led by Woody, Andy's toys live happily in his ...   \n",
       "1  8844.0  8844.0  When siblings Judy and Peter discover an encha...   \n",
       "\n",
       "      production_companies      production_countries     actor1_name  \\\n",
       "0  Pixar Animation Studios  United States of America       Tom Hanks   \n",
       "1         TriStar Pictures  United States of America  Robin Williams   \n",
       "\n",
       "     actor2_name    actor3_name  director_name  \\\n",
       "0      Tim Allen    Don Rickles  John Lasseter   \n",
       "1  Jonathan Hyde  Kirsten Dunst   Joe Johnston   \n",
       "\n",
       "                                            tag  year  \n",
       "0                                     pixar fun  1995  \n",
       "1  fantasy magic board game Robin Williams game  1995  "
      ]
     },
     "execution_count": 9,
     "metadata": {},
     "output_type": "execute_result"
    }
   ],
   "source": [
    "df.head(2)"
   ]
  },
  {
   "cell_type": "markdown",
   "metadata": {},
   "source": [
    "# Data Exploratory Analysis"
   ]
  },
  {
   "cell_type": "markdown",
   "metadata": {},
   "source": [
    "## Combined (Df) Dataframe"
   ]
  },
  {
   "cell_type": "code",
   "execution_count": 10,
   "metadata": {
    "ExecuteTime": {
     "end_time": "2021-05-21T19:45:17.322700Z",
     "start_time": "2021-05-21T19:45:17.296760Z"
    },
    "cell_style": "split"
   },
   "outputs": [
    {
     "data": {
      "text/plain": [
       "(9742, 14)"
      ]
     },
     "execution_count": 10,
     "metadata": {},
     "output_type": "execute_result"
    },
    {
     "name": "stdout",
     "output_type": "stream",
     "text": [
      "<class 'pandas.core.frame.DataFrame'>\n",
      "Int64Index: 9742 entries, 0 to 9741\n",
      "Data columns (total 14 columns):\n",
      " #   Column                Non-Null Count  Dtype  \n",
      "---  ------                --------------  -----  \n",
      " 0   movieId               9742 non-null   int64  \n",
      " 1   title                 9742 non-null   object \n",
      " 2   genres                9742 non-null   object \n",
      " 3   tmdbId                9734 non-null   float64\n",
      " 4   id                    9637 non-null   float64\n",
      " 5   overview              9613 non-null   object \n",
      " 6   production_companies  9637 non-null   object \n",
      " 7   production_countries  9637 non-null   object \n",
      " 8   actor1_name           9637 non-null   object \n",
      " 9   actor2_name           9637 non-null   object \n",
      " 10  actor3_name           9637 non-null   object \n",
      " 11  director_name         9637 non-null   object \n",
      " 12  tag                   1572 non-null   object \n",
      " 13  year                  9742 non-null   object \n",
      "dtypes: float64(2), int64(1), object(11)\n",
      "memory usage: 1.1+ MB\n"
     ]
    }
   ],
   "source": [
    "df.shape\n",
    "df.info()"
   ]
  },
  {
   "cell_type": "code",
   "execution_count": 11,
   "metadata": {
    "ExecuteTime": {
     "end_time": "2021-05-21T19:45:17.365587Z",
     "start_time": "2021-05-21T19:45:17.324686Z"
    },
    "cell_style": "split"
   },
   "outputs": [
    {
     "data": {
      "text/plain": [
       "movieId                    0\n",
       "title                      0\n",
       "genres                     0\n",
       "overview                 129\n",
       "production_companies     105\n",
       "production_countries     105\n",
       "actor1_name              105\n",
       "actor2_name              105\n",
       "actor3_name              105\n",
       "director_name            105\n",
       "tag                     8170\n",
       "year                       0\n",
       "dtype: int64"
      ]
     },
     "execution_count": 11,
     "metadata": {},
     "output_type": "execute_result"
    },
    {
     "data": {
      "text/plain": [
       "movieId                 0\n",
       "title                   0\n",
       "genres                  0\n",
       "overview                0\n",
       "production_companies    0\n",
       "production_countries    0\n",
       "actor1_name             0\n",
       "actor2_name             0\n",
       "actor3_name             0\n",
       "director_name           0\n",
       "tag                     0\n",
       "year                    0\n",
       "dtype: int64"
      ]
     },
     "execution_count": 11,
     "metadata": {},
     "output_type": "execute_result"
    }
   ],
   "source": [
    "# Drop unused columns\n",
    "df.drop(columns=['tmdbId', 'id'], inplace=True)\n",
    "\n",
    "# Find how many NaN value and fill them with blank\n",
    "df.isna().sum()\n",
    "df = df.fillna('')\n",
    "df.isna().sum()"
   ]
  },
  {
   "cell_type": "code",
   "execution_count": 12,
   "metadata": {
    "ExecuteTime": {
     "end_time": "2021-05-21T19:45:17.403479Z",
     "start_time": "2021-05-21T19:45:17.367570Z"
    }
   },
   "outputs": [],
   "source": [
    "# Remove 'none' instance with empty string in selected columns\n",
    "for i in [\n",
    "        'production_companies', 'production_countries', 'actor1_name',\n",
    "        'actor2_name', 'actor3_name', 'director_name', 'tag'\n",
    "]:\n",
    "    df.loc[df[i].astype(str) == 'none', i] = ''"
   ]
  },
  {
   "cell_type": "code",
   "execution_count": 13,
   "metadata": {
    "ExecuteTime": {
     "end_time": "2021-05-21T19:45:17.423421Z",
     "start_time": "2021-05-21T19:45:17.406466Z"
    }
   },
   "outputs": [
    {
     "data": {
      "text/html": [
       "<div>\n",
       "<style scoped>\n",
       "    .dataframe tbody tr th:only-of-type {\n",
       "        vertical-align: middle;\n",
       "    }\n",
       "\n",
       "    .dataframe tbody tr th {\n",
       "        vertical-align: top;\n",
       "    }\n",
       "\n",
       "    .dataframe thead th {\n",
       "        text-align: right;\n",
       "    }\n",
       "</style>\n",
       "<table border=\"1\" class=\"dataframe\">\n",
       "  <thead>\n",
       "    <tr style=\"text-align: right;\">\n",
       "      <th></th>\n",
       "      <th>movieId</th>\n",
       "      <th>title</th>\n",
       "      <th>genres</th>\n",
       "      <th>overview</th>\n",
       "      <th>production_companies</th>\n",
       "      <th>production_countries</th>\n",
       "      <th>actor1_name</th>\n",
       "      <th>actor2_name</th>\n",
       "      <th>actor3_name</th>\n",
       "      <th>director_name</th>\n",
       "      <th>tag</th>\n",
       "      <th>year</th>\n",
       "    </tr>\n",
       "  </thead>\n",
       "  <tbody>\n",
       "    <tr>\n",
       "      <th>0</th>\n",
       "      <td>1</td>\n",
       "      <td>Toy Story (1995)</td>\n",
       "      <td>Adventure|Animation|Children|Comedy|Fantasy</td>\n",
       "      <td>Led by Woody, Andy's toys live happily in his ...</td>\n",
       "      <td>Pixar Animation Studios</td>\n",
       "      <td>United States of America</td>\n",
       "      <td>Tom Hanks</td>\n",
       "      <td>Tim Allen</td>\n",
       "      <td>Don Rickles</td>\n",
       "      <td>John Lasseter</td>\n",
       "      <td>pixar fun</td>\n",
       "      <td>1995</td>\n",
       "    </tr>\n",
       "    <tr>\n",
       "      <th>1</th>\n",
       "      <td>2</td>\n",
       "      <td>Jumanji (1995)</td>\n",
       "      <td>Adventure|Children|Fantasy</td>\n",
       "      <td>When siblings Judy and Peter discover an encha...</td>\n",
       "      <td>TriStar Pictures</td>\n",
       "      <td>United States of America</td>\n",
       "      <td>Robin Williams</td>\n",
       "      <td>Jonathan Hyde</td>\n",
       "      <td>Kirsten Dunst</td>\n",
       "      <td>Joe Johnston</td>\n",
       "      <td>fantasy magic board game Robin Williams game</td>\n",
       "      <td>1995</td>\n",
       "    </tr>\n",
       "  </tbody>\n",
       "</table>\n",
       "</div>"
      ],
      "text/plain": [
       "   movieId             title                                       genres  \\\n",
       "0        1  Toy Story (1995)  Adventure|Animation|Children|Comedy|Fantasy   \n",
       "1        2    Jumanji (1995)                   Adventure|Children|Fantasy   \n",
       "\n",
       "                                            overview     production_companies  \\\n",
       "0  Led by Woody, Andy's toys live happily in his ...  Pixar Animation Studios   \n",
       "1  When siblings Judy and Peter discover an encha...         TriStar Pictures   \n",
       "\n",
       "       production_countries     actor1_name    actor2_name    actor3_name  \\\n",
       "0  United States of America       Tom Hanks      Tim Allen    Don Rickles   \n",
       "1  United States of America  Robin Williams  Jonathan Hyde  Kirsten Dunst   \n",
       "\n",
       "   director_name                                           tag  year  \n",
       "0  John Lasseter                                     pixar fun  1995  \n",
       "1   Joe Johnston  fantasy magic board game Robin Williams game  1995  "
      ]
     },
     "execution_count": 13,
     "metadata": {},
     "output_type": "execute_result"
    }
   ],
   "source": [
    "df.head(2)"
   ]
  },
  {
   "cell_type": "code",
   "execution_count": 17,
   "metadata": {
    "ExecuteTime": {
     "end_time": "2021-05-21T19:45:18.384040Z",
     "start_time": "2021-05-21T19:45:18.158960Z"
    },
    "cell_style": "split"
   },
   "outputs": [
    {
     "data": {
      "text/plain": [
       "<AxesSubplot:xlabel='count', ylabel='actor1_name'>"
      ]
     },
     "execution_count": 17,
     "metadata": {},
     "output_type": "execute_result"
    },
    {
     "data": {
      "image/png": "[encoded data removed]",
      "text/plain": [
       "<Figure size 432x288 with 1 Axes>"
      ]
     },
     "metadata": {
      "needs_background": "light"
     },
     "output_type": "display_data"
    }
   ],
   "source": [
    "sns.countplot(y=df['actor1_name'],\n",
    "              order=df['actor1_name'].value_counts().iloc[1:11].index)\n",
    "sns.despine(top=True, right=True)"
   ]
  },
  {
   "cell_type": "code",
   "execution_count": 23,
   "metadata": {
    "ExecuteTime": {
     "end_time": "2021-05-21T19:45:19.035643Z",
     "start_time": "2021-05-21T19:45:18.648331Z"
    }
   },
   "outputs": [],
   "source": [
    "genres = [\n",
    "    'Action', 'Adventure', 'Animation', 'Children', 'Comedy', 'Crime',\n",
    "    'Documentary', 'Drama', 'Fantasy', 'Film-Noir', 'Horror', 'Musical',\n",
    "    'Mystery', 'Romance', 'Sci-Fi', 'Thriller', 'War', 'Western'\n",
    "]\n",
    "\n",
    "genres_rating_list = []\n",
    "\n",
    "for i in range(len(genres)):\n",
    "    fil = genres[i] + '_filter'\n",
    "    mov = genres[i] + '_movies'\n",
    "    rat = genres[i] + '_ratings'\n",
    "    rat_mean = rat + '_mean'\n",
    "    fil = movies['genres'].str.contains(genres[i])\n",
    "    mov = movies[fil]\n",
    "    rat = mov.merge(ratings, on='movieId', how='inner')\n",
    "    rat_mean = round(rat['rating'].mean(), 2)\n",
    "    genres_rating_list.append(rat_mean)\n",
    "\n",
    "genres_rating = {'Genre': genres, 'Genres Mean Rating': genres_rating_list}\n",
    "genres_rating = pd.DataFrame(genres_rating)"
   ]
  },
  {
   "cell_type": "code",
   "execution_count": 24,
   "metadata": {
    "ExecuteTime": {
     "end_time": "2021-05-21T19:45:19.372189Z",
     "start_time": "2021-05-21T19:45:19.039632Z"
    }
   },
   "outputs": [
    {
     "data": {
      "text/plain": [
       "<AxesSubplot:xlabel='Genre', ylabel='Genres Mean Rating'>"
      ]
     },
     "execution_count": 24,
     "metadata": {},
     "output_type": "execute_result"
    },
    {
     "data": {
      "text/plain": [
       "(array([ 0,  1,  2,  3,  4,  5,  6,  7,  8,  9, 10, 11, 12, 13, 14, 15, 16,\n",
       "        17]),\n",
       " [Text(0, 0, 'Action'),\n",
       "  Text(1, 0, 'Adventure'),\n",
       "  Text(2, 0, 'Animation'),\n",
       "  Text(3, 0, 'Children'),\n",
       "  Text(4, 0, 'Comedy'),\n",
       "  Text(5, 0, 'Crime'),\n",
       "  Text(6, 0, 'Documentary'),\n",
       "  Text(7, 0, 'Drama'),\n",
       "  Text(8, 0, 'Fantasy'),\n",
       "  Text(9, 0, 'Film-Noir'),\n",
       "  Text(10, 0, 'Horror'),\n",
       "  Text(11, 0, 'Musical'),\n",
       "  Text(12, 0, 'Mystery'),\n",
       "  Text(13, 0, 'Romance'),\n",
       "  Text(14, 0, 'Sci-Fi'),\n",
       "  Text(15, 0, 'Thriller'),\n",
       "  Text(16, 0, 'War'),\n",
       "  Text(17, 0, 'Western')])"
      ]
     },
     "execution_count": 24,
     "metadata": {},
     "output_type": "execute_result"
    },
    {
     "data": {
      "text/plain": [
       "(3.0, 4.0)"
      ]
     },
     "execution_count": 24,
     "metadata": {},
     "output_type": "execute_result"
    },
    {
     "data": {
      "text/plain": [
       "<matplotlib.lines.Line2D at 0x1d230e7a5b0>"
      ]
     },
     "execution_count": 24,
     "metadata": {},
     "output_type": "execute_result"
    },
    {
     "data": {
      "image/png": "[encoded data removed]",
      "text/plain": [
       "<Figure size 432x288 with 1 Axes>"
      ]
     },
     "metadata": {
      "needs_background": "light"
     },
     "output_type": "display_data"
    }
   ],
   "source": [
    "sns.barplot(x='Genre', y='Genres Mean Rating', data=genres_rating)\n",
    "plt.xticks(rotation=70)\n",
    "plt.ylim([3, 4])\n",
    "plt.tight_layout()\n",
    "plt.axhline(genres_rating['Genres Mean Rating'].mean())\n",
    "sns.despine(top=True, right=True)\n",
    "plt.show()"
   ]
  },
  {
   "cell_type": "code",
   "execution_count": 25,
   "metadata": {
    "ExecuteTime": {
     "end_time": "2021-05-21T19:45:19.581747Z",
     "start_time": "2021-05-21T19:45:19.374155Z"
    }
   },
   "outputs": [
    {
     "data": {
      "text/html": [
       "<div>\n",
       "<style scoped>\n",
       "    .dataframe tbody tr th:only-of-type {\n",
       "        vertical-align: middle;\n",
       "    }\n",
       "\n",
       "    .dataframe tbody tr th {\n",
       "        vertical-align: top;\n",
       "    }\n",
       "\n",
       "    .dataframe thead th {\n",
       "        text-align: right;\n",
       "    }\n",
       "</style>\n",
       "<table border=\"1\" class=\"dataframe\">\n",
       "  <thead>\n",
       "    <tr style=\"text-align: right;\">\n",
       "      <th></th>\n",
       "      <th>Action</th>\n",
       "      <th>Adventure</th>\n",
       "      <th>Animation</th>\n",
       "      <th>Children</th>\n",
       "      <th>Comedy</th>\n",
       "      <th>Crime</th>\n",
       "      <th>Documentary</th>\n",
       "      <th>Drama</th>\n",
       "      <th>Fantasy</th>\n",
       "      <th>Film-Noir</th>\n",
       "      <th>Horror</th>\n",
       "      <th>Musical</th>\n",
       "      <th>Mystery</th>\n",
       "      <th>Romance</th>\n",
       "      <th>Sci-Fi</th>\n",
       "      <th>Thriller</th>\n",
       "      <th>War</th>\n",
       "      <th>Western</th>\n",
       "    </tr>\n",
       "  </thead>\n",
       "  <tbody>\n",
       "    <tr>\n",
       "      <th>0</th>\n",
       "      <td>0</td>\n",
       "      <td>1</td>\n",
       "      <td>1</td>\n",
       "      <td>1</td>\n",
       "      <td>1</td>\n",
       "      <td>0</td>\n",
       "      <td>0</td>\n",
       "      <td>0</td>\n",
       "      <td>1</td>\n",
       "      <td>0</td>\n",
       "      <td>0</td>\n",
       "      <td>0</td>\n",
       "      <td>0</td>\n",
       "      <td>0</td>\n",
       "      <td>0</td>\n",
       "      <td>0</td>\n",
       "      <td>0</td>\n",
       "      <td>0</td>\n",
       "    </tr>\n",
       "    <tr>\n",
       "      <th>1</th>\n",
       "      <td>0</td>\n",
       "      <td>1</td>\n",
       "      <td>0</td>\n",
       "      <td>1</td>\n",
       "      <td>0</td>\n",
       "      <td>0</td>\n",
       "      <td>0</td>\n",
       "      <td>0</td>\n",
       "      <td>1</td>\n",
       "      <td>0</td>\n",
       "      <td>0</td>\n",
       "      <td>0</td>\n",
       "      <td>0</td>\n",
       "      <td>0</td>\n",
       "      <td>0</td>\n",
       "      <td>0</td>\n",
       "      <td>0</td>\n",
       "      <td>0</td>\n",
       "    </tr>\n",
       "    <tr>\n",
       "      <th>2</th>\n",
       "      <td>0</td>\n",
       "      <td>0</td>\n",
       "      <td>0</td>\n",
       "      <td>0</td>\n",
       "      <td>1</td>\n",
       "      <td>0</td>\n",
       "      <td>0</td>\n",
       "      <td>0</td>\n",
       "      <td>0</td>\n",
       "      <td>0</td>\n",
       "      <td>0</td>\n",
       "      <td>0</td>\n",
       "      <td>0</td>\n",
       "      <td>1</td>\n",
       "      <td>0</td>\n",
       "      <td>0</td>\n",
       "      <td>0</td>\n",
       "      <td>0</td>\n",
       "    </tr>\n",
       "    <tr>\n",
       "      <th>3</th>\n",
       "      <td>0</td>\n",
       "      <td>0</td>\n",
       "      <td>0</td>\n",
       "      <td>0</td>\n",
       "      <td>1</td>\n",
       "      <td>0</td>\n",
       "      <td>0</td>\n",
       "      <td>1</td>\n",
       "      <td>0</td>\n",
       "      <td>0</td>\n",
       "      <td>0</td>\n",
       "      <td>0</td>\n",
       "      <td>0</td>\n",
       "      <td>1</td>\n",
       "      <td>0</td>\n",
       "      <td>0</td>\n",
       "      <td>0</td>\n",
       "      <td>0</td>\n",
       "    </tr>\n",
       "    <tr>\n",
       "      <th>4</th>\n",
       "      <td>0</td>\n",
       "      <td>0</td>\n",
       "      <td>0</td>\n",
       "      <td>0</td>\n",
       "      <td>1</td>\n",
       "      <td>0</td>\n",
       "      <td>0</td>\n",
       "      <td>0</td>\n",
       "      <td>0</td>\n",
       "      <td>0</td>\n",
       "      <td>0</td>\n",
       "      <td>0</td>\n",
       "      <td>0</td>\n",
       "      <td>0</td>\n",
       "      <td>0</td>\n",
       "      <td>0</td>\n",
       "      <td>0</td>\n",
       "      <td>0</td>\n",
       "    </tr>\n",
       "  </tbody>\n",
       "</table>\n",
       "</div>"
      ],
      "text/plain": [
       "   Action  Adventure  Animation  Children  Comedy  Crime  Documentary  Drama  \\\n",
       "0       0          1          1         1       1      0            0      0   \n",
       "1       0          1          0         1       0      0            0      0   \n",
       "2       0          0          0         0       1      0            0      0   \n",
       "3       0          0          0         0       1      0            0      1   \n",
       "4       0          0          0         0       1      0            0      0   \n",
       "\n",
       "   Fantasy  Film-Noir  Horror  Musical  Mystery  Romance  Sci-Fi  Thriller  \\\n",
       "0        1          0       0        0        0        0       0         0   \n",
       "1        1          0       0        0        0        0       0         0   \n",
       "2        0          0       0        0        0        1       0         0   \n",
       "3        0          0       0        0        0        1       0         0   \n",
       "4        0          0       0        0        0        0       0         0   \n",
       "\n",
       "   War  Western  \n",
       "0    0        0  \n",
       "1    0        0  \n",
       "2    0        0  \n",
       "3    0        0  \n",
       "4    0        0  "
      ]
     },
     "execution_count": 25,
     "metadata": {},
     "output_type": "execute_result"
    }
   ],
   "source": [
    "genres = movies.genres.str.get_dummies()\n",
    "genres = genres.drop(columns=['(no genres listed)', 'IMAX'])\n",
    "genres.head()"
   ]
  },
  {
   "cell_type": "code",
   "execution_count": 26,
   "metadata": {
    "ExecuteTime": {
     "end_time": "2021-05-21T19:45:19.587708Z",
     "start_time": "2021-05-21T19:45:19.583714Z"
    }
   },
   "outputs": [],
   "source": [
    "total = genres.sum()"
   ]
  },
  {
   "cell_type": "code",
   "execution_count": 27,
   "metadata": {
    "ExecuteTime": {
     "end_time": "2021-05-21T19:45:19.597676Z",
     "start_time": "2021-05-21T19:45:19.589698Z"
    }
   },
   "outputs": [
    {
     "data": {
      "text/plain": [
       "Drama          4361\n",
       "Comedy         3756\n",
       "Thriller       1894\n",
       "Action         1828\n",
       "Romance        1596\n",
       "Adventure      1263\n",
       "Crime          1199\n",
       "Sci-Fi          980\n",
       "Horror          978\n",
       "Fantasy         779\n",
       "Children        664\n",
       "Animation       611\n",
       "Mystery         573\n",
       "Documentary     440\n",
       "War             382\n",
       "Musical         334\n",
       "Western         167\n",
       "Film-Noir        87\n",
       "dtype: int64"
      ]
     },
     "execution_count": 27,
     "metadata": {},
     "output_type": "execute_result"
    }
   ],
   "source": [
    "total.sort_values(ascending=False)"
   ]
  },
  {
   "cell_type": "code",
   "execution_count": 28,
   "metadata": {
    "ExecuteTime": {
     "end_time": "2021-05-21T19:45:19.861998Z",
     "start_time": "2021-05-21T19:45:19.599672Z"
    }
   },
   "outputs": [
    {
     "data": {
      "text/plain": [
       "<AxesSubplot:>"
      ]
     },
     "execution_count": 28,
     "metadata": {},
     "output_type": "execute_result"
    },
    {
     "data": {
      "image/png": "[encoded data removed]",
      "text/plain": [
       "<Figure size 432x288 with 1 Axes>"
      ]
     },
     "metadata": {
      "needs_background": "light"
     },
     "output_type": "display_data"
    }
   ],
   "source": [
    "total.plot(kind='bar')"
   ]
  },
  {
   "cell_type": "code",
   "execution_count": 29,
   "metadata": {
    "ExecuteTime": {
     "end_time": "2021-05-21T19:45:19.869948Z",
     "start_time": "2021-05-21T19:45:19.863965Z"
    }
   },
   "outputs": [
    {
     "data": {
      "text/plain": [
       "3.5672222222222225"
      ]
     },
     "execution_count": 29,
     "metadata": {},
     "output_type": "execute_result"
    }
   ],
   "source": [
    "genres_rating['Genres Mean Rating'].mean()"
   ]
  },
  {
   "cell_type": "markdown",
   "metadata": {},
   "source": [
    "# Content-Based Recommender using Cosine Similarity"
   ]
  },
  {
   "cell_type": "markdown",
   "metadata": {},
   "source": [
    "## Recommender using Synopsis"
   ]
  },
  {
   "cell_type": "code",
   "execution_count": 30,
   "metadata": {
    "ExecuteTime": {
     "end_time": "2021-05-21T19:45:20.497290Z",
     "start_time": "2021-05-21T19:45:19.871944Z"
    }
   },
   "outputs": [
    {
     "data": {
      "text/plain": [
       "(9742, 30537)"
      ]
     },
     "execution_count": 30,
     "metadata": {},
     "output_type": "execute_result"
    }
   ],
   "source": [
    "#Import TfIdfVectorizer from scikit-learn\n",
    "from sklearn.feature_extraction.text import TfidfVectorizer\n",
    "\n",
    "#Define a TF-IDF Vectorizer Object. Remove all english stop words such as 'the', 'a'\n",
    "tfidf = TfidfVectorizer(stop_words='english')\n",
    "\n",
    "#Replace NaN with an empty string\n",
    "df['overview'] = df['overview'].fillna('')\n",
    "\n",
    "#Construct the required TF-IDF matrix by fitting and transforming the data\n",
    "tfidf_matrix = tfidf.fit_transform(df['overview'])\n",
    "\n",
    "#Output the shape of tfidf_matrix\n",
    "tfidf_matrix.shape"
   ]
  },
  {
   "cell_type": "code",
   "execution_count": 31,
   "metadata": {
    "ExecuteTime": {
     "end_time": "2021-05-21T19:45:21.572110Z",
     "start_time": "2021-05-21T19:45:20.499259Z"
    }
   },
   "outputs": [],
   "source": [
    "# Import linear_kernel\n",
    "from sklearn.metrics.pairwise import linear_kernel\n",
    "\n",
    "# Compute the cosine similarity matrix\n",
    "cosine_sim = linear_kernel(tfidf_matrix, tfidf_matrix)"
   ]
  },
  {
   "cell_type": "code",
   "execution_count": 32,
   "metadata": {
    "ExecuteTime": {
     "end_time": "2021-05-21T19:45:21.580063Z",
     "start_time": "2021-05-21T19:45:21.574075Z"
    }
   },
   "outputs": [
    {
     "data": {
      "text/plain": [
       "(9742, 9742)"
      ]
     },
     "execution_count": 32,
     "metadata": {},
     "output_type": "execute_result"
    }
   ],
   "source": [
    "cosine_sim.shape"
   ]
  },
  {
   "cell_type": "code",
   "execution_count": 33,
   "metadata": {
    "ExecuteTime": {
     "end_time": "2021-05-21T19:45:21.594022Z",
     "start_time": "2021-05-21T19:45:21.582055Z"
    }
   },
   "outputs": [
    {
     "data": {
      "text/plain": [
       "title\n",
       "Toy Story (1995)                      0\n",
       "Jumanji (1995)                        1\n",
       "Grumpier Old Men (1995)               2\n",
       "Waiting to Exhale (1995)              3\n",
       "Father of the Bride Part II (1995)    4\n",
       "Heat (1995)                           5\n",
       "Sabrina (1995)                        6\n",
       "Tom and Huck (1995)                   7\n",
       "Sudden Death (1995)                   8\n",
       "GoldenEye (1995)                      9\n",
       "dtype: int64"
      ]
     },
     "execution_count": 33,
     "metadata": {},
     "output_type": "execute_result"
    }
   ],
   "source": [
    "#Construct a reverse map of indices and movie titles\n",
    "indices = pd.Series(df.index, index=df['title']).drop_duplicates()\n",
    "indices[:10]"
   ]
  },
  {
   "cell_type": "code",
   "execution_count": 34,
   "metadata": {
    "ExecuteTime": {
     "end_time": "2021-05-21T19:45:21.602999Z",
     "start_time": "2021-05-21T19:45:21.596019Z"
    }
   },
   "outputs": [],
   "source": [
    "def get_recommendations(title, cosine_sim=cosine_sim):\n",
    "    #Get index of the movie with the input title\n",
    "    idx = indices[title]\n",
    "\n",
    "    #Get the cosine similarity pairwise score of the movie vs others\n",
    "    scores = cosine_sim[idx]  #this is an array\n",
    "\n",
    "    #Create a list with index for the pairwise score\n",
    "    sim_scores = list(enumerate(\n",
    "        scores))  # enumerate creates the index, list creates the list\n",
    "\n",
    "    #Sort the movies based on similarity scores\n",
    "    sim_scores = sorted(\n",
    "        sim_scores,\n",
    "        key=lambda list: list[1],  #sort by score (2nd position of the list)\n",
    "        reverse=True)  #sort from highest to lowest\n",
    "\n",
    "    #Get the scores of the top 10 most similar movies\n",
    "    sim_scores = sim_scores[1:11]  #this is a list\n",
    "\n",
    "    #Get the indices of those similar movies to get their names\n",
    "    movie_indices = [i[0] for i in sim_scores]  #this is an array\n",
    "\n",
    "    #Return the names of the top 10 similar movies\n",
    "    return df['title'].iloc[movie_indices]"
   ]
  },
  {
   "cell_type": "markdown",
   "metadata": {},
   "source": [
    "## Improve Cosine Similarity with Credits, Genres and Keyword"
   ]
  },
  {
   "cell_type": "code",
   "execution_count": 35,
   "metadata": {
    "ExecuteTime": {
     "end_time": "2021-05-21T19:45:21.615963Z",
     "start_time": "2021-05-21T19:45:21.605991Z"
    }
   },
   "outputs": [],
   "source": [
    "df['genres_split'] = df['genres'].str.replace('|', \" \", regex=True)"
   ]
  },
  {
   "cell_type": "code",
   "execution_count": 36,
   "metadata": {
    "ExecuteTime": {
     "end_time": "2021-05-21T19:45:21.622948Z",
     "start_time": "2021-05-21T19:45:21.617959Z"
    }
   },
   "outputs": [],
   "source": [
    "# Function to convert all strings to lower case and strip names of spaces\n",
    "def clean_data(x):\n",
    "    if isinstance(x, list):\n",
    "        return [str.lower(i.replace(\" \", \"\")) for i in x]\n",
    "    else:\n",
    "        if isinstance(x, str):\n",
    "            return str.lower(x.replace(\" \", \"\"))\n",
    "        else:\n",
    "            return ''"
   ]
  },
  {
   "cell_type": "code",
   "execution_count": 37,
   "metadata": {
    "ExecuteTime": {
     "end_time": "2021-05-21T19:45:21.682785Z",
     "start_time": "2021-05-21T19:45:21.625938Z"
    }
   },
   "outputs": [],
   "source": [
    "# Apply clean_data function to features\n",
    "features = [\n",
    "    'production_companies', 'production_countries', 'actor1_name',\n",
    "    'actor2_name', 'actor3_name', 'director_name', 'tag'\n",
    "]\n",
    "\n",
    "for feature in features:\n",
    "    df[feature] = df[feature].apply(clean_data)"
   ]
  },
  {
   "cell_type": "code",
   "execution_count": 38,
   "metadata": {
    "ExecuteTime": {
     "end_time": "2021-05-21T19:45:21.702732Z",
     "start_time": "2021-05-21T19:45:21.683782Z"
    },
    "scrolled": true
   },
   "outputs": [
    {
     "data": {
      "text/html": [
       "<div>\n",
       "<style scoped>\n",
       "    .dataframe tbody tr th:only-of-type {\n",
       "        vertical-align: middle;\n",
       "    }\n",
       "\n",
       "    .dataframe tbody tr th {\n",
       "        vertical-align: top;\n",
       "    }\n",
       "\n",
       "    .dataframe thead th {\n",
       "        text-align: right;\n",
       "    }\n",
       "</style>\n",
       "<table border=\"1\" class=\"dataframe\">\n",
       "  <thead>\n",
       "    <tr style=\"text-align: right;\">\n",
       "      <th></th>\n",
       "      <th>movieId</th>\n",
       "      <th>title</th>\n",
       "      <th>genres</th>\n",
       "      <th>overview</th>\n",
       "      <th>production_companies</th>\n",
       "      <th>production_countries</th>\n",
       "      <th>actor1_name</th>\n",
       "      <th>actor2_name</th>\n",
       "      <th>actor3_name</th>\n",
       "      <th>director_name</th>\n",
       "      <th>tag</th>\n",
       "      <th>year</th>\n",
       "      <th>genres_split</th>\n",
       "    </tr>\n",
       "  </thead>\n",
       "  <tbody>\n",
       "    <tr>\n",
       "      <th>0</th>\n",
       "      <td>1</td>\n",
       "      <td>Toy Story (1995)</td>\n",
       "      <td>Adventure|Animation|Children|Comedy|Fantasy</td>\n",
       "      <td>Led by Woody, Andy's toys live happily in his ...</td>\n",
       "      <td>pixaranimationstudios</td>\n",
       "      <td>unitedstatesofamerica</td>\n",
       "      <td>tomhanks</td>\n",
       "      <td>timallen</td>\n",
       "      <td>donrickles</td>\n",
       "      <td>johnlasseter</td>\n",
       "      <td>pixarfun</td>\n",
       "      <td>1995</td>\n",
       "      <td>Adventure Animation Children Comedy Fantasy</td>\n",
       "    </tr>\n",
       "    <tr>\n",
       "      <th>1</th>\n",
       "      <td>2</td>\n",
       "      <td>Jumanji (1995)</td>\n",
       "      <td>Adventure|Children|Fantasy</td>\n",
       "      <td>When siblings Judy and Peter discover an encha...</td>\n",
       "      <td>tristarpictures</td>\n",
       "      <td>unitedstatesofamerica</td>\n",
       "      <td>robinwilliams</td>\n",
       "      <td>jonathanhyde</td>\n",
       "      <td>kirstendunst</td>\n",
       "      <td>joejohnston</td>\n",
       "      <td>fantasymagicboardgamerobinwilliamsgame</td>\n",
       "      <td>1995</td>\n",
       "      <td>Adventure Children Fantasy</td>\n",
       "    </tr>\n",
       "  </tbody>\n",
       "</table>\n",
       "</div>"
      ],
      "text/plain": [
       "   movieId             title                                       genres  \\\n",
       "0        1  Toy Story (1995)  Adventure|Animation|Children|Comedy|Fantasy   \n",
       "1        2    Jumanji (1995)                   Adventure|Children|Fantasy   \n",
       "\n",
       "                                            overview   production_companies  \\\n",
       "0  Led by Woody, Andy's toys live happily in his ...  pixaranimationstudios   \n",
       "1  When siblings Judy and Peter discover an encha...        tristarpictures   \n",
       "\n",
       "    production_countries    actor1_name   actor2_name   actor3_name  \\\n",
       "0  unitedstatesofamerica       tomhanks      timallen    donrickles   \n",
       "1  unitedstatesofamerica  robinwilliams  jonathanhyde  kirstendunst   \n",
       "\n",
       "  director_name                                     tag  year  \\\n",
       "0  johnlasseter                                pixarfun  1995   \n",
       "1   joejohnston  fantasymagicboardgamerobinwilliamsgame  1995   \n",
       "\n",
       "                                  genres_split  \n",
       "0  Adventure Animation Children Comedy Fantasy  \n",
       "1                   Adventure Children Fantasy  "
      ]
     },
     "execution_count": 38,
     "metadata": {},
     "output_type": "execute_result"
    }
   ],
   "source": [
    "df.head(2)"
   ]
  },
  {
   "cell_type": "code",
   "execution_count": 39,
   "metadata": {
    "ExecuteTime": {
     "end_time": "2021-05-21T19:45:21.791508Z",
     "start_time": "2021-05-21T19:45:21.705724Z"
    }
   },
   "outputs": [],
   "source": [
    "df['soup'] = df['overview'] + \" \" + df['production_countries'] + \" \" + \n",
    "             df['production_companies'] + \" \" + df['actor1_name'] + \" \" + \n",
    "             df['actor2_name'] + \" \" + df['actor3_name'] + \" \" + \n",
    "             df['director_name'] + \" \" + df['year'] + \" \" + df['genres_split'] + \" \" + \n",
    "             df['tag']"
   ]
  },
  {
   "cell_type": "code",
   "execution_count": 40,
   "metadata": {
    "ExecuteTime": {
     "end_time": "2021-05-21T19:45:22.540598Z",
     "start_time": "2021-05-21T19:45:21.793490Z"
    }
   },
   "outputs": [],
   "source": [
    "# Import CountVectorizer and create the count matrix\n",
    "from sklearn.feature_extraction.text import CountVectorizer\n",
    "\n",
    "count = CountVectorizer(stop_words='english')\n",
    "count_matrix = count.fit_transform(df['soup'])"
   ]
  },
  {
   "cell_type": "code",
   "execution_count": 41,
   "metadata": {
    "ExecuteTime": {
     "end_time": "2021-05-21T19:45:22.547546Z",
     "start_time": "2021-05-21T19:45:22.542558Z"
    }
   },
   "outputs": [
    {
     "data": {
      "text/plain": [
       "(9742, 48021)"
      ]
     },
     "execution_count": 41,
     "metadata": {},
     "output_type": "execute_result"
    }
   ],
   "source": [
    "count_matrix.shape"
   ]
  },
  {
   "cell_type": "code",
   "execution_count": 42,
   "metadata": {
    "ExecuteTime": {
     "end_time": "2021-05-21T19:46:24.520684Z",
     "start_time": "2021-05-21T19:46:24.515697Z"
    }
   },
   "outputs": [
    {
     "data": {
      "text/plain": [
       "array([25558, 47262,  2297, ..., 36099, 42447, 22128])"
      ]
     },
     "execution_count": 42,
     "metadata": {},
     "output_type": "execute_result"
    }
   ],
   "source": [
    "count_matrix.indices"
   ]
  },
  {
   "cell_type": "code",
   "execution_count": 43,
   "metadata": {
    "ExecuteTime": {
     "end_time": "2021-05-21T19:45:24.695235Z",
     "start_time": "2021-05-21T19:45:22.549542Z"
    }
   },
   "outputs": [],
   "source": [
    "# Compute the Cosine Similarity matrix based on the count_matrix\n",
    "from sklearn.metrics.pairwise import cosine_similarity\n",
    "\n",
    "cosine_sim2 = cosine_similarity(count_matrix, count_matrix)"
   ]
  },
  {
   "cell_type": "code",
   "execution_count": 44,
   "metadata": {
    "ExecuteTime": {
     "end_time": "2021-05-21T19:45:24.717141Z",
     "start_time": "2021-05-21T19:45:24.697196Z"
    }
   },
   "outputs": [
    {
     "data": {
      "text/html": [
       "<div>\n",
       "<style scoped>\n",
       "    .dataframe tbody tr th:only-of-type {\n",
       "        vertical-align: middle;\n",
       "    }\n",
       "\n",
       "    .dataframe tbody tr th {\n",
       "        vertical-align: top;\n",
       "    }\n",
       "\n",
       "    .dataframe thead th {\n",
       "        text-align: right;\n",
       "    }\n",
       "</style>\n",
       "<table border=\"1\" class=\"dataframe\">\n",
       "  <thead>\n",
       "    <tr style=\"text-align: right;\">\n",
       "      <th></th>\n",
       "      <th>movieId</th>\n",
       "      <th>title</th>\n",
       "      <th>genres</th>\n",
       "      <th>overview</th>\n",
       "      <th>production_companies</th>\n",
       "      <th>production_countries</th>\n",
       "      <th>actor1_name</th>\n",
       "      <th>actor2_name</th>\n",
       "      <th>actor3_name</th>\n",
       "      <th>director_name</th>\n",
       "      <th>tag</th>\n",
       "      <th>year</th>\n",
       "      <th>genres_split</th>\n",
       "      <th>soup</th>\n",
       "    </tr>\n",
       "  </thead>\n",
       "  <tbody>\n",
       "    <tr>\n",
       "      <th>0</th>\n",
       "      <td>1</td>\n",
       "      <td>Toy Story (1995)</td>\n",
       "      <td>Adventure|Animation|Children|Comedy|Fantasy</td>\n",
       "      <td>Led by Woody, Andy's toys live happily in his ...</td>\n",
       "      <td>pixaranimationstudios</td>\n",
       "      <td>unitedstatesofamerica</td>\n",
       "      <td>tomhanks</td>\n",
       "      <td>timallen</td>\n",
       "      <td>donrickles</td>\n",
       "      <td>johnlasseter</td>\n",
       "      <td>pixarfun</td>\n",
       "      <td>1995</td>\n",
       "      <td>Adventure Animation Children Comedy Fantasy</td>\n",
       "      <td>Led by Woody, Andy's toys live happily in his ...</td>\n",
       "    </tr>\n",
       "    <tr>\n",
       "      <th>1</th>\n",
       "      <td>2</td>\n",
       "      <td>Jumanji (1995)</td>\n",
       "      <td>Adventure|Children|Fantasy</td>\n",
       "      <td>When siblings Judy and Peter discover an encha...</td>\n",
       "      <td>tristarpictures</td>\n",
       "      <td>unitedstatesofamerica</td>\n",
       "      <td>robinwilliams</td>\n",
       "      <td>jonathanhyde</td>\n",
       "      <td>kirstendunst</td>\n",
       "      <td>joejohnston</td>\n",
       "      <td>fantasymagicboardgamerobinwilliamsgame</td>\n",
       "      <td>1995</td>\n",
       "      <td>Adventure Children Fantasy</td>\n",
       "      <td>When siblings Judy and Peter discover an encha...</td>\n",
       "    </tr>\n",
       "  </tbody>\n",
       "</table>\n",
       "</div>"
      ],
      "text/plain": [
       "   movieId             title                                       genres  \\\n",
       "0        1  Toy Story (1995)  Adventure|Animation|Children|Comedy|Fantasy   \n",
       "1        2    Jumanji (1995)                   Adventure|Children|Fantasy   \n",
       "\n",
       "                                            overview   production_companies  \\\n",
       "0  Led by Woody, Andy's toys live happily in his ...  pixaranimationstudios   \n",
       "1  When siblings Judy and Peter discover an encha...        tristarpictures   \n",
       "\n",
       "    production_countries    actor1_name   actor2_name   actor3_name  \\\n",
       "0  unitedstatesofamerica       tomhanks      timallen    donrickles   \n",
       "1  unitedstatesofamerica  robinwilliams  jonathanhyde  kirstendunst   \n",
       "\n",
       "  director_name                                     tag  year  \\\n",
       "0  johnlasseter                                pixarfun  1995   \n",
       "1   joejohnston  fantasymagicboardgamerobinwilliamsgame  1995   \n",
       "\n",
       "                                  genres_split  \\\n",
       "0  Adventure Animation Children Comedy Fantasy   \n",
       "1                   Adventure Children Fantasy   \n",
       "\n",
       "                                                soup  \n",
       "0  Led by Woody, Andy's toys live happily in his ...  \n",
       "1  When siblings Judy and Peter discover an encha...  "
      ]
     },
     "execution_count": 44,
     "metadata": {},
     "output_type": "execute_result"
    }
   ],
   "source": [
    "df.head(2)"
   ]
  },
  {
   "cell_type": "code",
   "execution_count": 45,
   "metadata": {
    "ExecuteTime": {
     "end_time": "2021-05-21T19:45:24.737089Z",
     "start_time": "2021-05-21T19:45:24.719137Z"
    },
    "cell_style": "center",
    "scrolled": true
   },
   "outputs": [
    {
     "data": {
      "text/plain": [
       "7355                Toy Story 3 (2010)\n",
       "2355                Toy Story 2 (1999)\n",
       "5972    40-Year-Old Virgin, The (2005)\n",
       "840       Rebel Without a Cause (1955)\n",
       "2392            Man on the Moon (1999)\n",
       "6343     For Your Consideration (2006)\n",
       "9207       Welcome to Happiness (2015)\n",
       "1512                  Condorman (1981)\n",
       "427                      Malice (1993)\n",
       "6421               Factory Girl (2006)\n",
       "Name: title, dtype: object"
      ]
     },
     "execution_count": 45,
     "metadata": {},
     "output_type": "execute_result"
    }
   ],
   "source": [
    "get_recommendations('Toy Story (1995)', cosine_sim)"
   ]
  },
  {
   "cell_type": "code",
   "execution_count": 46,
   "metadata": {
    "ExecuteTime": {
     "end_time": "2021-05-21T19:45:24.761025Z",
     "start_time": "2021-05-21T19:45:24.739084Z"
    },
    "cell_style": "center"
   },
   "outputs": [
    {
     "data": {
      "text/plain": [
       "2355                                   Toy Story 2 (1999)\n",
       "7355                                   Toy Story 3 (2010)\n",
       "5972                       40-Year-Old Virgin, The (2005)\n",
       "7733                                 Puss in Boots (2011)\n",
       "8385                         Mr. Peabody & Sherman (2014)\n",
       "9586           In the blue sea, in the white foam. (1984)\n",
       "3568                                Monsters, Inc. (2001)\n",
       "8715                                 Halloweentown (1998)\n",
       "8219                                         Turbo (2013)\n",
       "585     Wallace & Gromit: The Best of Aardman Animatio...\n",
       "Name: title, dtype: object"
      ]
     },
     "execution_count": 46,
     "metadata": {},
     "output_type": "execute_result"
    }
   ],
   "source": [
    "get_recommendations('Toy Story (1995)', cosine_sim2)"
   ]
  },
  {
   "cell_type": "markdown",
   "metadata": {},
   "source": [
    "# Save model for reuse"
   ]
  },
  {
   "cell_type": "code",
   "execution_count": 39,
   "metadata": {},
   "outputs": [],
   "source": [
    "import pickle"
   ]
  },
  {
   "cell_type": "code",
   "execution_count": 40,
   "metadata": {},
   "outputs": [],
   "source": [
    "filename = 'content_based_imdb_webscraping_model.sav'\n",
    "pickle.dump(svd, open(filename, 'wb'))"
   ]
  }
 ],
 "metadata": {
  "kernelspec": {
   "display_name": "Python 3",
   "language": "python",
   "name": "python3"
  },
  "language_info": {
   "codemirror_mode": {
    "name": "ipython",
    "version": 3
   },
   "file_extension": ".py",
   "mimetype": "text/x-python",
   "name": "python",
   "nbconvert_exporter": "python",
   "pygments_lexer": "ipython3",
   "version": "3.8.8"
  },
  "toc": {
   "base_numbering": 1,
   "nav_menu": {},
   "number_sections": true,
   "sideBar": true,
   "skip_h1_title": false,
   "title_cell": "Table of Contents",
   "title_sidebar": "Contents",
   "toc_cell": false,
   "toc_position": {
    "height": "calc(100% - 180px)",
    "left": "10px",
    "top": "150px",
    "width": "165px"
   },
   "toc_section_display": true,
   "toc_window_display": true
  },
  "toc-autonumbering": false,
  "toc-showmarkdowntxt": false,
  "toc-showtags": false,
  "varInspector": {
   "cols": {
    "lenName": 16,
    "lenType": 16,
    "lenVar": 40
   },
   "kernels_config": {
    "python": {
     "delete_cmd_postfix": "",
     "delete_cmd_prefix": "del ",
     "library": "var_list.py",
     "varRefreshCmd": "print(var_dic_list())"
    },
    "r": {
     "delete_cmd_postfix": ") ",
     "delete_cmd_prefix": "rm(",
     "library": "var_list.r",
     "varRefreshCmd": "cat(var_dic_list()) "
    }
   },
   "types_to_exclude": [
    "module",
    "function",
    "builtin_function_or_method",
    "instance",
    "_Feature"
   ],
   "window_display": false
  }
 },
 "nbformat": 4,
 "nbformat_minor": 4
}
