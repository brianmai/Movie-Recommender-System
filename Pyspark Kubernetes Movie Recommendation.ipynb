{
 "cells": [
  {
   "cell_type": "markdown",
   "metadata": {},
   "source": [
    "# 1. Import Dataset & Packages"
   ]
  },
  {
   "cell_type": "markdown",
   "metadata": {},
   "source": [
    "## 1.1 Import Packages"
   ]
  },
  {
   "cell_type": "code",
   "execution_count": 345,
   "metadata": {
    "ExecuteTime": {
     "end_time": "2021-05-21T19:45:12.394518Z",
     "start_time": "2021-05-21T19:45:08.450875Z"
    }
   },
   "outputs": [],
   "source": [
    "import pandas as pd # manipulate dataframe\n",
    "import numpy as np # array, linear algebra\n",
    "\n",
    "# Visualization\n",
    "import matplotlib.pyplot as plt\n",
    "import seaborn as sns\n",
    "\n",
    "# Web Scraping\n",
    "import requests\n",
    "from bs4 import BeautifulSoup\n",
    "\n",
    "# Make web scraping 10 times faster\n",
    "import lxml\n",
    "import cchardet\n",
    "\n",
    "from datetime import date # get today's date for most updated data\n",
    "\n",
    "# Save model for reuse\n",
    "import pickle\n",
    "\n",
    "# Create a web application\n",
    "import streamlit as st\n",
    "\n",
    "# Hide warning\n",
    "import warnings\n",
    "warnings.filterwarnings('ignore')\n",
    "\n",
    "%matplotlib inline"
   ]
  },
  {
   "cell_type": "code",
   "execution_count": 2,
   "metadata": {
    "ExecuteTime": {
     "end_time": "2021-05-21T19:45:12.407483Z",
     "start_time": "2021-05-21T19:45:12.402496Z"
    }
   },
   "outputs": [],
   "source": [
    "# Run and display all commands in a cell\n",
    "from IPython.core.interactiveshell import InteractiveShell\n",
    "InteractiveShell.ast_node_interactivity = \"all\""
   ]
  },
  {
   "cell_type": "markdown",
   "metadata": {},
   "source": [
    "## 1.2 Web Scraping"
   ]
  },
  {
   "cell_type": "code",
   "execution_count": 338,
   "metadata": {},
   "outputs": [
    {
     "name": "stdout",
     "output_type": "stream",
     "text": [
      "Wall time: 13min 53s\n"
     ]
    }
   ],
   "source": [
    "%%time\n",
    "\n",
    "# Scrape data from IMDB movie database\n",
    "\n",
    "# 1st pass requirements: Movie, English language, rating 4+, year 2018+, scrape 1st 3000 movies by popularity\n",
    "# 2nd pass requirements: same as 1st, add concurrent thread for faster scraping\n",
    "# Link to scrape: https://www.imdb.com/search/title/?title_type=feature&release_date=2018-01-01,2022-02-17&user_rating=4.0,&languages=en\n",
    "# Link to go to next page, each page display only 50 movies: https://www.imdb.com/search/title/?title_type=feature&release_date=2019-01-01,2022-02-17&user_rating=4.0,&languages=en&start=51&ref_=adv_nxt\n",
    "\n",
    "# Create empty array to store information:\n",
    "movie_name = []\n",
    "year =[]\n",
    "runtime =[]\n",
    "rating =[]\n",
    "metascore =[]\n",
    "stars =[]\n",
    "synopsis =[]\n",
    "genre= []\n",
    "\n",
    "# Create condition for scraping:\n",
    "# Link to get customized header: https://www.whatismybrowser.com/detect/what-http-headers-is-my-browser-sending\n",
    "my_headers ={\n",
    "    'User-Agent': 'Mozilla/5.0 (Windows NT 10.0; Win64; x64; rv:96.0) Gecko/20100101 Firefox/96.0',\n",
    "    'Accept': 'text/html,application/xhtml+xml,application/xml;q=0.9,image/avif,image/webp,*/*;q=0.8'\n",
    "}\n",
    "\n",
    "today = date.today().strftime(\"%Y-%m-%m\") # Get today's date to get most relevant data\n",
    "pages = np.arange(1,70000,250) #array of number of movies to impute to link to get next 250 movies\n",
    "\n",
    "for page in pages:\n",
    "    page = requests.get('https://www.imdb.com/search/title/?title_type=feature&release_date=2018-01-01,' +str(today) +\n",
    "                        '&user_rating=4.0,&languages=en&count=250&start=' +str(page)+'&ref_=adv_nxt')\n",
    "#    soup = BeautifulSoup(page.text, 'html.parser')\n",
    "    soup = BeautifulSoup(page.text, 'lxml')\n",
    "    movies = soup.findAll('div', class_ ='lister-item mode-advanced')\n",
    "\n",
    "    for movie in movies:\n",
    "        movie_name.append(movie.h3.a.text) # Get movie name\n",
    "        year.append(movie.h3.text[-6:-2]) # Get year \n",
    "        runtime.append(movie.find('span', class_ ='runtime').text if movie.find('span', class_ ='runtime') else None)  # Get runtime \n",
    "        rating.append(movie.find('div', class_ = \"inline-block ratings-imdb-rating\").text.replace('\\n', '') if movie.find('div', class_ =\"inline-block ratings-imdb-rating\") else None) # Get rating\n",
    "        metascore.append(movie.find('span', class_ = \"metascore\").text if movie.find('span', class_ = \"metascore\") else None) # Get metascore\n",
    "        synopsis.append(movie.find_all('p', class_ ='text-muted')[1].text.replace('\\n','')) # Get synopsis\n",
    "        genre.append(movie.find('span', class_ ='genre').text.replace('\\n','') if movie.find('span', class_ ='genre') else None) # Get genre\n",
    "        stars.append([x.text for x in d] if (d := movie.select('a[href*=\"name\"]')) else '')"
   ]
  },
  {
   "cell_type": "code",
   "execution_count": 339,
   "metadata": {
    "tags": []
   },
   "outputs": [],
   "source": [
    "movies_df = pd.DataFrame({\"Movie_Name\": movie_name, \n",
    "                        \"Release_Year\" : year, \n",
    "                        \"Runtime\": runtime,\n",
    "                       \"Genre\": genre,\n",
    "                       \"Movie_Rating\": rating, \n",
    "                       \"Critic_Rating\": metascore,\n",
    "                       \"Stars\": stars,\n",
    "                       \"Synopsis\": synopsis})"
   ]
  },
  {
   "cell_type": "code",
   "execution_count": 340,
   "metadata": {},
   "outputs": [],
   "source": [
    "movies_df.to_csv(\"imdb_scraped_movies.csv\", index=False)"
   ]
  },
  {
   "cell_type": "markdown",
   "metadata": {},
   "source": [
    "## Summary"
   ]
  },
  {
   "cell_type": "code",
   "execution_count": 315,
   "metadata": {
    "cell_style": "split",
    "collapsed": true,
    "jupyter": {
     "outputs_hidden": true
    },
    "tags": []
   },
   "outputs": [
    {
     "data": {
      "text/html": [
       "<div>\n",
       "<style scoped>\n",
       "    .dataframe tbody tr th:only-of-type {\n",
       "        vertical-align: middle;\n",
       "    }\n",
       "\n",
       "    .dataframe tbody tr th {\n",
       "        vertical-align: top;\n",
       "    }\n",
       "\n",
       "    .dataframe thead th {\n",
       "        text-align: right;\n",
       "    }\n",
       "</style>\n",
       "<table border=\"1\" class=\"dataframe\">\n",
       "  <thead>\n",
       "    <tr style=\"text-align: right;\">\n",
       "      <th></th>\n",
       "      <th>Movie_Name</th>\n",
       "      <th>Release_Year</th>\n",
       "      <th>Runtime</th>\n",
       "      <th>Genre</th>\n",
       "      <th>Movie_Rating</th>\n",
       "      <th>Critic_Rating</th>\n",
       "      <th>Stars</th>\n",
       "      <th>Synopsis</th>\n",
       "    </tr>\n",
       "  </thead>\n",
       "  <tbody>\n",
       "    <tr>\n",
       "      <th>0</th>\n",
       "      <td>Nightmare Alley</td>\n",
       "      <td>2021</td>\n",
       "      <td>150 min</td>\n",
       "      <td>Crime, Drama, Thriller</td>\n",
       "      <td>7.2</td>\n",
       "      <td>70</td>\n",
       "      <td>[Guillermo del Toro, Bradley Cooper, Cate Blan...</td>\n",
       "      <td>An ambitious carny with a talent for manipulat...</td>\n",
       "    </tr>\n",
       "    <tr>\n",
       "      <th>1</th>\n",
       "      <td>The Power of the Dog</td>\n",
       "      <td>2021</td>\n",
       "      <td>126 min</td>\n",
       "      <td>Drama, Romance, Western</td>\n",
       "      <td>6.9</td>\n",
       "      <td>89</td>\n",
       "      <td>[Jane Campion, Benedict Cumberbatch, Kirsten D...</td>\n",
       "      <td>Charismatic rancher Phil Burbank inspires fear...</td>\n",
       "    </tr>\n",
       "  </tbody>\n",
       "</table>\n",
       "</div>"
      ],
      "text/plain": [
       "             Movie_Name Release_Year  Runtime  \\\n",
       "0       Nightmare Alley         2021  150 min   \n",
       "1  The Power of the Dog         2021  126 min   \n",
       "\n",
       "                                 Genre Movie_Rating Critic_Rating  \\\n",
       "0   Crime, Drama, Thriller                      7.2    70           \n",
       "1  Drama, Romance, Western                      6.9    89           \n",
       "\n",
       "                                               Stars  \\\n",
       "0  [Guillermo del Toro, Bradley Cooper, Cate Blan...   \n",
       "1  [Jane Campion, Benedict Cumberbatch, Kirsten D...   \n",
       "\n",
       "                                            Synopsis  \n",
       "0  An ambitious carny with a talent for manipulat...  \n",
       "1  Charismatic rancher Phil Burbank inspires fear...  "
      ]
     },
     "execution_count": 315,
     "metadata": {},
     "output_type": "execute_result"
    },
    {
     "name": "stdout",
     "output_type": "stream",
     "text": [
      "<class 'pandas.core.frame.DataFrame'>\n",
      "RangeIndex: 70000 entries, 0 to 69999\n",
      "Data columns (total 8 columns):\n",
      " #   Column         Non-Null Count  Dtype \n",
      "---  ------         --------------  ----- \n",
      " 0   Movie_Name     70000 non-null  object\n",
      " 1   Release_Year   70000 non-null  object\n",
      " 2   Runtime        69248 non-null  object\n",
      " 3   Genre          69936 non-null  object\n",
      " 4   Movie_Rating   70000 non-null  object\n",
      " 5   Critic_Rating  57888 non-null  object\n",
      " 6   Stars          70000 non-null  object\n",
      " 7   Synopsis       70000 non-null  object\n",
      "dtypes: object(8)\n",
      "memory usage: 4.3+ MB\n"
     ]
    },
    {
     "data": {
      "text/html": [
       "<div>\n",
       "<style scoped>\n",
       "    .dataframe tbody tr th:only-of-type {\n",
       "        vertical-align: middle;\n",
       "    }\n",
       "\n",
       "    .dataframe tbody tr th {\n",
       "        vertical-align: top;\n",
       "    }\n",
       "\n",
       "    .dataframe thead th {\n",
       "        text-align: right;\n",
       "    }\n",
       "</style>\n",
       "<table border=\"1\" class=\"dataframe\">\n",
       "  <thead>\n",
       "    <tr style=\"text-align: right;\">\n",
       "      <th></th>\n",
       "      <th>Movie_Name</th>\n",
       "      <th>Release_Year</th>\n",
       "      <th>Runtime</th>\n",
       "      <th>Genre</th>\n",
       "      <th>Movie_Rating</th>\n",
       "      <th>Critic_Rating</th>\n",
       "      <th>Stars</th>\n",
       "      <th>Synopsis</th>\n",
       "    </tr>\n",
       "  </thead>\n",
       "  <tbody>\n",
       "    <tr>\n",
       "      <th>count</th>\n",
       "      <td>70000</td>\n",
       "      <td>70000</td>\n",
       "      <td>69248</td>\n",
       "      <td>69936</td>\n",
       "      <td>70000</td>\n",
       "      <td>57888</td>\n",
       "      <td>70000</td>\n",
       "      <td>70000</td>\n",
       "    </tr>\n",
       "    <tr>\n",
       "      <th>unique</th>\n",
       "      <td>9798</td>\n",
       "      <td>9</td>\n",
       "      <td>160</td>\n",
       "      <td>476</td>\n",
       "      <td>61</td>\n",
       "      <td>88</td>\n",
       "      <td>9963</td>\n",
       "      <td>9757</td>\n",
       "    </tr>\n",
       "    <tr>\n",
       "      <th>top</th>\n",
       "      <td>The Courier</td>\n",
       "      <td>2021</td>\n",
       "      <td>109 min</td>\n",
       "      <td>Drama</td>\n",
       "      <td>7.3</td>\n",
       "      <td>53</td>\n",
       "      <td>[David Gordon Green, Jamie Lee Curtis, Judy Gr...</td>\n",
       "      <td>Add a Plot</td>\n",
       "    </tr>\n",
       "    <tr>\n",
       "      <th>freq</th>\n",
       "      <td>242</td>\n",
       "      <td>31834</td>\n",
       "      <td>2985</td>\n",
       "      <td>4558</td>\n",
       "      <td>3785</td>\n",
       "      <td>2215</td>\n",
       "      <td>242</td>\n",
       "      <td>242</td>\n",
       "    </tr>\n",
       "  </tbody>\n",
       "</table>\n",
       "</div>"
      ],
      "text/plain": [
       "         Movie_Name Release_Year  Runtime              Genre Movie_Rating  \\\n",
       "count         70000        70000    69248              69936        70000   \n",
       "unique         9798            9      160                476           61   \n",
       "top     The Courier         2021  109 min  Drama                      7.3   \n",
       "freq            242        31834     2985               4558         3785   \n",
       "\n",
       "       Critic_Rating                                              Stars  \\\n",
       "count          57888                                              70000   \n",
       "unique            88                                               9963   \n",
       "top       53          [David Gordon Green, Jamie Lee Curtis, Judy Gr...   \n",
       "freq            2215                                                242   \n",
       "\n",
       "          Synopsis  \n",
       "count        70000  \n",
       "unique        9757  \n",
       "top     Add a Plot  \n",
       "freq           242  "
      ]
     },
     "execution_count": 315,
     "metadata": {},
     "output_type": "execute_result"
    }
   ],
   "source": [
    "movies_df.head(2)\n",
    "movies_df.info()\n",
    "movies_df.describe()"
   ]
  },
  {
   "cell_type": "markdown",
   "metadata": {},
   "source": [
    "# Data Manipulation"
   ]
  },
  {
   "cell_type": "code",
   "execution_count": 341,
   "metadata": {
    "tags": []
   },
   "outputs": [],
   "source": [
    "# Convert Stars' list to string\n",
    "movies_df['Stars'] = movies_df['Stars'].fillna('')\n",
    "\n",
    "li =[]\n",
    "for row in movies_df['Stars']:\n",
    "    star=', '.join(map(str,row))\n",
    "    li.append(star)\n",
    "    \n",
    "movies_df['Stars'] =pd.Series(li)"
   ]
  },
  {
   "cell_type": "code",
   "execution_count": 342,
   "metadata": {},
   "outputs": [
    {
     "name": "stdout",
     "output_type": "stream",
     "text": [
      "<class 'pandas.core.frame.DataFrame'>\n",
      "RangeIndex: 70000 entries, 0 to 69999\n",
      "Data columns (total 8 columns):\n",
      " #   Column         Non-Null Count  Dtype \n",
      "---  ------         --------------  ----- \n",
      " 0   Movie_Name     70000 non-null  object\n",
      " 1   Release_Year   70000 non-null  object\n",
      " 2   Runtime        69247 non-null  object\n",
      " 3   Genre          69936 non-null  object\n",
      " 4   Movie_Rating   70000 non-null  object\n",
      " 5   Critic_Rating  57888 non-null  object\n",
      " 6   Stars          70000 non-null  object\n",
      " 7   Synopsis       70000 non-null  object\n",
      "dtypes: object(8)\n",
      "memory usage: 4.3+ MB\n"
     ]
    }
   ],
   "source": [
    "movies_df.info()"
   ]
  },
  {
   "cell_type": "code",
   "execution_count": 343,
   "metadata": {},
   "outputs": [
    {
     "data": {
      "text/plain": [
       "3626    bimi\n",
       "6137    mmer\n",
       "7584    ll 2\n",
       "9625    enda\n",
       "Name: Release_Year, dtype: object"
      ]
     },
     "execution_count": 343,
     "metadata": {},
     "output_type": "execute_result"
    }
   ],
   "source": [
    "movies_df[movies_df['Release_Year'].isin(['bimi','mmer','ll 2','enda'])]['Release_Year']"
   ]
  },
  {
   "cell_type": "code",
   "execution_count": 304,
   "metadata": {},
   "outputs": [
    {
     "data": {
      "text/plain": [
       "array(['2021', '2022', '2020', '2019', '2018', 'bimi', 'mmer', 'll 2',\n",
       "       'enda'], dtype=object)"
      ]
     },
     "execution_count": 304,
     "metadata": {},
     "output_type": "execute_result"
    }
   ],
   "source": [
    "movies_df['Release_Year'].unique()"
   ]
  },
  {
   "cell_type": "code",
   "execution_count": 290,
   "metadata": {},
   "outputs": [],
   "source": [
    "# Cast columns to correct datatype\n",
    "movies_df['Release_Year'] =movies_df['Release_Year'].astype('int32')\n",
    "movies_df['Movie_Rating'] =movies_df['Movie_Rating'].astype('float')\n",
    "movies_df['Critic_Rating'] =movies_df['Critic_Rating'].astype('float')\n",
    "\n",
    "# Replace empty values with NaN value\n",
    "movies_df = movies_df.fillna('')\n",
    "# movies_df.isnull().sum().sort_values(ascending=False)\n",
    "\n",
    "# Remove 'min' in Runtime and cast to datetime\n",
    "movies_df['Runtime'] =movies_df['Runtime'].str[:-4]\n",
    "#movies_df['Runtime'] =movies_df['Runtime'].astype('int32')"
   ]
  },
  {
   "cell_type": "code",
   "execution_count": null,
   "metadata": {},
   "outputs": [],
   "source": [
    "df = movies_df.copy()"
   ]
  },
  {
   "cell_type": "markdown",
   "metadata": {},
   "source": [
    "# Data Exploratory Analysis"
   ]
  },
  {
   "cell_type": "markdown",
   "metadata": {},
   "source": [
    "# Content-Based Recommender using Cosine Similarity"
   ]
  },
  {
   "cell_type": "markdown",
   "metadata": {},
   "source": [
    "## Recommender using Synopsis"
   ]
  },
  {
   "cell_type": "code",
   "execution_count": null,
   "metadata": {
    "ExecuteTime": {
     "end_time": "2021-05-21T19:45:20.497290Z",
     "start_time": "2021-05-21T19:45:19.871944Z"
    }
   },
   "outputs": [],
   "source": [
    "#Import TfIdfVectorizer from scikit-learn\n",
    "from sklearn.feature_extraction.text import TfidfVectorizer\n",
    "\n",
    "#Define a TF-IDF Vectorizer Object. Remove all english stop words such as 'the', 'a'\n",
    "tfidf = TfidfVectorizer(stop_words='english')\n",
    "\n",
    "#Replace NaN with an empty string\n",
    "df['Synopsis'] = df['Synopsis'].fillna('')\n",
    "\n",
    "#Construct the required TF-IDF matrix by fitting and transforming the data\n",
    "tfidf_matrix = tfidf.fit_transform(df['Synopsis'])\n",
    "\n",
    "#Output the shape of tfidf_matrix\n",
    "tfidf_matrix.shape"
   ]
  },
  {
   "cell_type": "code",
   "execution_count": null,
   "metadata": {
    "ExecuteTime": {
     "end_time": "2021-05-21T19:45:21.572110Z",
     "start_time": "2021-05-21T19:45:20.499259Z"
    }
   },
   "outputs": [],
   "source": [
    "# Import linear_kernel\n",
    "from sklearn.metrics.pairwise import linear_kernel\n",
    "\n",
    "# Compute the cosine similarity matrix\n",
    "cosine_sim = linear_kernel(tfidf_matrix, tfidf_matrix)"
   ]
  },
  {
   "cell_type": "code",
   "execution_count": null,
   "metadata": {
    "ExecuteTime": {
     "end_time": "2021-05-21T19:45:21.580063Z",
     "start_time": "2021-05-21T19:45:21.574075Z"
    }
   },
   "outputs": [],
   "source": [
    "cosine_sim.shape"
   ]
  },
  {
   "cell_type": "code",
   "execution_count": null,
   "metadata": {
    "ExecuteTime": {
     "end_time": "2021-05-21T19:45:21.594022Z",
     "start_time": "2021-05-21T19:45:21.582055Z"
    }
   },
   "outputs": [],
   "source": [
    "#Construct a reverse map of indices and movie titles\n",
    "indices = pd.Series(df.index, index=df['Movie_Name']).drop_duplicates()\n",
    "indices[:10]"
   ]
  },
  {
   "cell_type": "code",
   "execution_count": null,
   "metadata": {
    "ExecuteTime": {
     "end_time": "2021-05-21T19:45:21.602999Z",
     "start_time": "2021-05-21T19:45:21.596019Z"
    }
   },
   "outputs": [],
   "source": [
    "def get_recommendations(title, cosine_sim=cosine_sim):\n",
    "    #Get index of the movie with the input title\n",
    "    idx = indices[title]\n",
    "\n",
    "    #Get the cosine similarity pairwise score of the movie vs others\n",
    "    scores = cosine_sim[idx]  #this is an array\n",
    "\n",
    "    #Create a list with index for the pairwise score\n",
    "    sim_scores = list(enumerate(\n",
    "        scores))  # enumerate creates the index, list creates the list\n",
    "\n",
    "    #Sort the movies based on similarity scores\n",
    "    sim_scores = sorted(\n",
    "        sim_scores,\n",
    "        key=lambda list: list[1],  #sort by score (2nd position of the list)\n",
    "        reverse=True)  #sort from highest to lowest\n",
    "\n",
    "    #Get the scores of the top 10 most similar movies\n",
    "    sim_scores = sim_scores[1:11]  #this is a list\n",
    "\n",
    "    #Get the indices of those similar movies to get their names\n",
    "    movie_indices = [i[0] for i in sim_scores]  #this is an array\n",
    "\n",
    "    #Return the names of the top 10 similar movies\n",
    "    return df['Movie_Name'].iloc[movie_indices]"
   ]
  },
  {
   "cell_type": "code",
   "execution_count": 344,
   "metadata": {},
   "outputs": [
    {
     "data": {
      "text/plain": [
       "303    Every Breath You Take\n",
       "281            The Old Guard\n",
       "12                      CODA\n",
       "448                 Red Joan\n",
       "132                Cry Macho\n",
       "33       The French Dispatch\n",
       "283             The Marksman\n",
       "472                  Bruised\n",
       "227                Swan Song\n",
       "248         Coming 2 America\n",
       "Name: Movie_Name, dtype: string"
      ]
     },
     "execution_count": 344,
     "metadata": {},
     "output_type": "execute_result"
    }
   ],
   "source": [
    "get_recommendations('The Power of the Dog', cosine_sim)"
   ]
  },
  {
   "cell_type": "code",
   "execution_count": 348,
   "metadata": {},
   "outputs": [],
   "source": [
    "# Save model for reuse\n",
    "filename = 'content_based_imdb_webscraping_model.sav'\n",
    "pickle.dump(cosine_sim, open(filename, 'wb'))"
   ]
  },
  {
   "cell_type": "markdown",
   "metadata": {},
   "source": [
    "# Create a web app"
   ]
  },
  {
   "cell_type": "markdown",
   "metadata": {},
   "source": [
    "## Design frontend with streamlit"
   ]
  },
  {
   "cell_type": "code",
   "execution_count": null,
   "metadata": {},
   "outputs": [],
   "source": []
  },
  {
   "cell_type": "code",
   "execution_count": null,
   "metadata": {},
   "outputs": [],
   "source": []
  },
  {
   "cell_type": "code",
   "execution_count": null,
   "metadata": {},
   "outputs": [],
   "source": []
  },
  {
   "cell_type": "markdown",
   "metadata": {},
   "source": [
    "## Improve Cosine Similarity with Credits, Genres and Keyword"
   ]
  },
  {
   "cell_type": "code",
   "execution_count": null,
   "metadata": {
    "ExecuteTime": {
     "end_time": "2021-05-21T19:45:21.615963Z",
     "start_time": "2021-05-21T19:45:21.605991Z"
    }
   },
   "outputs": [],
   "source": [
    "df['genres_split'] = df['genres'].str.replace('|', \" \", regex=True)"
   ]
  },
  {
   "cell_type": "code",
   "execution_count": null,
   "metadata": {
    "ExecuteTime": {
     "end_time": "2021-05-21T19:45:21.622948Z",
     "start_time": "2021-05-21T19:45:21.617959Z"
    }
   },
   "outputs": [],
   "source": [
    "# Function to convert all strings to lower case and strip names of spaces\n",
    "def clean_data(x):\n",
    "    if isinstance(x, list):\n",
    "        return [str.lower(i.replace(\" \", \"\")) for i in x]\n",
    "    else:\n",
    "        if isinstance(x, str):\n",
    "            return str.lower(x.replace(\" \", \"\"))\n",
    "        else:\n",
    "            return ''"
   ]
  },
  {
   "cell_type": "code",
   "execution_count": null,
   "metadata": {
    "ExecuteTime": {
     "end_time": "2021-05-21T19:45:21.682785Z",
     "start_time": "2021-05-21T19:45:21.625938Z"
    }
   },
   "outputs": [],
   "source": [
    "# Apply clean_data function to features\n",
    "features = [\n",
    "    'production_companies', 'production_countries', 'actor1_name',\n",
    "    'actor2_name', 'actor3_name', 'director_name', 'tag'\n",
    "]\n",
    "\n",
    "for feature in features:\n",
    "    df[feature] = df[feature].apply(clean_data)"
   ]
  },
  {
   "cell_type": "code",
   "execution_count": null,
   "metadata": {
    "ExecuteTime": {
     "end_time": "2021-05-21T19:45:21.702732Z",
     "start_time": "2021-05-21T19:45:21.683782Z"
    },
    "scrolled": true
   },
   "outputs": [],
   "source": [
    "df.head(2)"
   ]
  },
  {
   "cell_type": "code",
   "execution_count": null,
   "metadata": {
    "ExecuteTime": {
     "end_time": "2021-05-21T19:45:21.791508Z",
     "start_time": "2021-05-21T19:45:21.705724Z"
    }
   },
   "outputs": [],
   "source": [
    "df['soup'] = df['overview'] + \" \" + df['production_countries'] + \" \" + \n",
    "             df['production_companies'] + \" \" + df['actor1_name'] + \" \" + \n",
    "             df['actor2_name'] + \" \" + df['actor3_name'] + \" \" + \n",
    "             df['director_name'] + \" \" + df['year'] + \" \" + df['genres_split'] + \" \" + \n",
    "             df['tag']"
   ]
  },
  {
   "cell_type": "code",
   "execution_count": null,
   "metadata": {
    "ExecuteTime": {
     "end_time": "2021-05-21T19:45:22.540598Z",
     "start_time": "2021-05-21T19:45:21.793490Z"
    }
   },
   "outputs": [],
   "source": [
    "# Import CountVectorizer and create the count matrix\n",
    "from sklearn.feature_extraction.text import CountVectorizer\n",
    "\n",
    "count = CountVectorizer(stop_words='english')\n",
    "count_matrix = count.fit_transform(df['soup'])"
   ]
  },
  {
   "cell_type": "code",
   "execution_count": null,
   "metadata": {
    "ExecuteTime": {
     "end_time": "2021-05-21T19:45:22.547546Z",
     "start_time": "2021-05-21T19:45:22.542558Z"
    }
   },
   "outputs": [],
   "source": [
    "count_matrix.shape"
   ]
  },
  {
   "cell_type": "code",
   "execution_count": null,
   "metadata": {
    "ExecuteTime": {
     "end_time": "2021-05-21T19:46:24.520684Z",
     "start_time": "2021-05-21T19:46:24.515697Z"
    }
   },
   "outputs": [],
   "source": [
    "count_matrix.indices"
   ]
  },
  {
   "cell_type": "code",
   "execution_count": null,
   "metadata": {
    "ExecuteTime": {
     "end_time": "2021-05-21T19:45:24.695235Z",
     "start_time": "2021-05-21T19:45:22.549542Z"
    }
   },
   "outputs": [],
   "source": [
    "# Compute the Cosine Similarity matrix based on the count_matrix\n",
    "from sklearn.metrics.pairwise import cosine_similarity\n",
    "\n",
    "cosine_sim2 = cosine_similarity(count_matrix, count_matrix)"
   ]
  },
  {
   "cell_type": "code",
   "execution_count": null,
   "metadata": {
    "ExecuteTime": {
     "end_time": "2021-05-21T19:45:24.717141Z",
     "start_time": "2021-05-21T19:45:24.697196Z"
    }
   },
   "outputs": [],
   "source": [
    "df.head(2)"
   ]
  },
  {
   "cell_type": "code",
   "execution_count": null,
   "metadata": {
    "ExecuteTime": {
     "end_time": "2021-05-21T19:45:24.737089Z",
     "start_time": "2021-05-21T19:45:24.719137Z"
    },
    "cell_style": "center",
    "scrolled": true
   },
   "outputs": [],
   "source": [
    "get_recommendations('Toy Story (1995)', cosine_sim)"
   ]
  },
  {
   "cell_type": "code",
   "execution_count": null,
   "metadata": {
    "ExecuteTime": {
     "end_time": "2021-05-21T19:45:24.761025Z",
     "start_time": "2021-05-21T19:45:24.739084Z"
    },
    "cell_style": "center"
   },
   "outputs": [],
   "source": [
    "get_recommendations('Toy Story (1995)', cosine_sim2)"
   ]
  },
  {
   "cell_type": "markdown",
   "metadata": {},
   "source": [
    "# Save model for reuse"
   ]
  },
  {
   "cell_type": "code",
   "execution_count": null,
   "metadata": {},
   "outputs": [],
   "source": [
    "filename = 'content_based_imdb_webscraping_model.sav'\n",
    "pickle.dump(svd, open(filename, 'wb'))"
   ]
  }
 ],
 "metadata": {
  "kernelspec": {
   "display_name": "Python 3",
   "language": "python",
   "name": "python3"
  },
  "language_info": {
   "codemirror_mode": {
    "name": "ipython",
    "version": 3
   },
   "file_extension": ".py",
   "mimetype": "text/x-python",
   "name": "python",
   "nbconvert_exporter": "python",
   "pygments_lexer": "ipython3",
   "version": "3.8.8"
  },
  "toc": {
   "base_numbering": 1,
   "nav_menu": {},
   "number_sections": true,
   "sideBar": true,
   "skip_h1_title": false,
   "title_cell": "Table of Contents",
   "title_sidebar": "Contents",
   "toc_cell": false,
   "toc_position": {
    "height": "calc(100% - 180px)",
    "left": "10px",
    "top": "150px",
    "width": "165px"
   },
   "toc_section_display": true,
   "toc_window_display": true
  },
  "toc-autonumbering": false,
  "toc-showmarkdowntxt": false,
  "toc-showtags": false,
  "varInspector": {
   "cols": {
    "lenName": 16,
    "lenType": 16,
    "lenVar": 40
   },
   "kernels_config": {
    "python": {
     "delete_cmd_postfix": "",
     "delete_cmd_prefix": "del ",
     "library": "var_list.py",
     "varRefreshCmd": "print(var_dic_list())"
    },
    "r": {
     "delete_cmd_postfix": ") ",
     "delete_cmd_prefix": "rm(",
     "library": "var_list.r",
     "varRefreshCmd": "cat(var_dic_list()) "
    }
   },
   "types_to_exclude": [
    "module",
    "function",
    "builtin_function_or_method",
    "instance",
    "_Feature"
   ],
   "window_display": false
  }
 },
 "nbformat": 4,
 "nbformat_minor": 4
}
