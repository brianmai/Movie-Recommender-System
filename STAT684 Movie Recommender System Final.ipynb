{
 "cells": [
  {
   "cell_type": "markdown",
   "metadata": {},
   "source": [
    "# Import Dataset & Packages"
   ]
  },
  {
   "cell_type": "markdown",
   "metadata": {},
   "source": [
    "## Import"
   ]
  },
  {
   "cell_type": "code",
   "execution_count": 4,
   "metadata": {
    "ExecuteTime": {
     "end_time": "2021-05-21T19:45:12.394518Z",
     "start_time": "2021-05-21T19:45:08.450875Z"
    }
   },
   "outputs": [],
   "source": [
    "import pandas as pd # manipulate dataframe\n",
    "import numpy as np\n",
    "\n",
    "# Visualization\n",
    "import matplotlib.pyplot as plt\n",
    "import seaborn as sns\n",
    "\n",
    "# Hide warning\n",
    "import warnings\n",
    "warnings.filterwarnings('ignore')\n",
    "\n",
    "%matplotlib inline"
   ]
  },
  {
   "cell_type": "code",
   "execution_count": 1,
   "metadata": {
    "ExecuteTime": {
     "end_time": "2021-05-21T19:45:12.407483Z",
     "start_time": "2021-05-21T19:45:12.402496Z"
    }
   },
   "outputs": [],
   "source": [
    "from IPython.core.interactiveshell import InteractiveShell\n",
    "InteractiveShell.ast_node_interactivity = \"all\""
   ]
  },
  {
   "cell_type": "code",
   "execution_count": 2,
   "metadata": {},
   "outputs": [],
   "source": [
    "import os\n",
    "PATH = os.path.join('ml-latest-small','')"
   ]
  },
  {
   "cell_type": "code",
   "execution_count": 5,
   "metadata": {
    "ExecuteTime": {
     "end_time": "2021-05-21T19:45:16.813454Z",
     "start_time": "2021-05-21T19:45:12.418453Z"
    }
   },
   "outputs": [],
   "source": [
    "#Main Dataset\n",
    "movies = pd.read_csv(PATH + 'movies.csv')\n",
    "\n",
    "# Dataset for content based recommender\n",
    "tmdb = pd.read_csv(PATH + 'tmdb.csv', delimiter=';')\n",
    "casts = pd.read_csv(PATH + 'tmdb_cast.csv', delimiter=';')\n",
    "links = pd.read_csv(PATH + 'links.csv')\n",
    "tags = pd.read_csv(PATH + 'tags.csv')\n",
    "\n",
    "# Dataset for collaborative filtering\n",
    "ratings = pd.read_csv(PATH + 'ratings.csv')"
   ]
  },
  {
   "cell_type": "markdown",
   "metadata": {},
   "source": [
    "## Summary"
   ]
  },
  {
   "cell_type": "code",
   "execution_count": null,
   "metadata": {
    "cell_style": "split"
   },
   "outputs": [],
   "source": [
    "movies.head(2)\n",
    "movies.info()\n",
    "movies.describe()"
   ]
  },
  {
   "cell_type": "code",
   "execution_count": 37,
   "metadata": {
    "cell_style": "split"
   },
   "outputs": [
    {
     "data": {
      "text/html": [
       "<div>\n",
       "<style scoped>\n",
       "    .dataframe tbody tr th:only-of-type {\n",
       "        vertical-align: middle;\n",
       "    }\n",
       "\n",
       "    .dataframe tbody tr th {\n",
       "        vertical-align: top;\n",
       "    }\n",
       "\n",
       "    .dataframe thead th {\n",
       "        text-align: right;\n",
       "    }\n",
       "</style>\n",
       "<table border=\"1\" class=\"dataframe\">\n",
       "  <thead>\n",
       "    <tr style=\"text-align: right;\">\n",
       "      <th></th>\n",
       "      <th>id</th>\n",
       "      <th>actor1_name</th>\n",
       "      <th>actor1_gender</th>\n",
       "      <th>actor2_name</th>\n",
       "      <th>actor2_gender</th>\n",
       "      <th>actor3_name</th>\n",
       "      <th>actor3_gender</th>\n",
       "      <th>actor4_name</th>\n",
       "      <th>actor4_gender</th>\n",
       "      <th>actor5_name</th>\n",
       "      <th>actor5_gender</th>\n",
       "      <th>actor_number</th>\n",
       "      <th>director_name</th>\n",
       "      <th>director_gender</th>\n",
       "      <th>director_number</th>\n",
       "      <th>producer_name</th>\n",
       "      <th>producer_number</th>\n",
       "      <th>screeplay_name</th>\n",
       "      <th>editor_name</th>\n",
       "    </tr>\n",
       "  </thead>\n",
       "  <tbody>\n",
       "    <tr>\n",
       "      <th>0</th>\n",
       "      <td>2</td>\n",
       "      <td>Turo Pajala</td>\n",
       "      <td>0</td>\n",
       "      <td>Susanna Haavisto</td>\n",
       "      <td>0.0</td>\n",
       "      <td>Matti Pellonpää</td>\n",
       "      <td>2</td>\n",
       "      <td>Eetu Hilkamo</td>\n",
       "      <td>0</td>\n",
       "      <td>none</td>\n",
       "      <td>0</td>\n",
       "      <td>4</td>\n",
       "      <td>Aki Kaurismäki</td>\n",
       "      <td>0.0</td>\n",
       "      <td>1</td>\n",
       "      <td>none</td>\n",
       "      <td>0</td>\n",
       "      <td>Aki Kaurismäki</td>\n",
       "      <td>Raija Talvio</td>\n",
       "    </tr>\n",
       "    <tr>\n",
       "      <th>1</th>\n",
       "      <td>3</td>\n",
       "      <td>Matti Pellonpää</td>\n",
       "      <td>2</td>\n",
       "      <td>Kati Outinen</td>\n",
       "      <td>1.0</td>\n",
       "      <td>Sakari Kuosmanen</td>\n",
       "      <td>2</td>\n",
       "      <td>Esko Nikkari</td>\n",
       "      <td>2</td>\n",
       "      <td>Kylli Köngäs</td>\n",
       "      <td>0</td>\n",
       "      <td>7</td>\n",
       "      <td>Aki Kaurismäki</td>\n",
       "      <td>0.0</td>\n",
       "      <td>1</td>\n",
       "      <td>Mika Kaurismäki</td>\n",
       "      <td>1</td>\n",
       "      <td>Aki Kaurismäki</td>\n",
       "      <td>Raija Talvio</td>\n",
       "    </tr>\n",
       "  </tbody>\n",
       "</table>\n",
       "</div>"
      ],
      "text/plain": [
       "   id      actor1_name  actor1_gender       actor2_name  actor2_gender  \\\n",
       "0   2      Turo Pajala              0  Susanna Haavisto            0.0   \n",
       "1   3  Matti Pellonpää              2      Kati Outinen            1.0   \n",
       "\n",
       "        actor3_name  actor3_gender   actor4_name  actor4_gender   actor5_name  \\\n",
       "0   Matti Pellonpää              2  Eetu Hilkamo              0          none   \n",
       "1  Sakari Kuosmanen              2  Esko Nikkari              2  Kylli Köngäs   \n",
       "\n",
       "   actor5_gender  actor_number   director_name  director_gender  \\\n",
       "0              0             4  Aki Kaurismäki              0.0   \n",
       "1              0             7  Aki Kaurismäki              0.0   \n",
       "\n",
       "   director_number    producer_name  producer_number  screeplay_name  \\\n",
       "0                1             none                0  Aki Kaurismäki   \n",
       "1                1  Mika Kaurismäki                1  Aki Kaurismäki   \n",
       "\n",
       "    editor_name  \n",
       "0  Raija Talvio  \n",
       "1  Raija Talvio  "
      ]
     },
     "execution_count": 37,
     "metadata": {},
     "output_type": "execute_result"
    },
    {
     "name": "stdout",
     "output_type": "stream",
     "text": [
      "<class 'pandas.core.frame.DataFrame'>\n",
      "RangeIndex: 329044 entries, 0 to 329043\n",
      "Data columns (total 19 columns):\n",
      " #   Column           Non-Null Count   Dtype  \n",
      "---  ------           --------------   -----  \n",
      " 0   id               329044 non-null  int64  \n",
      " 1   actor1_name      329044 non-null  object \n",
      " 2   actor1_gender    329044 non-null  int64  \n",
      " 3   actor2_name      329044 non-null  object \n",
      " 4   actor2_gender    329043 non-null  float64\n",
      " 5   actor3_name      329044 non-null  object \n",
      " 6   actor3_gender    329044 non-null  int64  \n",
      " 7   actor4_name      329044 non-null  object \n",
      " 8   actor4_gender    329044 non-null  int64  \n",
      " 9   actor5_name      329044 non-null  object \n",
      " 10  actor5_gender    329044 non-null  int64  \n",
      " 11  actor_number     329044 non-null  int64  \n",
      " 12  director_name    329044 non-null  object \n",
      " 13  director_gender  329043 non-null  float64\n",
      " 14  director_number  329044 non-null  int64  \n",
      " 15  producer_name    329044 non-null  object \n",
      " 16  producer_number  329044 non-null  int64  \n",
      " 17  screeplay_name   329044 non-null  object \n",
      " 18  editor_name      329044 non-null  object \n",
      "dtypes: float64(2), int64(8), object(9)\n",
      "memory usage: 47.7+ MB\n"
     ]
    },
    {
     "data": {
      "text/html": [
       "<div>\n",
       "<style scoped>\n",
       "    .dataframe tbody tr th:only-of-type {\n",
       "        vertical-align: middle;\n",
       "    }\n",
       "\n",
       "    .dataframe tbody tr th {\n",
       "        vertical-align: top;\n",
       "    }\n",
       "\n",
       "    .dataframe thead th {\n",
       "        text-align: right;\n",
       "    }\n",
       "</style>\n",
       "<table border=\"1\" class=\"dataframe\">\n",
       "  <thead>\n",
       "    <tr style=\"text-align: right;\">\n",
       "      <th></th>\n",
       "      <th>id</th>\n",
       "      <th>actor1_gender</th>\n",
       "      <th>actor2_gender</th>\n",
       "      <th>actor3_gender</th>\n",
       "      <th>actor4_gender</th>\n",
       "      <th>actor5_gender</th>\n",
       "      <th>actor_number</th>\n",
       "      <th>director_gender</th>\n",
       "      <th>director_number</th>\n",
       "      <th>producer_number</th>\n",
       "    </tr>\n",
       "  </thead>\n",
       "  <tbody>\n",
       "    <tr>\n",
       "      <th>count</th>\n",
       "      <td>329044.000000</td>\n",
       "      <td>329044.000000</td>\n",
       "      <td>329043.000000</td>\n",
       "      <td>329044.000000</td>\n",
       "      <td>329044.000000</td>\n",
       "      <td>329044.000000</td>\n",
       "      <td>329044.000000</td>\n",
       "      <td>329043.000000</td>\n",
       "      <td>329044.000000</td>\n",
       "      <td>329044.000000</td>\n",
       "    </tr>\n",
       "    <tr>\n",
       "      <th>mean</th>\n",
       "      <td>252984.152937</td>\n",
       "      <td>0.376776</td>\n",
       "      <td>0.549053</td>\n",
       "      <td>0.466424</td>\n",
       "      <td>0.418673</td>\n",
       "      <td>0.368528</td>\n",
       "      <td>5.589471</td>\n",
       "      <td>0.789845</td>\n",
       "      <td>0.845762</td>\n",
       "      <td>0.313681</td>\n",
       "    </tr>\n",
       "    <tr>\n",
       "      <th>std</th>\n",
       "      <td>138633.855160</td>\n",
       "      <td>0.740933</td>\n",
       "      <td>0.818284</td>\n",
       "      <td>0.776736</td>\n",
       "      <td>0.756893</td>\n",
       "      <td>0.726931</td>\n",
       "      <td>7.724335</td>\n",
       "      <td>0.838305</td>\n",
       "      <td>0.667769</td>\n",
       "      <td>0.798108</td>\n",
       "    </tr>\n",
       "    <tr>\n",
       "      <th>min</th>\n",
       "      <td>2.000000</td>\n",
       "      <td>0.000000</td>\n",
       "      <td>0.000000</td>\n",
       "      <td>0.000000</td>\n",
       "      <td>0.000000</td>\n",
       "      <td>0.000000</td>\n",
       "      <td>0.000000</td>\n",
       "      <td>0.000000</td>\n",
       "      <td>0.000000</td>\n",
       "      <td>0.000000</td>\n",
       "    </tr>\n",
       "    <tr>\n",
       "      <th>25%</th>\n",
       "      <td>124796.250000</td>\n",
       "      <td>0.000000</td>\n",
       "      <td>0.000000</td>\n",
       "      <td>0.000000</td>\n",
       "      <td>0.000000</td>\n",
       "      <td>0.000000</td>\n",
       "      <td>0.000000</td>\n",
       "      <td>0.000000</td>\n",
       "      <td>1.000000</td>\n",
       "      <td>0.000000</td>\n",
       "    </tr>\n",
       "    <tr>\n",
       "      <th>50%</th>\n",
       "      <td>276473.500000</td>\n",
       "      <td>0.000000</td>\n",
       "      <td>0.000000</td>\n",
       "      <td>0.000000</td>\n",
       "      <td>0.000000</td>\n",
       "      <td>0.000000</td>\n",
       "      <td>4.000000</td>\n",
       "      <td>1.000000</td>\n",
       "      <td>1.000000</td>\n",
       "      <td>0.000000</td>\n",
       "    </tr>\n",
       "    <tr>\n",
       "      <th>75%</th>\n",
       "      <td>370839.250000</td>\n",
       "      <td>0.000000</td>\n",
       "      <td>1.000000</td>\n",
       "      <td>1.000000</td>\n",
       "      <td>1.000000</td>\n",
       "      <td>0.000000</td>\n",
       "      <td>8.000000</td>\n",
       "      <td>2.000000</td>\n",
       "      <td>1.000000</td>\n",
       "      <td>0.000000</td>\n",
       "    </tr>\n",
       "    <tr>\n",
       "      <th>max</th>\n",
       "      <td>469219.000000</td>\n",
       "      <td>2.000000</td>\n",
       "      <td>2.000000</td>\n",
       "      <td>2.000000</td>\n",
       "      <td>2.000000</td>\n",
       "      <td>2.000000</td>\n",
       "      <td>313.000000</td>\n",
       "      <td>2.000000</td>\n",
       "      <td>70.000000</td>\n",
       "      <td>24.000000</td>\n",
       "    </tr>\n",
       "  </tbody>\n",
       "</table>\n",
       "</div>"
      ],
      "text/plain": [
       "                  id  actor1_gender  actor2_gender  actor3_gender  \\\n",
       "count  329044.000000  329044.000000  329043.000000  329044.000000   \n",
       "mean   252984.152937       0.376776       0.549053       0.466424   \n",
       "std    138633.855160       0.740933       0.818284       0.776736   \n",
       "min         2.000000       0.000000       0.000000       0.000000   \n",
       "25%    124796.250000       0.000000       0.000000       0.000000   \n",
       "50%    276473.500000       0.000000       0.000000       0.000000   \n",
       "75%    370839.250000       0.000000       1.000000       1.000000   \n",
       "max    469219.000000       2.000000       2.000000       2.000000   \n",
       "\n",
       "       actor4_gender  actor5_gender   actor_number  director_gender  \\\n",
       "count  329044.000000  329044.000000  329044.000000    329043.000000   \n",
       "mean        0.418673       0.368528       5.589471         0.789845   \n",
       "std         0.756893       0.726931       7.724335         0.838305   \n",
       "min         0.000000       0.000000       0.000000         0.000000   \n",
       "25%         0.000000       0.000000       0.000000         0.000000   \n",
       "50%         0.000000       0.000000       4.000000         1.000000   \n",
       "75%         1.000000       0.000000       8.000000         2.000000   \n",
       "max         2.000000       2.000000     313.000000         2.000000   \n",
       "\n",
       "       director_number  producer_number  \n",
       "count    329044.000000    329044.000000  \n",
       "mean          0.845762         0.313681  \n",
       "std           0.667769         0.798108  \n",
       "min           0.000000         0.000000  \n",
       "25%           1.000000         0.000000  \n",
       "50%           1.000000         0.000000  \n",
       "75%           1.000000         0.000000  \n",
       "max          70.000000        24.000000  "
      ]
     },
     "execution_count": 37,
     "metadata": {},
     "output_type": "execute_result"
    }
   ],
   "source": [
    "casts.head(2)\n",
    "casts.info()\n",
    "casts.describe()"
   ]
  },
  {
   "cell_type": "code",
   "execution_count": 40,
   "metadata": {
    "cell_style": "split"
   },
   "outputs": [
    {
     "data": {
      "text/html": [
       "<div>\n",
       "<style scoped>\n",
       "    .dataframe tbody tr th:only-of-type {\n",
       "        vertical-align: middle;\n",
       "    }\n",
       "\n",
       "    .dataframe tbody tr th {\n",
       "        vertical-align: top;\n",
       "    }\n",
       "\n",
       "    .dataframe thead th {\n",
       "        text-align: right;\n",
       "    }\n",
       "</style>\n",
       "<table border=\"1\" class=\"dataframe\">\n",
       "  <thead>\n",
       "    <tr style=\"text-align: right;\">\n",
       "      <th></th>\n",
       "      <th>userId</th>\n",
       "      <th>movieId</th>\n",
       "      <th>rating</th>\n",
       "      <th>timestamp</th>\n",
       "    </tr>\n",
       "  </thead>\n",
       "  <tbody>\n",
       "    <tr>\n",
       "      <th>0</th>\n",
       "      <td>1</td>\n",
       "      <td>1</td>\n",
       "      <td>4.0</td>\n",
       "      <td>964982703</td>\n",
       "    </tr>\n",
       "    <tr>\n",
       "      <th>1</th>\n",
       "      <td>1</td>\n",
       "      <td>3</td>\n",
       "      <td>4.0</td>\n",
       "      <td>964981247</td>\n",
       "    </tr>\n",
       "  </tbody>\n",
       "</table>\n",
       "</div>"
      ],
      "text/plain": [
       "   userId  movieId  rating  timestamp\n",
       "0       1        1     4.0  964982703\n",
       "1       1        3     4.0  964981247"
      ]
     },
     "execution_count": 40,
     "metadata": {},
     "output_type": "execute_result"
    },
    {
     "name": "stdout",
     "output_type": "stream",
     "text": [
      "<class 'pandas.core.frame.DataFrame'>\n",
      "RangeIndex: 100836 entries, 0 to 100835\n",
      "Data columns (total 4 columns):\n",
      " #   Column     Non-Null Count   Dtype  \n",
      "---  ------     --------------   -----  \n",
      " 0   userId     100836 non-null  int64  \n",
      " 1   movieId    100836 non-null  int64  \n",
      " 2   rating     100836 non-null  float64\n",
      " 3   timestamp  100836 non-null  int64  \n",
      "dtypes: float64(1), int64(3)\n",
      "memory usage: 3.1 MB\n"
     ]
    },
    {
     "data": {
      "text/html": [
       "<div>\n",
       "<style scoped>\n",
       "    .dataframe tbody tr th:only-of-type {\n",
       "        vertical-align: middle;\n",
       "    }\n",
       "\n",
       "    .dataframe tbody tr th {\n",
       "        vertical-align: top;\n",
       "    }\n",
       "\n",
       "    .dataframe thead th {\n",
       "        text-align: right;\n",
       "    }\n",
       "</style>\n",
       "<table border=\"1\" class=\"dataframe\">\n",
       "  <thead>\n",
       "    <tr style=\"text-align: right;\">\n",
       "      <th></th>\n",
       "      <th>userId</th>\n",
       "      <th>movieId</th>\n",
       "      <th>rating</th>\n",
       "      <th>timestamp</th>\n",
       "    </tr>\n",
       "  </thead>\n",
       "  <tbody>\n",
       "    <tr>\n",
       "      <th>count</th>\n",
       "      <td>100836.000000</td>\n",
       "      <td>100836.000000</td>\n",
       "      <td>100836.000000</td>\n",
       "      <td>1.008360e+05</td>\n",
       "    </tr>\n",
       "    <tr>\n",
       "      <th>mean</th>\n",
       "      <td>326.127564</td>\n",
       "      <td>19435.295718</td>\n",
       "      <td>3.501557</td>\n",
       "      <td>1.205946e+09</td>\n",
       "    </tr>\n",
       "    <tr>\n",
       "      <th>std</th>\n",
       "      <td>182.618491</td>\n",
       "      <td>35530.987199</td>\n",
       "      <td>1.042529</td>\n",
       "      <td>2.162610e+08</td>\n",
       "    </tr>\n",
       "    <tr>\n",
       "      <th>min</th>\n",
       "      <td>1.000000</td>\n",
       "      <td>1.000000</td>\n",
       "      <td>0.500000</td>\n",
       "      <td>8.281246e+08</td>\n",
       "    </tr>\n",
       "    <tr>\n",
       "      <th>25%</th>\n",
       "      <td>177.000000</td>\n",
       "      <td>1199.000000</td>\n",
       "      <td>3.000000</td>\n",
       "      <td>1.019124e+09</td>\n",
       "    </tr>\n",
       "    <tr>\n",
       "      <th>50%</th>\n",
       "      <td>325.000000</td>\n",
       "      <td>2991.000000</td>\n",
       "      <td>3.500000</td>\n",
       "      <td>1.186087e+09</td>\n",
       "    </tr>\n",
       "    <tr>\n",
       "      <th>75%</th>\n",
       "      <td>477.000000</td>\n",
       "      <td>8122.000000</td>\n",
       "      <td>4.000000</td>\n",
       "      <td>1.435994e+09</td>\n",
       "    </tr>\n",
       "    <tr>\n",
       "      <th>max</th>\n",
       "      <td>610.000000</td>\n",
       "      <td>193609.000000</td>\n",
       "      <td>5.000000</td>\n",
       "      <td>1.537799e+09</td>\n",
       "    </tr>\n",
       "  </tbody>\n",
       "</table>\n",
       "</div>"
      ],
      "text/plain": [
       "              userId        movieId         rating     timestamp\n",
       "count  100836.000000  100836.000000  100836.000000  1.008360e+05\n",
       "mean      326.127564   19435.295718       3.501557  1.205946e+09\n",
       "std       182.618491   35530.987199       1.042529  2.162610e+08\n",
       "min         1.000000       1.000000       0.500000  8.281246e+08\n",
       "25%       177.000000    1199.000000       3.000000  1.019124e+09\n",
       "50%       325.000000    2991.000000       3.500000  1.186087e+09\n",
       "75%       477.000000    8122.000000       4.000000  1.435994e+09\n",
       "max       610.000000  193609.000000       5.000000  1.537799e+09"
      ]
     },
     "execution_count": 40,
     "metadata": {},
     "output_type": "execute_result"
    }
   ],
   "source": [
    "ratings.head(2)\n",
    "ratings.info()\n",
    "ratings.describe()"
   ]
  },
  {
   "cell_type": "code",
   "execution_count": 39,
   "metadata": {
    "cell_style": "split"
   },
   "outputs": [
    {
     "data": {
      "text/html": [
       "<div>\n",
       "<style scoped>\n",
       "    .dataframe tbody tr th:only-of-type {\n",
       "        vertical-align: middle;\n",
       "    }\n",
       "\n",
       "    .dataframe tbody tr th {\n",
       "        vertical-align: top;\n",
       "    }\n",
       "\n",
       "    .dataframe thead th {\n",
       "        text-align: right;\n",
       "    }\n",
       "</style>\n",
       "<table border=\"1\" class=\"dataframe\">\n",
       "  <thead>\n",
       "    <tr style=\"text-align: right;\">\n",
       "      <th></th>\n",
       "      <th>userId</th>\n",
       "      <th>movieId</th>\n",
       "      <th>tag</th>\n",
       "      <th>timestamp</th>\n",
       "    </tr>\n",
       "  </thead>\n",
       "  <tbody>\n",
       "    <tr>\n",
       "      <th>0</th>\n",
       "      <td>2</td>\n",
       "      <td>60756</td>\n",
       "      <td>funny</td>\n",
       "      <td>1445714994</td>\n",
       "    </tr>\n",
       "    <tr>\n",
       "      <th>1</th>\n",
       "      <td>2</td>\n",
       "      <td>60756</td>\n",
       "      <td>Highly quotable</td>\n",
       "      <td>1445714996</td>\n",
       "    </tr>\n",
       "  </tbody>\n",
       "</table>\n",
       "</div>"
      ],
      "text/plain": [
       "   userId  movieId              tag   timestamp\n",
       "0       2    60756            funny  1445714994\n",
       "1       2    60756  Highly quotable  1445714996"
      ]
     },
     "execution_count": 39,
     "metadata": {},
     "output_type": "execute_result"
    },
    {
     "name": "stdout",
     "output_type": "stream",
     "text": [
      "<class 'pandas.core.frame.DataFrame'>\n",
      "RangeIndex: 3683 entries, 0 to 3682\n",
      "Data columns (total 4 columns):\n",
      " #   Column     Non-Null Count  Dtype \n",
      "---  ------     --------------  ----- \n",
      " 0   userId     3683 non-null   int64 \n",
      " 1   movieId    3683 non-null   int64 \n",
      " 2   tag        3683 non-null   object\n",
      " 3   timestamp  3683 non-null   int64 \n",
      "dtypes: int64(3), object(1)\n",
      "memory usage: 115.2+ KB\n"
     ]
    },
    {
     "data": {
      "text/html": [
       "<div>\n",
       "<style scoped>\n",
       "    .dataframe tbody tr th:only-of-type {\n",
       "        vertical-align: middle;\n",
       "    }\n",
       "\n",
       "    .dataframe tbody tr th {\n",
       "        vertical-align: top;\n",
       "    }\n",
       "\n",
       "    .dataframe thead th {\n",
       "        text-align: right;\n",
       "    }\n",
       "</style>\n",
       "<table border=\"1\" class=\"dataframe\">\n",
       "  <thead>\n",
       "    <tr style=\"text-align: right;\">\n",
       "      <th></th>\n",
       "      <th>userId</th>\n",
       "      <th>movieId</th>\n",
       "      <th>timestamp</th>\n",
       "    </tr>\n",
       "  </thead>\n",
       "  <tbody>\n",
       "    <tr>\n",
       "      <th>count</th>\n",
       "      <td>3683.000000</td>\n",
       "      <td>3683.000000</td>\n",
       "      <td>3.683000e+03</td>\n",
       "    </tr>\n",
       "    <tr>\n",
       "      <th>mean</th>\n",
       "      <td>431.149335</td>\n",
       "      <td>27252.013576</td>\n",
       "      <td>1.320032e+09</td>\n",
       "    </tr>\n",
       "    <tr>\n",
       "      <th>std</th>\n",
       "      <td>158.472553</td>\n",
       "      <td>43490.558803</td>\n",
       "      <td>1.721025e+08</td>\n",
       "    </tr>\n",
       "    <tr>\n",
       "      <th>min</th>\n",
       "      <td>2.000000</td>\n",
       "      <td>1.000000</td>\n",
       "      <td>1.137179e+09</td>\n",
       "    </tr>\n",
       "    <tr>\n",
       "      <th>25%</th>\n",
       "      <td>424.000000</td>\n",
       "      <td>1262.500000</td>\n",
       "      <td>1.137521e+09</td>\n",
       "    </tr>\n",
       "    <tr>\n",
       "      <th>50%</th>\n",
       "      <td>474.000000</td>\n",
       "      <td>4454.000000</td>\n",
       "      <td>1.269833e+09</td>\n",
       "    </tr>\n",
       "    <tr>\n",
       "      <th>75%</th>\n",
       "      <td>477.000000</td>\n",
       "      <td>39263.000000</td>\n",
       "      <td>1.498457e+09</td>\n",
       "    </tr>\n",
       "    <tr>\n",
       "      <th>max</th>\n",
       "      <td>610.000000</td>\n",
       "      <td>193565.000000</td>\n",
       "      <td>1.537099e+09</td>\n",
       "    </tr>\n",
       "  </tbody>\n",
       "</table>\n",
       "</div>"
      ],
      "text/plain": [
       "            userId        movieId     timestamp\n",
       "count  3683.000000    3683.000000  3.683000e+03\n",
       "mean    431.149335   27252.013576  1.320032e+09\n",
       "std     158.472553   43490.558803  1.721025e+08\n",
       "min       2.000000       1.000000  1.137179e+09\n",
       "25%     424.000000    1262.500000  1.137521e+09\n",
       "50%     474.000000    4454.000000  1.269833e+09\n",
       "75%     477.000000   39263.000000  1.498457e+09\n",
       "max     610.000000  193565.000000  1.537099e+09"
      ]
     },
     "execution_count": 39,
     "metadata": {},
     "output_type": "execute_result"
    }
   ],
   "source": [
    "tags.head(2)\n",
    "tags.info()\n",
    "tags.describe()"
   ]
  },
  {
   "cell_type": "code",
   "execution_count": 38,
   "metadata": {
    "cell_style": "split"
   },
   "outputs": [
    {
     "data": {
      "text/html": [
       "<div>\n",
       "<style scoped>\n",
       "    .dataframe tbody tr th:only-of-type {\n",
       "        vertical-align: middle;\n",
       "    }\n",
       "\n",
       "    .dataframe tbody tr th {\n",
       "        vertical-align: top;\n",
       "    }\n",
       "\n",
       "    .dataframe thead th {\n",
       "        text-align: right;\n",
       "    }\n",
       "</style>\n",
       "<table border=\"1\" class=\"dataframe\">\n",
       "  <thead>\n",
       "    <tr style=\"text-align: right;\">\n",
       "      <th></th>\n",
       "      <th>movieId</th>\n",
       "      <th>imdbId</th>\n",
       "      <th>tmdbId</th>\n",
       "    </tr>\n",
       "  </thead>\n",
       "  <tbody>\n",
       "    <tr>\n",
       "      <th>0</th>\n",
       "      <td>1</td>\n",
       "      <td>114709</td>\n",
       "      <td>862.0</td>\n",
       "    </tr>\n",
       "    <tr>\n",
       "      <th>1</th>\n",
       "      <td>2</td>\n",
       "      <td>113497</td>\n",
       "      <td>8844.0</td>\n",
       "    </tr>\n",
       "  </tbody>\n",
       "</table>\n",
       "</div>"
      ],
      "text/plain": [
       "   movieId  imdbId  tmdbId\n",
       "0        1  114709   862.0\n",
       "1        2  113497  8844.0"
      ]
     },
     "execution_count": 38,
     "metadata": {},
     "output_type": "execute_result"
    },
    {
     "name": "stdout",
     "output_type": "stream",
     "text": [
      "<class 'pandas.core.frame.DataFrame'>\n",
      "RangeIndex: 9742 entries, 0 to 9741\n",
      "Data columns (total 3 columns):\n",
      " #   Column   Non-Null Count  Dtype  \n",
      "---  ------   --------------  -----  \n",
      " 0   movieId  9742 non-null   int64  \n",
      " 1   imdbId   9742 non-null   int64  \n",
      " 2   tmdbId   9734 non-null   float64\n",
      "dtypes: float64(1), int64(2)\n",
      "memory usage: 228.5 KB\n"
     ]
    },
    {
     "data": {
      "text/html": [
       "<div>\n",
       "<style scoped>\n",
       "    .dataframe tbody tr th:only-of-type {\n",
       "        vertical-align: middle;\n",
       "    }\n",
       "\n",
       "    .dataframe tbody tr th {\n",
       "        vertical-align: top;\n",
       "    }\n",
       "\n",
       "    .dataframe thead th {\n",
       "        text-align: right;\n",
       "    }\n",
       "</style>\n",
       "<table border=\"1\" class=\"dataframe\">\n",
       "  <thead>\n",
       "    <tr style=\"text-align: right;\">\n",
       "      <th></th>\n",
       "      <th>movieId</th>\n",
       "      <th>imdbId</th>\n",
       "      <th>tmdbId</th>\n",
       "    </tr>\n",
       "  </thead>\n",
       "  <tbody>\n",
       "    <tr>\n",
       "      <th>count</th>\n",
       "      <td>9742.000000</td>\n",
       "      <td>9.742000e+03</td>\n",
       "      <td>9734.000000</td>\n",
       "    </tr>\n",
       "    <tr>\n",
       "      <th>mean</th>\n",
       "      <td>42200.353623</td>\n",
       "      <td>6.771839e+05</td>\n",
       "      <td>55162.123793</td>\n",
       "    </tr>\n",
       "    <tr>\n",
       "      <th>std</th>\n",
       "      <td>52160.494854</td>\n",
       "      <td>1.107228e+06</td>\n",
       "      <td>93653.481487</td>\n",
       "    </tr>\n",
       "    <tr>\n",
       "      <th>min</th>\n",
       "      <td>1.000000</td>\n",
       "      <td>4.170000e+02</td>\n",
       "      <td>2.000000</td>\n",
       "    </tr>\n",
       "    <tr>\n",
       "      <th>25%</th>\n",
       "      <td>3248.250000</td>\n",
       "      <td>9.518075e+04</td>\n",
       "      <td>9665.500000</td>\n",
       "    </tr>\n",
       "    <tr>\n",
       "      <th>50%</th>\n",
       "      <td>7300.000000</td>\n",
       "      <td>1.672605e+05</td>\n",
       "      <td>16529.000000</td>\n",
       "    </tr>\n",
       "    <tr>\n",
       "      <th>75%</th>\n",
       "      <td>76232.000000</td>\n",
       "      <td>8.055685e+05</td>\n",
       "      <td>44205.750000</td>\n",
       "    </tr>\n",
       "    <tr>\n",
       "      <th>max</th>\n",
       "      <td>193609.000000</td>\n",
       "      <td>8.391976e+06</td>\n",
       "      <td>525662.000000</td>\n",
       "    </tr>\n",
       "  </tbody>\n",
       "</table>\n",
       "</div>"
      ],
      "text/plain": [
       "             movieId        imdbId         tmdbId\n",
       "count    9742.000000  9.742000e+03    9734.000000\n",
       "mean    42200.353623  6.771839e+05   55162.123793\n",
       "std     52160.494854  1.107228e+06   93653.481487\n",
       "min         1.000000  4.170000e+02       2.000000\n",
       "25%      3248.250000  9.518075e+04    9665.500000\n",
       "50%      7300.000000  1.672605e+05   16529.000000\n",
       "75%     76232.000000  8.055685e+05   44205.750000\n",
       "max    193609.000000  8.391976e+06  525662.000000"
      ]
     },
     "execution_count": 38,
     "metadata": {},
     "output_type": "execute_result"
    }
   ],
   "source": [
    "links.head(2)\n",
    "links.info()\n",
    "links.describe()"
   ]
  },
  {
   "cell_type": "code",
   "execution_count": 41,
   "metadata": {
    "cell_style": "split"
   },
   "outputs": [
    {
     "data": {
      "text/html": [
       "<div>\n",
       "<style scoped>\n",
       "    .dataframe tbody tr th:only-of-type {\n",
       "        vertical-align: middle;\n",
       "    }\n",
       "\n",
       "    .dataframe tbody tr th {\n",
       "        vertical-align: top;\n",
       "    }\n",
       "\n",
       "    .dataframe thead th {\n",
       "        text-align: right;\n",
       "    }\n",
       "</style>\n",
       "<table border=\"1\" class=\"dataframe\">\n",
       "  <thead>\n",
       "    <tr style=\"text-align: right;\">\n",
       "      <th></th>\n",
       "      <th>id</th>\n",
       "      <th>budget</th>\n",
       "      <th>genres</th>\n",
       "      <th>imdb_id</th>\n",
       "      <th>original_language</th>\n",
       "      <th>original_title</th>\n",
       "      <th>overview</th>\n",
       "      <th>popularity</th>\n",
       "      <th>production_companies</th>\n",
       "      <th>production_countries</th>\n",
       "      <th>...</th>\n",
       "      <th>runtime</th>\n",
       "      <th>spoken_languages</th>\n",
       "      <th>status</th>\n",
       "      <th>tagline</th>\n",
       "      <th>title</th>\n",
       "      <th>vote_average</th>\n",
       "      <th>vote_count</th>\n",
       "      <th>production_companies_number</th>\n",
       "      <th>production_countries_number</th>\n",
       "      <th>spoken_languages_number</th>\n",
       "    </tr>\n",
       "  </thead>\n",
       "  <tbody>\n",
       "    <tr>\n",
       "      <th>0</th>\n",
       "      <td>2</td>\n",
       "      <td>0</td>\n",
       "      <td>Drama|Crime</td>\n",
       "      <td>tt0094675</td>\n",
       "      <td>fi</td>\n",
       "      <td>Ariel</td>\n",
       "      <td>Taisto Kasurinen is a Finnish coal miner whose...</td>\n",
       "      <td>0.823904</td>\n",
       "      <td>Villealfa Filmproduction Oy</td>\n",
       "      <td>Finland</td>\n",
       "      <td>...</td>\n",
       "      <td>69.0</td>\n",
       "      <td>suomi</td>\n",
       "      <td>Released</td>\n",
       "      <td>NaN</td>\n",
       "      <td>Ariel</td>\n",
       "      <td>7.1</td>\n",
       "      <td>40</td>\n",
       "      <td>2</td>\n",
       "      <td>1</td>\n",
       "      <td>2</td>\n",
       "    </tr>\n",
       "    <tr>\n",
       "      <th>1</th>\n",
       "      <td>3</td>\n",
       "      <td>0</td>\n",
       "      <td>Drama|Comedy</td>\n",
       "      <td>tt0092149</td>\n",
       "      <td>fi</td>\n",
       "      <td>Varjoja paratiisissa</td>\n",
       "      <td>An episode in the life of Nikander, a garbage ...</td>\n",
       "      <td>0.47445</td>\n",
       "      <td>Villealfa Filmproduction Oy</td>\n",
       "      <td>Finland</td>\n",
       "      <td>...</td>\n",
       "      <td>76.0</td>\n",
       "      <td>English</td>\n",
       "      <td>Released</td>\n",
       "      <td>NaN</td>\n",
       "      <td>Shadows in Paradise</td>\n",
       "      <td>7.0</td>\n",
       "      <td>32</td>\n",
       "      <td>1</td>\n",
       "      <td>1</td>\n",
       "      <td>3</td>\n",
       "    </tr>\n",
       "  </tbody>\n",
       "</table>\n",
       "<p>2 rows × 22 columns</p>\n",
       "</div>"
      ],
      "text/plain": [
       "   id  budget        genres    imdb_id original_language  \\\n",
       "0   2       0   Drama|Crime  tt0094675                fi   \n",
       "1   3       0  Drama|Comedy  tt0092149                fi   \n",
       "\n",
       "         original_title                                           overview  \\\n",
       "0                 Ariel  Taisto Kasurinen is a Finnish coal miner whose...   \n",
       "1  Varjoja paratiisissa  An episode in the life of Nikander, a garbage ...   \n",
       "\n",
       "  popularity         production_companies production_countries  ... runtime  \\\n",
       "0   0.823904  Villealfa Filmproduction Oy              Finland  ...    69.0   \n",
       "1    0.47445  Villealfa Filmproduction Oy              Finland  ...    76.0   \n",
       "\n",
       "   spoken_languages    status tagline                title vote_average  \\\n",
       "0             suomi  Released     NaN                Ariel          7.1   \n",
       "1           English  Released     NaN  Shadows in Paradise          7.0   \n",
       "\n",
       "  vote_count  production_companies_number  production_countries_number  \\\n",
       "0         40                            2                            1   \n",
       "1         32                            1                            1   \n",
       "\n",
       "   spoken_languages_number  \n",
       "0                        2  \n",
       "1                        3  \n",
       "\n",
       "[2 rows x 22 columns]"
      ]
     },
     "execution_count": 41,
     "metadata": {},
     "output_type": "execute_result"
    },
    {
     "name": "stdout",
     "output_type": "stream",
     "text": [
      "<class 'pandas.core.frame.DataFrame'>\n",
      "RangeIndex: 329044 entries, 0 to 329043\n",
      "Data columns (total 22 columns):\n",
      " #   Column                       Non-Null Count   Dtype  \n",
      "---  ------                       --------------   -----  \n",
      " 0   id                           329044 non-null  int64  \n",
      " 1   budget                       329044 non-null  int64  \n",
      " 2   genres                       207515 non-null  object \n",
      " 3   imdb_id                      250564 non-null  object \n",
      " 4   original_language            328841 non-null  object \n",
      " 5   original_title               329043 non-null  object \n",
      " 6   overview                     278060 non-null  object \n",
      " 7   popularity                   329044 non-null  object \n",
      " 8   production_companies         329044 non-null  object \n",
      " 9   production_countries         329044 non-null  object \n",
      " 10  release_date                 304998 non-null  object \n",
      " 11  revenue                      329044 non-null  int64  \n",
      " 12  runtime                      292252 non-null  float64\n",
      " 13  spoken_languages             324584 non-null  object \n",
      " 14  status                       327056 non-null  object \n",
      " 15  tagline                      52931 non-null   object \n",
      " 16  title                        329043 non-null  object \n",
      " 17  vote_average                 329044 non-null  float64\n",
      " 18  vote_count                   329044 non-null  int64  \n",
      " 19  production_companies_number  329044 non-null  int64  \n",
      " 20  production_countries_number  329044 non-null  int64  \n",
      " 21  spoken_languages_number      329044 non-null  int64  \n",
      "dtypes: float64(2), int64(7), object(13)\n",
      "memory usage: 55.2+ MB\n"
     ]
    },
    {
     "data": {
      "text/html": [
       "<div>\n",
       "<style scoped>\n",
       "    .dataframe tbody tr th:only-of-type {\n",
       "        vertical-align: middle;\n",
       "    }\n",
       "\n",
       "    .dataframe tbody tr th {\n",
       "        vertical-align: top;\n",
       "    }\n",
       "\n",
       "    .dataframe thead th {\n",
       "        text-align: right;\n",
       "    }\n",
       "</style>\n",
       "<table border=\"1\" class=\"dataframe\">\n",
       "  <thead>\n",
       "    <tr style=\"text-align: right;\">\n",
       "      <th></th>\n",
       "      <th>id</th>\n",
       "      <th>budget</th>\n",
       "      <th>revenue</th>\n",
       "      <th>runtime</th>\n",
       "      <th>vote_average</th>\n",
       "      <th>vote_count</th>\n",
       "      <th>production_companies_number</th>\n",
       "      <th>production_countries_number</th>\n",
       "      <th>spoken_languages_number</th>\n",
       "    </tr>\n",
       "  </thead>\n",
       "  <tbody>\n",
       "    <tr>\n",
       "      <th>count</th>\n",
       "      <td>329044.000000</td>\n",
       "      <td>3.290440e+05</td>\n",
       "      <td>3.290440e+05</td>\n",
       "      <td>292252.000000</td>\n",
       "      <td>329044.000000</td>\n",
       "      <td>329044.000000</td>\n",
       "      <td>329044.00000</td>\n",
       "      <td>329044.000000</td>\n",
       "      <td>329044.000000</td>\n",
       "    </tr>\n",
       "    <tr>\n",
       "      <th>mean</th>\n",
       "      <td>252984.152937</td>\n",
       "      <td>6.129073e+05</td>\n",
       "      <td>1.533838e+06</td>\n",
       "      <td>60.406813</td>\n",
       "      <td>2.374474</td>\n",
       "      <td>14.211270</td>\n",
       "      <td>0.59475</td>\n",
       "      <td>0.609882</td>\n",
       "      <td>0.647628</td>\n",
       "    </tr>\n",
       "    <tr>\n",
       "      <th>std</th>\n",
       "      <td>138633.855160</td>\n",
       "      <td>6.845307e+06</td>\n",
       "      <td>2.401891e+07</td>\n",
       "      <td>142.502210</td>\n",
       "      <td>3.126254</td>\n",
       "      <td>166.443851</td>\n",
       "      <td>1.03807</td>\n",
       "      <td>0.664861</td>\n",
       "      <td>0.672048</td>\n",
       "    </tr>\n",
       "    <tr>\n",
       "      <th>min</th>\n",
       "      <td>2.000000</td>\n",
       "      <td>0.000000e+00</td>\n",
       "      <td>-1.200000e+01</td>\n",
       "      <td>0.000000</td>\n",
       "      <td>0.000000</td>\n",
       "      <td>0.000000</td>\n",
       "      <td>0.00000</td>\n",
       "      <td>0.000000</td>\n",
       "      <td>0.000000</td>\n",
       "    </tr>\n",
       "    <tr>\n",
       "      <th>25%</th>\n",
       "      <td>124796.250000</td>\n",
       "      <td>0.000000e+00</td>\n",
       "      <td>0.000000e+00</td>\n",
       "      <td>5.000000</td>\n",
       "      <td>0.000000</td>\n",
       "      <td>0.000000</td>\n",
       "      <td>0.00000</td>\n",
       "      <td>0.000000</td>\n",
       "      <td>0.000000</td>\n",
       "    </tr>\n",
       "    <tr>\n",
       "      <th>50%</th>\n",
       "      <td>276473.500000</td>\n",
       "      <td>0.000000e+00</td>\n",
       "      <td>0.000000e+00</td>\n",
       "      <td>71.000000</td>\n",
       "      <td>0.000000</td>\n",
       "      <td>0.000000</td>\n",
       "      <td>0.00000</td>\n",
       "      <td>1.000000</td>\n",
       "      <td>1.000000</td>\n",
       "    </tr>\n",
       "    <tr>\n",
       "      <th>75%</th>\n",
       "      <td>370839.250000</td>\n",
       "      <td>0.000000e+00</td>\n",
       "      <td>0.000000e+00</td>\n",
       "      <td>94.000000</td>\n",
       "      <td>5.500000</td>\n",
       "      <td>1.000000</td>\n",
       "      <td>1.00000</td>\n",
       "      <td>1.000000</td>\n",
       "      <td>1.000000</td>\n",
       "    </tr>\n",
       "    <tr>\n",
       "      <th>max</th>\n",
       "      <td>469219.000000</td>\n",
       "      <td>6.000000e+08</td>\n",
       "      <td>2.781506e+09</td>\n",
       "      <td>51420.000000</td>\n",
       "      <td>10.000000</td>\n",
       "      <td>12811.000000</td>\n",
       "      <td>26.00000</td>\n",
       "      <td>26.000000</td>\n",
       "      <td>25.000000</td>\n",
       "    </tr>\n",
       "  </tbody>\n",
       "</table>\n",
       "</div>"
      ],
      "text/plain": [
       "                  id        budget       revenue        runtime  \\\n",
       "count  329044.000000  3.290440e+05  3.290440e+05  292252.000000   \n",
       "mean   252984.152937  6.129073e+05  1.533838e+06      60.406813   \n",
       "std    138633.855160  6.845307e+06  2.401891e+07     142.502210   \n",
       "min         2.000000  0.000000e+00 -1.200000e+01       0.000000   \n",
       "25%    124796.250000  0.000000e+00  0.000000e+00       5.000000   \n",
       "50%    276473.500000  0.000000e+00  0.000000e+00      71.000000   \n",
       "75%    370839.250000  0.000000e+00  0.000000e+00      94.000000   \n",
       "max    469219.000000  6.000000e+08  2.781506e+09   51420.000000   \n",
       "\n",
       "        vote_average     vote_count  production_companies_number  \\\n",
       "count  329044.000000  329044.000000                 329044.00000   \n",
       "mean        2.374474      14.211270                      0.59475   \n",
       "std         3.126254     166.443851                      1.03807   \n",
       "min         0.000000       0.000000                      0.00000   \n",
       "25%         0.000000       0.000000                      0.00000   \n",
       "50%         0.000000       0.000000                      0.00000   \n",
       "75%         5.500000       1.000000                      1.00000   \n",
       "max        10.000000   12811.000000                     26.00000   \n",
       "\n",
       "       production_countries_number  spoken_languages_number  \n",
       "count                329044.000000            329044.000000  \n",
       "mean                      0.609882                 0.647628  \n",
       "std                       0.664861                 0.672048  \n",
       "min                       0.000000                 0.000000  \n",
       "25%                       0.000000                 0.000000  \n",
       "50%                       1.000000                 1.000000  \n",
       "75%                       1.000000                 1.000000  \n",
       "max                      26.000000                25.000000  "
      ]
     },
     "execution_count": 41,
     "metadata": {},
     "output_type": "execute_result"
    }
   ],
   "source": [
    "tmdb.head(2)\n",
    "tmdb.info()\n",
    "tmdb.describe()"
   ]
  },
  {
   "cell_type": "markdown",
   "metadata": {},
   "source": [
    "# Data Manipulation"
   ]
  },
  {
   "cell_type": "code",
   "execution_count": 6,
   "metadata": {
    "ExecuteTime": {
     "end_time": "2021-05-21T19:45:16.908136Z",
     "start_time": "2021-05-21T19:45:16.815384Z"
    },
    "cell_style": "center"
   },
   "outputs": [
    {
     "data": {
      "text/html": [
       "<div>\n",
       "<style scoped>\n",
       "    .dataframe tbody tr th:only-of-type {\n",
       "        vertical-align: middle;\n",
       "    }\n",
       "\n",
       "    .dataframe tbody tr th {\n",
       "        vertical-align: top;\n",
       "    }\n",
       "\n",
       "    .dataframe thead th {\n",
       "        text-align: right;\n",
       "    }\n",
       "</style>\n",
       "<table border=\"1\" class=\"dataframe\">\n",
       "  <thead>\n",
       "    <tr style=\"text-align: right;\">\n",
       "      <th></th>\n",
       "      <th>id</th>\n",
       "      <th>budget</th>\n",
       "      <th>genres</th>\n",
       "      <th>imdb_id</th>\n",
       "      <th>original_language</th>\n",
       "      <th>original_title</th>\n",
       "      <th>overview</th>\n",
       "      <th>popularity</th>\n",
       "      <th>production_companies</th>\n",
       "      <th>production_countries</th>\n",
       "      <th>...</th>\n",
       "      <th>runtime</th>\n",
       "      <th>spoken_languages</th>\n",
       "      <th>status</th>\n",
       "      <th>tagline</th>\n",
       "      <th>title</th>\n",
       "      <th>vote_average</th>\n",
       "      <th>vote_count</th>\n",
       "      <th>production_companies_number</th>\n",
       "      <th>production_countries_number</th>\n",
       "      <th>spoken_languages_number</th>\n",
       "    </tr>\n",
       "  </thead>\n",
       "  <tbody>\n",
       "    <tr>\n",
       "      <th>0</th>\n",
       "      <td>2</td>\n",
       "      <td>0</td>\n",
       "      <td>Drama|Crime</td>\n",
       "      <td>tt0094675</td>\n",
       "      <td>fi</td>\n",
       "      <td>Ariel</td>\n",
       "      <td>Taisto Kasurinen is a Finnish coal miner whose...</td>\n",
       "      <td>0.823904</td>\n",
       "      <td>Villealfa Filmproduction Oy</td>\n",
       "      <td>Finland</td>\n",
       "      <td>...</td>\n",
       "      <td>69.0</td>\n",
       "      <td>suomi</td>\n",
       "      <td>Released</td>\n",
       "      <td>NaN</td>\n",
       "      <td>Ariel</td>\n",
       "      <td>7.1</td>\n",
       "      <td>40</td>\n",
       "      <td>2</td>\n",
       "      <td>1</td>\n",
       "      <td>2</td>\n",
       "    </tr>\n",
       "    <tr>\n",
       "      <th>1</th>\n",
       "      <td>3</td>\n",
       "      <td>0</td>\n",
       "      <td>Drama|Comedy</td>\n",
       "      <td>tt0092149</td>\n",
       "      <td>fi</td>\n",
       "      <td>Varjoja paratiisissa</td>\n",
       "      <td>An episode in the life of Nikander, a garbage ...</td>\n",
       "      <td>0.47445</td>\n",
       "      <td>Villealfa Filmproduction Oy</td>\n",
       "      <td>Finland</td>\n",
       "      <td>...</td>\n",
       "      <td>76.0</td>\n",
       "      <td>English</td>\n",
       "      <td>Released</td>\n",
       "      <td>NaN</td>\n",
       "      <td>Shadows in Paradise</td>\n",
       "      <td>7.0</td>\n",
       "      <td>32</td>\n",
       "      <td>1</td>\n",
       "      <td>1</td>\n",
       "      <td>3</td>\n",
       "    </tr>\n",
       "  </tbody>\n",
       "</table>\n",
       "<p>2 rows × 22 columns</p>\n",
       "</div>"
      ],
      "text/plain": [
       "   id  budget        genres    imdb_id original_language  \\\n",
       "0   2       0   Drama|Crime  tt0094675                fi   \n",
       "1   3       0  Drama|Comedy  tt0092149                fi   \n",
       "\n",
       "         original_title                                           overview  \\\n",
       "0                 Ariel  Taisto Kasurinen is a Finnish coal miner whose...   \n",
       "1  Varjoja paratiisissa  An episode in the life of Nikander, a garbage ...   \n",
       "\n",
       "  popularity         production_companies production_countries  ... runtime  \\\n",
       "0   0.823904  Villealfa Filmproduction Oy              Finland  ...    69.0   \n",
       "1    0.47445  Villealfa Filmproduction Oy              Finland  ...    76.0   \n",
       "\n",
       "   spoken_languages    status tagline                title vote_average  \\\n",
       "0             suomi  Released     NaN                Ariel          7.1   \n",
       "1           English  Released     NaN  Shadows in Paradise          7.0   \n",
       "\n",
       "  vote_count  production_companies_number  production_countries_number  \\\n",
       "0         40                            2                            1   \n",
       "1         32                            1                            1   \n",
       "\n",
       "   spoken_languages_number  \n",
       "0                        2  \n",
       "1                        3  \n",
       "\n",
       "[2 rows x 22 columns]"
      ]
     },
     "execution_count": 6,
     "metadata": {},
     "output_type": "execute_result"
    }
   ],
   "source": [
    "# Keep certain columns in casts dataframe\n",
    "# Keep only the lead and first two supporting roles\n",
    "casts = casts[[\n",
    "    'id', 'actor1_name', 'actor2_name', 'actor3_name', 'director_name'\n",
    "]]\n",
    "\n",
    "# Keep certain columns in tmdb Dataframe\n",
    "tmdb.head(2)\n",
    "tmdb = tmdb[['id', 'overview', 'production_companies', 'production_countries']]"
   ]
  },
  {
   "cell_type": "code",
   "execution_count": 7,
   "metadata": {
    "ExecuteTime": {
     "end_time": "2021-05-21T19:45:16.973942Z",
     "start_time": "2021-05-21T19:45:16.910132Z"
    }
   },
   "outputs": [],
   "source": [
    "# Keep certain columns in tags Dataframe\n",
    "tags = tags[['movieId', 'tag']].drop_duplicates()\n",
    "\n",
    "# Aggregate tags with same movieId into a list, then convert list to string\n",
    "tags = tags.groupby(by='movieId')['tag'].apply(list).reset_index(name='tag')\n",
    "tags['tag'] = [\" \".join(map(str, l)) for l in tags['tag']]"
   ]
  },
  {
   "cell_type": "code",
   "execution_count": 8,
   "metadata": {
    "ExecuteTime": {
     "end_time": "2021-05-21T19:45:17.274929Z",
     "start_time": "2021-05-21T19:45:16.976900Z"
    }
   },
   "outputs": [],
   "source": [
    "# Merge casts and tmdb for Metadata\n",
    "tmdb_full = pd.merge(tmdb, casts, how='left', on='id')\n",
    "\n",
    "# Merge tmdb_full and movies using links Dataframe for keys\n",
    "merge1 = pd.merge(movies,\n",
    "                  links[['movieId', 'tmdbId']],\n",
    "                  how='left',\n",
    "                  on='movieId')\n",
    "\n",
    "df = pd.merge(merge1, tmdb_full, how='left', left_on='tmdbId', right_on='id')\n",
    "\n",
    "# Merge tags to the full df\n",
    "df = pd.merge(df, tags, how='left', on='movieId')\n",
    "\n",
    "# Extract year from title\n",
    "df['year'] = df['title'].str[-5:-1]"
   ]
  },
  {
   "cell_type": "code",
   "execution_count": 9,
   "metadata": {
    "ExecuteTime": {
     "end_time": "2021-05-21T19:45:17.293766Z",
     "start_time": "2021-05-21T19:45:17.276812Z"
    },
    "scrolled": true
   },
   "outputs": [
    {
     "data": {
      "text/html": [
       "<div>\n",
       "<style scoped>\n",
       "    .dataframe tbody tr th:only-of-type {\n",
       "        vertical-align: middle;\n",
       "    }\n",
       "\n",
       "    .dataframe tbody tr th {\n",
       "        vertical-align: top;\n",
       "    }\n",
       "\n",
       "    .dataframe thead th {\n",
       "        text-align: right;\n",
       "    }\n",
       "</style>\n",
       "<table border=\"1\" class=\"dataframe\">\n",
       "  <thead>\n",
       "    <tr style=\"text-align: right;\">\n",
       "      <th></th>\n",
       "      <th>movieId</th>\n",
       "      <th>title</th>\n",
       "      <th>genres</th>\n",
       "      <th>tmdbId</th>\n",
       "      <th>id</th>\n",
       "      <th>overview</th>\n",
       "      <th>production_companies</th>\n",
       "      <th>production_countries</th>\n",
       "      <th>actor1_name</th>\n",
       "      <th>actor2_name</th>\n",
       "      <th>actor3_name</th>\n",
       "      <th>director_name</th>\n",
       "      <th>tag</th>\n",
       "      <th>year</th>\n",
       "    </tr>\n",
       "  </thead>\n",
       "  <tbody>\n",
       "    <tr>\n",
       "      <th>0</th>\n",
       "      <td>1</td>\n",
       "      <td>Toy Story (1995)</td>\n",
       "      <td>Adventure|Animation|Children|Comedy|Fantasy</td>\n",
       "      <td>862.0</td>\n",
       "      <td>862.0</td>\n",
       "      <td>Led by Woody, Andy's toys live happily in his ...</td>\n",
       "      <td>Pixar Animation Studios</td>\n",
       "      <td>United States of America</td>\n",
       "      <td>Tom Hanks</td>\n",
       "      <td>Tim Allen</td>\n",
       "      <td>Don Rickles</td>\n",
       "      <td>John Lasseter</td>\n",
       "      <td>pixar fun</td>\n",
       "      <td>1995</td>\n",
       "    </tr>\n",
       "    <tr>\n",
       "      <th>1</th>\n",
       "      <td>2</td>\n",
       "      <td>Jumanji (1995)</td>\n",
       "      <td>Adventure|Children|Fantasy</td>\n",
       "      <td>8844.0</td>\n",
       "      <td>8844.0</td>\n",
       "      <td>When siblings Judy and Peter discover an encha...</td>\n",
       "      <td>TriStar Pictures</td>\n",
       "      <td>United States of America</td>\n",
       "      <td>Robin Williams</td>\n",
       "      <td>Jonathan Hyde</td>\n",
       "      <td>Kirsten Dunst</td>\n",
       "      <td>Joe Johnston</td>\n",
       "      <td>fantasy magic board game Robin Williams game</td>\n",
       "      <td>1995</td>\n",
       "    </tr>\n",
       "  </tbody>\n",
       "</table>\n",
       "</div>"
      ],
      "text/plain": [
       "   movieId             title                                       genres  \\\n",
       "0        1  Toy Story (1995)  Adventure|Animation|Children|Comedy|Fantasy   \n",
       "1        2    Jumanji (1995)                   Adventure|Children|Fantasy   \n",
       "\n",
       "   tmdbId      id                                           overview  \\\n",
       "0   862.0   862.0  Led by Woody, Andy's toys live happily in his ...   \n",
       "1  8844.0  8844.0  When siblings Judy and Peter discover an encha...   \n",
       "\n",
       "      production_companies      production_countries     actor1_name  \\\n",
       "0  Pixar Animation Studios  United States of America       Tom Hanks   \n",
       "1         TriStar Pictures  United States of America  Robin Williams   \n",
       "\n",
       "     actor2_name    actor3_name  director_name  \\\n",
       "0      Tim Allen    Don Rickles  John Lasseter   \n",
       "1  Jonathan Hyde  Kirsten Dunst   Joe Johnston   \n",
       "\n",
       "                                            tag  year  \n",
       "0                                     pixar fun  1995  \n",
       "1  fantasy magic board game Robin Williams game  1995  "
      ]
     },
     "execution_count": 9,
     "metadata": {},
     "output_type": "execute_result"
    }
   ],
   "source": [
    "df.head(2)"
   ]
  },
  {
   "cell_type": "markdown",
   "metadata": {},
   "source": [
    "# Data Exploratory Analysis"
   ]
  },
  {
   "cell_type": "markdown",
   "metadata": {},
   "source": [
    "## Combined (Df) Dataframe"
   ]
  },
  {
   "cell_type": "code",
   "execution_count": 10,
   "metadata": {
    "ExecuteTime": {
     "end_time": "2021-05-21T19:45:17.322700Z",
     "start_time": "2021-05-21T19:45:17.296760Z"
    },
    "cell_style": "split"
   },
   "outputs": [
    {
     "data": {
      "text/plain": [
       "(9742, 14)"
      ]
     },
     "execution_count": 10,
     "metadata": {},
     "output_type": "execute_result"
    },
    {
     "name": "stdout",
     "output_type": "stream",
     "text": [
      "<class 'pandas.core.frame.DataFrame'>\n",
      "Int64Index: 9742 entries, 0 to 9741\n",
      "Data columns (total 14 columns):\n",
      " #   Column                Non-Null Count  Dtype  \n",
      "---  ------                --------------  -----  \n",
      " 0   movieId               9742 non-null   int64  \n",
      " 1   title                 9742 non-null   object \n",
      " 2   genres                9742 non-null   object \n",
      " 3   tmdbId                9734 non-null   float64\n",
      " 4   id                    9637 non-null   float64\n",
      " 5   overview              9613 non-null   object \n",
      " 6   production_companies  9637 non-null   object \n",
      " 7   production_countries  9637 non-null   object \n",
      " 8   actor1_name           9637 non-null   object \n",
      " 9   actor2_name           9637 non-null   object \n",
      " 10  actor3_name           9637 non-null   object \n",
      " 11  director_name         9637 non-null   object \n",
      " 12  tag                   1572 non-null   object \n",
      " 13  year                  9742 non-null   object \n",
      "dtypes: float64(2), int64(1), object(11)\n",
      "memory usage: 1.1+ MB\n"
     ]
    }
   ],
   "source": [
    "df.shape\n",
    "df.info()"
   ]
  },
  {
   "cell_type": "code",
   "execution_count": 11,
   "metadata": {
    "ExecuteTime": {
     "end_time": "2021-05-21T19:45:17.365587Z",
     "start_time": "2021-05-21T19:45:17.324686Z"
    },
    "cell_style": "split"
   },
   "outputs": [
    {
     "data": {
      "text/plain": [
       "movieId                    0\n",
       "title                      0\n",
       "genres                     0\n",
       "overview                 129\n",
       "production_companies     105\n",
       "production_countries     105\n",
       "actor1_name              105\n",
       "actor2_name              105\n",
       "actor3_name              105\n",
       "director_name            105\n",
       "tag                     8170\n",
       "year                       0\n",
       "dtype: int64"
      ]
     },
     "execution_count": 11,
     "metadata": {},
     "output_type": "execute_result"
    },
    {
     "data": {
      "text/plain": [
       "movieId                 0\n",
       "title                   0\n",
       "genres                  0\n",
       "overview                0\n",
       "production_companies    0\n",
       "production_countries    0\n",
       "actor1_name             0\n",
       "actor2_name             0\n",
       "actor3_name             0\n",
       "director_name           0\n",
       "tag                     0\n",
       "year                    0\n",
       "dtype: int64"
      ]
     },
     "execution_count": 11,
     "metadata": {},
     "output_type": "execute_result"
    }
   ],
   "source": [
    "# Drop unused columns\n",
    "df.drop(columns=['tmdbId', 'id'], inplace=True)\n",
    "\n",
    "# Find how many NaN value and fill them with blank\n",
    "df.isna().sum()\n",
    "df = df.fillna('')\n",
    "df.isna().sum()"
   ]
  },
  {
   "cell_type": "code",
   "execution_count": 12,
   "metadata": {
    "ExecuteTime": {
     "end_time": "2021-05-21T19:45:17.403479Z",
     "start_time": "2021-05-21T19:45:17.367570Z"
    }
   },
   "outputs": [],
   "source": [
    "# Remove 'none' instance with empty string in selected columns\n",
    "for i in [\n",
    "        'production_companies', 'production_countries', 'actor1_name',\n",
    "        'actor2_name', 'actor3_name', 'director_name', 'tag'\n",
    "]:\n",
    "    df.loc[df[i].astype(str) == 'none', i] = ''"
   ]
  },
  {
   "cell_type": "code",
   "execution_count": 13,
   "metadata": {
    "ExecuteTime": {
     "end_time": "2021-05-21T19:45:17.423421Z",
     "start_time": "2021-05-21T19:45:17.406466Z"
    }
   },
   "outputs": [
    {
     "data": {
      "text/html": [
       "<div>\n",
       "<style scoped>\n",
       "    .dataframe tbody tr th:only-of-type {\n",
       "        vertical-align: middle;\n",
       "    }\n",
       "\n",
       "    .dataframe tbody tr th {\n",
       "        vertical-align: top;\n",
       "    }\n",
       "\n",
       "    .dataframe thead th {\n",
       "        text-align: right;\n",
       "    }\n",
       "</style>\n",
       "<table border=\"1\" class=\"dataframe\">\n",
       "  <thead>\n",
       "    <tr style=\"text-align: right;\">\n",
       "      <th></th>\n",
       "      <th>movieId</th>\n",
       "      <th>title</th>\n",
       "      <th>genres</th>\n",
       "      <th>overview</th>\n",
       "      <th>production_companies</th>\n",
       "      <th>production_countries</th>\n",
       "      <th>actor1_name</th>\n",
       "      <th>actor2_name</th>\n",
       "      <th>actor3_name</th>\n",
       "      <th>director_name</th>\n",
       "      <th>tag</th>\n",
       "      <th>year</th>\n",
       "    </tr>\n",
       "  </thead>\n",
       "  <tbody>\n",
       "    <tr>\n",
       "      <th>0</th>\n",
       "      <td>1</td>\n",
       "      <td>Toy Story (1995)</td>\n",
       "      <td>Adventure|Animation|Children|Comedy|Fantasy</td>\n",
       "      <td>Led by Woody, Andy's toys live happily in his ...</td>\n",
       "      <td>Pixar Animation Studios</td>\n",
       "      <td>United States of America</td>\n",
       "      <td>Tom Hanks</td>\n",
       "      <td>Tim Allen</td>\n",
       "      <td>Don Rickles</td>\n",
       "      <td>John Lasseter</td>\n",
       "      <td>pixar fun</td>\n",
       "      <td>1995</td>\n",
       "    </tr>\n",
       "    <tr>\n",
       "      <th>1</th>\n",
       "      <td>2</td>\n",
       "      <td>Jumanji (1995)</td>\n",
       "      <td>Adventure|Children|Fantasy</td>\n",
       "      <td>When siblings Judy and Peter discover an encha...</td>\n",
       "      <td>TriStar Pictures</td>\n",
       "      <td>United States of America</td>\n",
       "      <td>Robin Williams</td>\n",
       "      <td>Jonathan Hyde</td>\n",
       "      <td>Kirsten Dunst</td>\n",
       "      <td>Joe Johnston</td>\n",
       "      <td>fantasy magic board game Robin Williams game</td>\n",
       "      <td>1995</td>\n",
       "    </tr>\n",
       "  </tbody>\n",
       "</table>\n",
       "</div>"
      ],
      "text/plain": [
       "   movieId             title                                       genres  \\\n",
       "0        1  Toy Story (1995)  Adventure|Animation|Children|Comedy|Fantasy   \n",
       "1        2    Jumanji (1995)                   Adventure|Children|Fantasy   \n",
       "\n",
       "                                            overview     production_companies  \\\n",
       "0  Led by Woody, Andy's toys live happily in his ...  Pixar Animation Studios   \n",
       "1  When siblings Judy and Peter discover an encha...         TriStar Pictures   \n",
       "\n",
       "       production_countries     actor1_name    actor2_name    actor3_name  \\\n",
       "0  United States of America       Tom Hanks      Tim Allen    Don Rickles   \n",
       "1  United States of America  Robin Williams  Jonathan Hyde  Kirsten Dunst   \n",
       "\n",
       "   director_name                                           tag  year  \n",
       "0  John Lasseter                                     pixar fun  1995  \n",
       "1   Joe Johnston  fantasy magic board game Robin Williams game  1995  "
      ]
     },
     "execution_count": 13,
     "metadata": {},
     "output_type": "execute_result"
    }
   ],
   "source": [
    "df.head(2)"
   ]
  },
  {
   "cell_type": "code",
   "execution_count": 14,
   "metadata": {
    "ExecuteTime": {
     "end_time": "2021-05-21T19:45:17.698201Z",
     "start_time": "2021-05-21T19:45:17.425415Z"
    },
    "cell_style": "split"
   },
   "outputs": [
    {
     "data": {
      "text/plain": [
       "<AxesSubplot:xlabel='count', ylabel='production_countries'>"
      ]
     },
     "execution_count": 14,
     "metadata": {},
     "output_type": "execute_result"
    },
    {
     "data": {
      "image/png": "[encoded data removed]",
      "text/plain": [
       "<Figure size 432x288 with 1 Axes>"
      ]
     },
     "metadata": {
      "needs_background": "light"
     },
     "output_type": "display_data"
    }
   ],
   "source": [
    "sns.countplot(y=df['production_countries'],\n",
    "              order=df['production_countries'].value_counts().iloc[:10].index)\n",
    "sns.despine(top=True, right=True)"
   ]
  },
  {
   "cell_type": "code",
   "execution_count": 15,
   "metadata": {
    "ExecuteTime": {
     "end_time": "2021-05-21T19:45:17.935557Z",
     "start_time": "2021-05-21T19:45:17.700196Z"
    },
    "cell_style": "split"
   },
   "outputs": [
    {
     "data": {
      "text/plain": [
       "<AxesSubplot:xlabel='count', ylabel='production_companies'>"
      ]
     },
     "execution_count": 15,
     "metadata": {},
     "output_type": "execute_result"
    },
    {
     "data": {
      "image/png": "[encoded data removed]",
      "text/plain": [
       "<Figure size 432x288 with 1 Axes>"
      ]
     },
     "metadata": {
      "needs_background": "light"
     },
     "output_type": "display_data"
    }
   ],
   "source": [
    "sns.countplot(y=df['production_companies'],\n",
    "              order=df['production_companies'].value_counts().iloc[1:11].index)\n",
    "sns.despine(top=True, right=True)"
   ]
  },
  {
   "cell_type": "code",
   "execution_count": null,
   "metadata": {},
   "outputs": [],
   "source": []
  },
  {
   "cell_type": "code",
   "execution_count": 16,
   "metadata": {
    "ExecuteTime": {
     "end_time": "2021-05-21T19:45:18.156971Z",
     "start_time": "2021-05-21T19:45:17.937528Z"
    },
    "cell_style": "split",
    "scrolled": true
   },
   "outputs": [
    {
     "data": {
      "text/plain": [
       "<AxesSubplot:xlabel='count', ylabel='director_name'>"
      ]
     },
     "execution_count": 16,
     "metadata": {},
     "output_type": "execute_result"
    },
    {
     "data": {
      "image/png": "[encoded data removed]",
      "text/plain": [
       "<Figure size 432x288 with 1 Axes>"
      ]
     },
     "metadata": {
      "needs_background": "light"
     },
     "output_type": "display_data"
    }
   ],
   "source": [
    "sns.countplot(y=df['director_name'],\n",
    "              order=df['director_name'].value_counts().iloc[1:11].index)\n",
    "sns.despine(top=True, right=True)"
   ]
  },
  {
   "cell_type": "code",
   "execution_count": 17,
   "metadata": {
    "ExecuteTime": {
     "end_time": "2021-05-21T19:45:18.384040Z",
     "start_time": "2021-05-21T19:45:18.158960Z"
    },
    "cell_style": "split"
   },
   "outputs": [
    {
     "data": {
      "text/plain": [
       "<AxesSubplot:xlabel='count', ylabel='actor1_name'>"
      ]
     },
     "execution_count": 17,
     "metadata": {},
     "output_type": "execute_result"
    },
    {
     "data": {
      "image/png": "[encoded data removed]",
      "text/plain": [
       "<Figure size 432x288 with 1 Axes>"
      ]
     },
     "metadata": {
      "needs_background": "light"
     },
     "output_type": "display_data"
    }
   ],
   "source": [
    "sns.countplot(y=df['actor1_name'],\n",
    "              order=df['actor1_name'].value_counts().iloc[1:11].index)\n",
    "sns.despine(top=True, right=True)"
   ]
  },
  {
   "cell_type": "markdown",
   "metadata": {},
   "source": [
    "## Ratings Dataframe"
   ]
  },
  {
   "cell_type": "code",
   "execution_count": 18,
   "metadata": {
    "ExecuteTime": {
     "end_time": "2021-05-21T19:45:18.399001Z",
     "start_time": "2021-05-21T19:45:18.386012Z"
    }
   },
   "outputs": [
    {
     "data": {
      "text/plain": [
       "(100836, 4)"
      ]
     },
     "execution_count": 18,
     "metadata": {},
     "output_type": "execute_result"
    },
    {
     "name": "stdout",
     "output_type": "stream",
     "text": [
      "<class 'pandas.core.frame.DataFrame'>\n",
      "RangeIndex: 100836 entries, 0 to 100835\n",
      "Data columns (total 4 columns):\n",
      " #   Column     Non-Null Count   Dtype  \n",
      "---  ------     --------------   -----  \n",
      " 0   userId     100836 non-null  int64  \n",
      " 1   movieId    100836 non-null  int64  \n",
      " 2   rating     100836 non-null  float64\n",
      " 3   timestamp  100836 non-null  int64  \n",
      "dtypes: float64(1), int64(3)\n",
      "memory usage: 3.1 MB\n"
     ]
    }
   ],
   "source": [
    "ratings.shape\n",
    "ratings.info()"
   ]
  },
  {
   "cell_type": "code",
   "execution_count": 19,
   "metadata": {
    "ExecuteTime": {
     "end_time": "2021-05-21T19:45:18.411943Z",
     "start_time": "2021-05-21T19:45:18.400977Z"
    },
    "cell_style": "split"
   },
   "outputs": [
    {
     "data": {
      "text/html": [
       "<div>\n",
       "<style scoped>\n",
       "    .dataframe tbody tr th:only-of-type {\n",
       "        vertical-align: middle;\n",
       "    }\n",
       "\n",
       "    .dataframe tbody tr th {\n",
       "        vertical-align: top;\n",
       "    }\n",
       "\n",
       "    .dataframe thead th {\n",
       "        text-align: right;\n",
       "    }\n",
       "</style>\n",
       "<table border=\"1\" class=\"dataframe\">\n",
       "  <thead>\n",
       "    <tr style=\"text-align: right;\">\n",
       "      <th></th>\n",
       "      <th>userId</th>\n",
       "      <th>movieId</th>\n",
       "      <th>rating</th>\n",
       "      <th>timestamp</th>\n",
       "    </tr>\n",
       "  </thead>\n",
       "  <tbody>\n",
       "    <tr>\n",
       "      <th>0</th>\n",
       "      <td>1</td>\n",
       "      <td>1</td>\n",
       "      <td>4.0</td>\n",
       "      <td>964982703</td>\n",
       "    </tr>\n",
       "    <tr>\n",
       "      <th>1</th>\n",
       "      <td>1</td>\n",
       "      <td>3</td>\n",
       "      <td>4.0</td>\n",
       "      <td>964981247</td>\n",
       "    </tr>\n",
       "    <tr>\n",
       "      <th>2</th>\n",
       "      <td>1</td>\n",
       "      <td>6</td>\n",
       "      <td>4.0</td>\n",
       "      <td>964982224</td>\n",
       "    </tr>\n",
       "    <tr>\n",
       "      <th>3</th>\n",
       "      <td>1</td>\n",
       "      <td>47</td>\n",
       "      <td>5.0</td>\n",
       "      <td>964983815</td>\n",
       "    </tr>\n",
       "    <tr>\n",
       "      <th>4</th>\n",
       "      <td>1</td>\n",
       "      <td>50</td>\n",
       "      <td>5.0</td>\n",
       "      <td>964982931</td>\n",
       "    </tr>\n",
       "  </tbody>\n",
       "</table>\n",
       "</div>"
      ],
      "text/plain": [
       "   userId  movieId  rating  timestamp\n",
       "0       1        1     4.0  964982703\n",
       "1       1        3     4.0  964981247\n",
       "2       1        6     4.0  964982224\n",
       "3       1       47     5.0  964983815\n",
       "4       1       50     5.0  964982931"
      ]
     },
     "execution_count": 19,
     "metadata": {},
     "output_type": "execute_result"
    }
   ],
   "source": [
    "ratings.head(5)"
   ]
  },
  {
   "cell_type": "code",
   "execution_count": 20,
   "metadata": {
    "ExecuteTime": {
     "end_time": "2021-05-21T19:45:18.424909Z",
     "start_time": "2021-05-21T19:45:18.414935Z"
    },
    "cell_style": "split",
    "scrolled": true
   },
   "outputs": [
    {
     "data": {
      "text/html": [
       "<div>\n",
       "<style scoped>\n",
       "    .dataframe tbody tr th:only-of-type {\n",
       "        vertical-align: middle;\n",
       "    }\n",
       "\n",
       "    .dataframe tbody tr th {\n",
       "        vertical-align: top;\n",
       "    }\n",
       "\n",
       "    .dataframe thead th {\n",
       "        text-align: right;\n",
       "    }\n",
       "</style>\n",
       "<table border=\"1\" class=\"dataframe\">\n",
       "  <thead>\n",
       "    <tr style=\"text-align: right;\">\n",
       "      <th></th>\n",
       "      <th>userId</th>\n",
       "      <th>movieId</th>\n",
       "      <th>rating</th>\n",
       "      <th>timestamp</th>\n",
       "    </tr>\n",
       "  </thead>\n",
       "  <tbody>\n",
       "    <tr>\n",
       "      <th>100831</th>\n",
       "      <td>610</td>\n",
       "      <td>166534</td>\n",
       "      <td>4.0</td>\n",
       "      <td>1493848402</td>\n",
       "    </tr>\n",
       "    <tr>\n",
       "      <th>100832</th>\n",
       "      <td>610</td>\n",
       "      <td>168248</td>\n",
       "      <td>5.0</td>\n",
       "      <td>1493850091</td>\n",
       "    </tr>\n",
       "    <tr>\n",
       "      <th>100833</th>\n",
       "      <td>610</td>\n",
       "      <td>168250</td>\n",
       "      <td>5.0</td>\n",
       "      <td>1494273047</td>\n",
       "    </tr>\n",
       "    <tr>\n",
       "      <th>100834</th>\n",
       "      <td>610</td>\n",
       "      <td>168252</td>\n",
       "      <td>5.0</td>\n",
       "      <td>1493846352</td>\n",
       "    </tr>\n",
       "    <tr>\n",
       "      <th>100835</th>\n",
       "      <td>610</td>\n",
       "      <td>170875</td>\n",
       "      <td>3.0</td>\n",
       "      <td>1493846415</td>\n",
       "    </tr>\n",
       "  </tbody>\n",
       "</table>\n",
       "</div>"
      ],
      "text/plain": [
       "        userId  movieId  rating   timestamp\n",
       "100831     610   166534     4.0  1493848402\n",
       "100832     610   168248     5.0  1493850091\n",
       "100833     610   168250     5.0  1494273047\n",
       "100834     610   168252     5.0  1493846352\n",
       "100835     610   170875     3.0  1493846415"
      ]
     },
     "execution_count": 20,
     "metadata": {},
     "output_type": "execute_result"
    }
   ],
   "source": [
    "ratings.tail(5)"
   ]
  },
  {
   "cell_type": "code",
   "execution_count": 21,
   "metadata": {
    "ExecuteTime": {
     "end_time": "2021-05-21T19:45:18.441891Z",
     "start_time": "2021-05-21T19:45:18.426903Z"
    },
    "cell_style": "split"
   },
   "outputs": [
    {
     "data": {
      "text/plain": [
       "count    100836.000000\n",
       "mean          3.501557\n",
       "std           1.042529\n",
       "min           0.500000\n",
       "25%           3.000000\n",
       "50%           3.500000\n",
       "75%           4.000000\n",
       "max           5.000000\n",
       "Name: rating, dtype: float64"
      ]
     },
     "execution_count": 21,
     "metadata": {},
     "output_type": "execute_result"
    }
   ],
   "source": [
    "ratings['rating'].describe()"
   ]
  },
  {
   "cell_type": "code",
   "execution_count": 22,
   "metadata": {
    "ExecuteTime": {
     "end_time": "2021-05-21T19:45:18.644349Z",
     "start_time": "2021-05-21T19:45:18.442860Z"
    },
    "cell_style": "split",
    "scrolled": true
   },
   "outputs": [
    {
     "data": {
      "text/plain": [
       "<AxesSubplot:xlabel='rating', ylabel='count'>"
      ]
     },
     "execution_count": 22,
     "metadata": {},
     "output_type": "execute_result"
    },
    {
     "data": {
      "image/png": "[encoded data removed]",
      "text/plain": [
       "<Figure size 432x288 with 1 Axes>"
      ]
     },
     "metadata": {
      "needs_background": "light"
     },
     "output_type": "display_data"
    }
   ],
   "source": [
    "sns.countplot(ratings['rating'])\n",
    "sns.despine(top=True, right=True)"
   ]
  },
  {
   "cell_type": "code",
   "execution_count": 23,
   "metadata": {
    "ExecuteTime": {
     "end_time": "2021-05-21T19:45:19.035643Z",
     "start_time": "2021-05-21T19:45:18.648331Z"
    }
   },
   "outputs": [],
   "source": [
    "genres = [\n",
    "    'Action', 'Adventure', 'Animation', 'Children', 'Comedy', 'Crime',\n",
    "    'Documentary', 'Drama', 'Fantasy', 'Film-Noir', 'Horror', 'Musical',\n",
    "    'Mystery', 'Romance', 'Sci-Fi', 'Thriller', 'War', 'Western'\n",
    "]\n",
    "\n",
    "genres_rating_list = []\n",
    "\n",
    "for i in range(len(genres)):\n",
    "    fil = genres[i] + '_filter'\n",
    "    mov = genres[i] + '_movies'\n",
    "    rat = genres[i] + '_ratings'\n",
    "    rat_mean = rat + '_mean'\n",
    "    fil = movies['genres'].str.contains(genres[i])\n",
    "    mov = movies[fil]\n",
    "    rat = mov.merge(ratings, on='movieId', how='inner')\n",
    "    rat_mean = round(rat['rating'].mean(), 2)\n",
    "    genres_rating_list.append(rat_mean)\n",
    "\n",
    "genres_rating = {'Genre': genres, 'Genres Mean Rating': genres_rating_list}\n",
    "genres_rating = pd.DataFrame(genres_rating)"
   ]
  },
  {
   "cell_type": "code",
   "execution_count": 24,
   "metadata": {
    "ExecuteTime": {
     "end_time": "2021-05-21T19:45:19.372189Z",
     "start_time": "2021-05-21T19:45:19.039632Z"
    }
   },
   "outputs": [
    {
     "data": {
      "text/plain": [
       "<AxesSubplot:xlabel='Genre', ylabel='Genres Mean Rating'>"
      ]
     },
     "execution_count": 24,
     "metadata": {},
     "output_type": "execute_result"
    },
    {
     "data": {
      "text/plain": [
       "(array([ 0,  1,  2,  3,  4,  5,  6,  7,  8,  9, 10, 11, 12, 13, 14, 15, 16,\n",
       "        17]),\n",
       " [Text(0, 0, 'Action'),\n",
       "  Text(1, 0, 'Adventure'),\n",
       "  Text(2, 0, 'Animation'),\n",
       "  Text(3, 0, 'Children'),\n",
       "  Text(4, 0, 'Comedy'),\n",
       "  Text(5, 0, 'Crime'),\n",
       "  Text(6, 0, 'Documentary'),\n",
       "  Text(7, 0, 'Drama'),\n",
       "  Text(8, 0, 'Fantasy'),\n",
       "  Text(9, 0, 'Film-Noir'),\n",
       "  Text(10, 0, 'Horror'),\n",
       "  Text(11, 0, 'Musical'),\n",
       "  Text(12, 0, 'Mystery'),\n",
       "  Text(13, 0, 'Romance'),\n",
       "  Text(14, 0, 'Sci-Fi'),\n",
       "  Text(15, 0, 'Thriller'),\n",
       "  Text(16, 0, 'War'),\n",
       "  Text(17, 0, 'Western')])"
      ]
     },
     "execution_count": 24,
     "metadata": {},
     "output_type": "execute_result"
    },
    {
     "data": {
      "text/plain": [
       "(3.0, 4.0)"
      ]
     },
     "execution_count": 24,
     "metadata": {},
     "output_type": "execute_result"
    },
    {
     "data": {
      "text/plain": [
       "<matplotlib.lines.Line2D at 0x1d230e7a5b0>"
      ]
     },
     "execution_count": 24,
     "metadata": {},
     "output_type": "execute_result"
    },
    {
     "data": {
      "image/png": "[encoded data removed]",
      "text/plain": [
       "<Figure size 432x288 with 1 Axes>"
      ]
     },
     "metadata": {
      "needs_background": "light"
     },
     "output_type": "display_data"
    }
   ],
   "source": [
    "sns.barplot(x='Genre', y='Genres Mean Rating', data=genres_rating)\n",
    "plt.xticks(rotation=70)\n",
    "plt.ylim([3, 4])\n",
    "plt.tight_layout()\n",
    "plt.axhline(genres_rating['Genres Mean Rating'].mean())\n",
    "sns.despine(top=True, right=True)\n",
    "plt.show()"
   ]
  },
  {
   "cell_type": "code",
   "execution_count": 25,
   "metadata": {
    "ExecuteTime": {
     "end_time": "2021-05-21T19:45:19.581747Z",
     "start_time": "2021-05-21T19:45:19.374155Z"
    }
   },
   "outputs": [
    {
     "data": {
      "text/html": [
       "<div>\n",
       "<style scoped>\n",
       "    .dataframe tbody tr th:only-of-type {\n",
       "        vertical-align: middle;\n",
       "    }\n",
       "\n",
       "    .dataframe tbody tr th {\n",
       "        vertical-align: top;\n",
       "    }\n",
       "\n",
       "    .dataframe thead th {\n",
       "        text-align: right;\n",
       "    }\n",
       "</style>\n",
       "<table border=\"1\" class=\"dataframe\">\n",
       "  <thead>\n",
       "    <tr style=\"text-align: right;\">\n",
       "      <th></th>\n",
       "      <th>Action</th>\n",
       "      <th>Adventure</th>\n",
       "      <th>Animation</th>\n",
       "      <th>Children</th>\n",
       "      <th>Comedy</th>\n",
       "      <th>Crime</th>\n",
       "      <th>Documentary</th>\n",
       "      <th>Drama</th>\n",
       "      <th>Fantasy</th>\n",
       "      <th>Film-Noir</th>\n",
       "      <th>Horror</th>\n",
       "      <th>Musical</th>\n",
       "      <th>Mystery</th>\n",
       "      <th>Romance</th>\n",
       "      <th>Sci-Fi</th>\n",
       "      <th>Thriller</th>\n",
       "      <th>War</th>\n",
       "      <th>Western</th>\n",
       "    </tr>\n",
       "  </thead>\n",
       "  <tbody>\n",
       "    <tr>\n",
       "      <th>0</th>\n",
       "      <td>0</td>\n",
       "      <td>1</td>\n",
       "      <td>1</td>\n",
       "      <td>1</td>\n",
       "      <td>1</td>\n",
       "      <td>0</td>\n",
       "      <td>0</td>\n",
       "      <td>0</td>\n",
       "      <td>1</td>\n",
       "      <td>0</td>\n",
       "      <td>0</td>\n",
       "      <td>0</td>\n",
       "      <td>0</td>\n",
       "      <td>0</td>\n",
       "      <td>0</td>\n",
       "      <td>0</td>\n",
       "      <td>0</td>\n",
       "      <td>0</td>\n",
       "    </tr>\n",
       "    <tr>\n",
       "      <th>1</th>\n",
       "      <td>0</td>\n",
       "      <td>1</td>\n",
       "      <td>0</td>\n",
       "      <td>1</td>\n",
       "      <td>0</td>\n",
       "      <td>0</td>\n",
       "      <td>0</td>\n",
       "      <td>0</td>\n",
       "      <td>1</td>\n",
       "      <td>0</td>\n",
       "      <td>0</td>\n",
       "      <td>0</td>\n",
       "      <td>0</td>\n",
       "      <td>0</td>\n",
       "      <td>0</td>\n",
       "      <td>0</td>\n",
       "      <td>0</td>\n",
       "      <td>0</td>\n",
       "    </tr>\n",
       "    <tr>\n",
       "      <th>2</th>\n",
       "      <td>0</td>\n",
       "      <td>0</td>\n",
       "      <td>0</td>\n",
       "      <td>0</td>\n",
       "      <td>1</td>\n",
       "      <td>0</td>\n",
       "      <td>0</td>\n",
       "      <td>0</td>\n",
       "      <td>0</td>\n",
       "      <td>0</td>\n",
       "      <td>0</td>\n",
       "      <td>0</td>\n",
       "      <td>0</td>\n",
       "      <td>1</td>\n",
       "      <td>0</td>\n",
       "      <td>0</td>\n",
       "      <td>0</td>\n",
       "      <td>0</td>\n",
       "    </tr>\n",
       "    <tr>\n",
       "      <th>3</th>\n",
       "      <td>0</td>\n",
       "      <td>0</td>\n",
       "      <td>0</td>\n",
       "      <td>0</td>\n",
       "      <td>1</td>\n",
       "      <td>0</td>\n",
       "      <td>0</td>\n",
       "      <td>1</td>\n",
       "      <td>0</td>\n",
       "      <td>0</td>\n",
       "      <td>0</td>\n",
       "      <td>0</td>\n",
       "      <td>0</td>\n",
       "      <td>1</td>\n",
       "      <td>0</td>\n",
       "      <td>0</td>\n",
       "      <td>0</td>\n",
       "      <td>0</td>\n",
       "    </tr>\n",
       "    <tr>\n",
       "      <th>4</th>\n",
       "      <td>0</td>\n",
       "      <td>0</td>\n",
       "      <td>0</td>\n",
       "      <td>0</td>\n",
       "      <td>1</td>\n",
       "      <td>0</td>\n",
       "      <td>0</td>\n",
       "      <td>0</td>\n",
       "      <td>0</td>\n",
       "      <td>0</td>\n",
       "      <td>0</td>\n",
       "      <td>0</td>\n",
       "      <td>0</td>\n",
       "      <td>0</td>\n",
       "      <td>0</td>\n",
       "      <td>0</td>\n",
       "      <td>0</td>\n",
       "      <td>0</td>\n",
       "    </tr>\n",
       "  </tbody>\n",
       "</table>\n",
       "</div>"
      ],
      "text/plain": [
       "   Action  Adventure  Animation  Children  Comedy  Crime  Documentary  Drama  \\\n",
       "0       0          1          1         1       1      0            0      0   \n",
       "1       0          1          0         1       0      0            0      0   \n",
       "2       0          0          0         0       1      0            0      0   \n",
       "3       0          0          0         0       1      0            0      1   \n",
       "4       0          0          0         0       1      0            0      0   \n",
       "\n",
       "   Fantasy  Film-Noir  Horror  Musical  Mystery  Romance  Sci-Fi  Thriller  \\\n",
       "0        1          0       0        0        0        0       0         0   \n",
       "1        1          0       0        0        0        0       0         0   \n",
       "2        0          0       0        0        0        1       0         0   \n",
       "3        0          0       0        0        0        1       0         0   \n",
       "4        0          0       0        0        0        0       0         0   \n",
       "\n",
       "   War  Western  \n",
       "0    0        0  \n",
       "1    0        0  \n",
       "2    0        0  \n",
       "3    0        0  \n",
       "4    0        0  "
      ]
     },
     "execution_count": 25,
     "metadata": {},
     "output_type": "execute_result"
    }
   ],
   "source": [
    "genres = movies.genres.str.get_dummies()\n",
    "genres = genres.drop(columns=['(no genres listed)', 'IMAX'])\n",
    "genres.head()"
   ]
  },
  {
   "cell_type": "code",
   "execution_count": 26,
   "metadata": {
    "ExecuteTime": {
     "end_time": "2021-05-21T19:45:19.587708Z",
     "start_time": "2021-05-21T19:45:19.583714Z"
    }
   },
   "outputs": [],
   "source": [
    "total = genres.sum()"
   ]
  },
  {
   "cell_type": "code",
   "execution_count": 27,
   "metadata": {
    "ExecuteTime": {
     "end_time": "2021-05-21T19:45:19.597676Z",
     "start_time": "2021-05-21T19:45:19.589698Z"
    }
   },
   "outputs": [
    {
     "data": {
      "text/plain": [
       "Drama          4361\n",
       "Comedy         3756\n",
       "Thriller       1894\n",
       "Action         1828\n",
       "Romance        1596\n",
       "Adventure      1263\n",
       "Crime          1199\n",
       "Sci-Fi          980\n",
       "Horror          978\n",
       "Fantasy         779\n",
       "Children        664\n",
       "Animation       611\n",
       "Mystery         573\n",
       "Documentary     440\n",
       "War             382\n",
       "Musical         334\n",
       "Western         167\n",
       "Film-Noir        87\n",
       "dtype: int64"
      ]
     },
     "execution_count": 27,
     "metadata": {},
     "output_type": "execute_result"
    }
   ],
   "source": [
    "total.sort_values(ascending=False)"
   ]
  },
  {
   "cell_type": "code",
   "execution_count": 28,
   "metadata": {
    "ExecuteTime": {
     "end_time": "2021-05-21T19:45:19.861998Z",
     "start_time": "2021-05-21T19:45:19.599672Z"
    }
   },
   "outputs": [
    {
     "data": {
      "text/plain": [
       "<AxesSubplot:>"
      ]
     },
     "execution_count": 28,
     "metadata": {},
     "output_type": "execute_result"
    },
    {
     "data": {
      "image/png": "[encoded data removed]",
      "text/plain": [
       "<Figure size 432x288 with 1 Axes>"
      ]
     },
     "metadata": {
      "needs_background": "light"
     },
     "output_type": "display_data"
    }
   ],
   "source": [
    "total.plot(kind='bar')"
   ]
  },
  {
   "cell_type": "code",
   "execution_count": 29,
   "metadata": {
    "ExecuteTime": {
     "end_time": "2021-05-21T19:45:19.869948Z",
     "start_time": "2021-05-21T19:45:19.863965Z"
    }
   },
   "outputs": [
    {
     "data": {
      "text/plain": [
       "3.5672222222222225"
      ]
     },
     "execution_count": 29,
     "metadata": {},
     "output_type": "execute_result"
    }
   ],
   "source": [
    "genres_rating['Genres Mean Rating'].mean()"
   ]
  },
  {
   "cell_type": "markdown",
   "metadata": {},
   "source": [
    "# Content-Based Recommender using Cosine Similarity"
   ]
  },
  {
   "cell_type": "markdown",
   "metadata": {},
   "source": [
    "## Recommender using Synopsis"
   ]
  },
  {
   "cell_type": "code",
   "execution_count": 30,
   "metadata": {
    "ExecuteTime": {
     "end_time": "2021-05-21T19:45:20.497290Z",
     "start_time": "2021-05-21T19:45:19.871944Z"
    }
   },
   "outputs": [
    {
     "data": {
      "text/plain": [
       "(9742, 30537)"
      ]
     },
     "execution_count": 30,
     "metadata": {},
     "output_type": "execute_result"
    }
   ],
   "source": [
    "#Import TfIdfVectorizer from scikit-learn\n",
    "from sklearn.feature_extraction.text import TfidfVectorizer\n",
    "\n",
    "#Define a TF-IDF Vectorizer Object. Remove all english stop words such as 'the', 'a'\n",
    "tfidf = TfidfVectorizer(stop_words='english')\n",
    "\n",
    "#Replace NaN with an empty string\n",
    "df['overview'] = df['overview'].fillna('')\n",
    "\n",
    "#Construct the required TF-IDF matrix by fitting and transforming the data\n",
    "tfidf_matrix = tfidf.fit_transform(df['overview'])\n",
    "\n",
    "#Output the shape of tfidf_matrix\n",
    "tfidf_matrix.shape"
   ]
  },
  {
   "cell_type": "code",
   "execution_count": 31,
   "metadata": {
    "ExecuteTime": {
     "end_time": "2021-05-21T19:45:21.572110Z",
     "start_time": "2021-05-21T19:45:20.499259Z"
    }
   },
   "outputs": [],
   "source": [
    "# Import linear_kernel\n",
    "from sklearn.metrics.pairwise import linear_kernel\n",
    "\n",
    "# Compute the cosine similarity matrix\n",
    "cosine_sim = linear_kernel(tfidf_matrix, tfidf_matrix)"
   ]
  },
  {
   "cell_type": "code",
   "execution_count": 32,
   "metadata": {
    "ExecuteTime": {
     "end_time": "2021-05-21T19:45:21.580063Z",
     "start_time": "2021-05-21T19:45:21.574075Z"
    }
   },
   "outputs": [
    {
     "data": {
      "text/plain": [
       "(9742, 9742)"
      ]
     },
     "execution_count": 32,
     "metadata": {},
     "output_type": "execute_result"
    }
   ],
   "source": [
    "cosine_sim.shape"
   ]
  },
  {
   "cell_type": "code",
   "execution_count": 33,
   "metadata": {
    "ExecuteTime": {
     "end_time": "2021-05-21T19:45:21.594022Z",
     "start_time": "2021-05-21T19:45:21.582055Z"
    }
   },
   "outputs": [
    {
     "data": {
      "text/plain": [
       "title\n",
       "Toy Story (1995)                      0\n",
       "Jumanji (1995)                        1\n",
       "Grumpier Old Men (1995)               2\n",
       "Waiting to Exhale (1995)              3\n",
       "Father of the Bride Part II (1995)    4\n",
       "Heat (1995)                           5\n",
       "Sabrina (1995)                        6\n",
       "Tom and Huck (1995)                   7\n",
       "Sudden Death (1995)                   8\n",
       "GoldenEye (1995)                      9\n",
       "dtype: int64"
      ]
     },
     "execution_count": 33,
     "metadata": {},
     "output_type": "execute_result"
    }
   ],
   "source": [
    "#Construct a reverse map of indices and movie titles\n",
    "indices = pd.Series(df.index, index=df['title']).drop_duplicates()\n",
    "indices[:10]"
   ]
  },
  {
   "cell_type": "code",
   "execution_count": 34,
   "metadata": {
    "ExecuteTime": {
     "end_time": "2021-05-21T19:45:21.602999Z",
     "start_time": "2021-05-21T19:45:21.596019Z"
    }
   },
   "outputs": [],
   "source": [
    "def get_recommendations(title, cosine_sim=cosine_sim):\n",
    "    #Get index of the movie with the input title\n",
    "    idx = indices[title]\n",
    "\n",
    "    #Get the cosine similarity pairwise score of the movie vs others\n",
    "    scores = cosine_sim[idx]  #this is an array\n",
    "\n",
    "    #Create a list with index for the pairwise score\n",
    "    sim_scores = list(enumerate(\n",
    "        scores))  # enumerate creates the index, list creates the list\n",
    "\n",
    "    #Sort the movies based on similarity scores\n",
    "    sim_scores = sorted(\n",
    "        sim_scores,\n",
    "        key=lambda list: list[1],  #sort by score (2nd position of the list)\n",
    "        reverse=True)  #sort from highest to lowest\n",
    "\n",
    "    #Get the scores of the top 10 most similar movies\n",
    "    sim_scores = sim_scores[1:11]  #this is a list\n",
    "\n",
    "    #Get the indices of those similar movies to get their names\n",
    "    movie_indices = [i[0] for i in sim_scores]  #this is an array\n",
    "\n",
    "    #Return the names of the top 10 similar movies\n",
    "    return df['title'].iloc[movie_indices]"
   ]
  },
  {
   "cell_type": "markdown",
   "metadata": {},
   "source": [
    "## Improve Cosine Similarity with Credits, Genres and Keyword"
   ]
  },
  {
   "cell_type": "code",
   "execution_count": 35,
   "metadata": {
    "ExecuteTime": {
     "end_time": "2021-05-21T19:45:21.615963Z",
     "start_time": "2021-05-21T19:45:21.605991Z"
    }
   },
   "outputs": [],
   "source": [
    "df['genres_split'] = df['genres'].str.replace('|', \" \", regex=True)"
   ]
  },
  {
   "cell_type": "code",
   "execution_count": 36,
   "metadata": {
    "ExecuteTime": {
     "end_time": "2021-05-21T19:45:21.622948Z",
     "start_time": "2021-05-21T19:45:21.617959Z"
    }
   },
   "outputs": [],
   "source": [
    "# Function to convert all strings to lower case and strip names of spaces\n",
    "def clean_data(x):\n",
    "    if isinstance(x, list):\n",
    "        return [str.lower(i.replace(\" \", \"\")) for i in x]\n",
    "    else:\n",
    "        if isinstance(x, str):\n",
    "            return str.lower(x.replace(\" \", \"\"))\n",
    "        else:\n",
    "            return ''"
   ]
  },
  {
   "cell_type": "code",
   "execution_count": 37,
   "metadata": {
    "ExecuteTime": {
     "end_time": "2021-05-21T19:45:21.682785Z",
     "start_time": "2021-05-21T19:45:21.625938Z"
    }
   },
   "outputs": [],
   "source": [
    "# Apply clean_data function to features\n",
    "features = [\n",
    "    'production_companies', 'production_countries', 'actor1_name',\n",
    "    'actor2_name', 'actor3_name', 'director_name', 'tag'\n",
    "]\n",
    "\n",
    "for feature in features:\n",
    "    df[feature] = df[feature].apply(clean_data)"
   ]
  },
  {
   "cell_type": "code",
   "execution_count": 38,
   "metadata": {
    "ExecuteTime": {
     "end_time": "2021-05-21T19:45:21.702732Z",
     "start_time": "2021-05-21T19:45:21.683782Z"
    },
    "scrolled": true
   },
   "outputs": [
    {
     "data": {
      "text/html": [
       "<div>\n",
       "<style scoped>\n",
       "    .dataframe tbody tr th:only-of-type {\n",
       "        vertical-align: middle;\n",
       "    }\n",
       "\n",
       "    .dataframe tbody tr th {\n",
       "        vertical-align: top;\n",
       "    }\n",
       "\n",
       "    .dataframe thead th {\n",
       "        text-align: right;\n",
       "    }\n",
       "</style>\n",
       "<table border=\"1\" class=\"dataframe\">\n",
       "  <thead>\n",
       "    <tr style=\"text-align: right;\">\n",
       "      <th></th>\n",
       "      <th>movieId</th>\n",
       "      <th>title</th>\n",
       "      <th>genres</th>\n",
       "      <th>overview</th>\n",
       "      <th>production_companies</th>\n",
       "      <th>production_countries</th>\n",
       "      <th>actor1_name</th>\n",
       "      <th>actor2_name</th>\n",
       "      <th>actor3_name</th>\n",
       "      <th>director_name</th>\n",
       "      <th>tag</th>\n",
       "      <th>year</th>\n",
       "      <th>genres_split</th>\n",
       "    </tr>\n",
       "  </thead>\n",
       "  <tbody>\n",
       "    <tr>\n",
       "      <th>0</th>\n",
       "      <td>1</td>\n",
       "      <td>Toy Story (1995)</td>\n",
       "      <td>Adventure|Animation|Children|Comedy|Fantasy</td>\n",
       "      <td>Led by Woody, Andy's toys live happily in his ...</td>\n",
       "      <td>pixaranimationstudios</td>\n",
       "      <td>unitedstatesofamerica</td>\n",
       "      <td>tomhanks</td>\n",
       "      <td>timallen</td>\n",
       "      <td>donrickles</td>\n",
       "      <td>johnlasseter</td>\n",
       "      <td>pixarfun</td>\n",
       "      <td>1995</td>\n",
       "      <td>Adventure Animation Children Comedy Fantasy</td>\n",
       "    </tr>\n",
       "    <tr>\n",
       "      <th>1</th>\n",
       "      <td>2</td>\n",
       "      <td>Jumanji (1995)</td>\n",
       "      <td>Adventure|Children|Fantasy</td>\n",
       "      <td>When siblings Judy and Peter discover an encha...</td>\n",
       "      <td>tristarpictures</td>\n",
       "      <td>unitedstatesofamerica</td>\n",
       "      <td>robinwilliams</td>\n",
       "      <td>jonathanhyde</td>\n",
       "      <td>kirstendunst</td>\n",
       "      <td>joejohnston</td>\n",
       "      <td>fantasymagicboardgamerobinwilliamsgame</td>\n",
       "      <td>1995</td>\n",
       "      <td>Adventure Children Fantasy</td>\n",
       "    </tr>\n",
       "  </tbody>\n",
       "</table>\n",
       "</div>"
      ],
      "text/plain": [
       "   movieId             title                                       genres  \\\n",
       "0        1  Toy Story (1995)  Adventure|Animation|Children|Comedy|Fantasy   \n",
       "1        2    Jumanji (1995)                   Adventure|Children|Fantasy   \n",
       "\n",
       "                                            overview   production_companies  \\\n",
       "0  Led by Woody, Andy's toys live happily in his ...  pixaranimationstudios   \n",
       "1  When siblings Judy and Peter discover an encha...        tristarpictures   \n",
       "\n",
       "    production_countries    actor1_name   actor2_name   actor3_name  \\\n",
       "0  unitedstatesofamerica       tomhanks      timallen    donrickles   \n",
       "1  unitedstatesofamerica  robinwilliams  jonathanhyde  kirstendunst   \n",
       "\n",
       "  director_name                                     tag  year  \\\n",
       "0  johnlasseter                                pixarfun  1995   \n",
       "1   joejohnston  fantasymagicboardgamerobinwilliamsgame  1995   \n",
       "\n",
       "                                  genres_split  \n",
       "0  Adventure Animation Children Comedy Fantasy  \n",
       "1                   Adventure Children Fantasy  "
      ]
     },
     "execution_count": 38,
     "metadata": {},
     "output_type": "execute_result"
    }
   ],
   "source": [
    "df.head(2)"
   ]
  },
  {
   "cell_type": "code",
   "execution_count": 39,
   "metadata": {
    "ExecuteTime": {
     "end_time": "2021-05-21T19:45:21.791508Z",
     "start_time": "2021-05-21T19:45:21.705724Z"
    }
   },
   "outputs": [],
   "source": [
    "df['soup'] = df['overview'] + \" \" + df['production_countries'] + \" \" + \n",
    "             df['production_companies'] + \" \" + df['actor1_name'] + \" \" + \n",
    "             df['actor2_name'] + \" \" + df['actor3_name'] + \" \" + \n",
    "             df['director_name'] + \" \" + df['year'] + \" \" + df['genres_split'] + \" \" + \n",
    "             df['tag']"
   ]
  },
  {
   "cell_type": "code",
   "execution_count": 40,
   "metadata": {
    "ExecuteTime": {
     "end_time": "2021-05-21T19:45:22.540598Z",
     "start_time": "2021-05-21T19:45:21.793490Z"
    }
   },
   "outputs": [],
   "source": [
    "# Import CountVectorizer and create the count matrix\n",
    "from sklearn.feature_extraction.text import CountVectorizer\n",
    "\n",
    "count = CountVectorizer(stop_words='english')\n",
    "count_matrix = count.fit_transform(df['soup'])"
   ]
  },
  {
   "cell_type": "code",
   "execution_count": 41,
   "metadata": {
    "ExecuteTime": {
     "end_time": "2021-05-21T19:45:22.547546Z",
     "start_time": "2021-05-21T19:45:22.542558Z"
    }
   },
   "outputs": [
    {
     "data": {
      "text/plain": [
       "(9742, 48021)"
      ]
     },
     "execution_count": 41,
     "metadata": {},
     "output_type": "execute_result"
    }
   ],
   "source": [
    "count_matrix.shape"
   ]
  },
  {
   "cell_type": "code",
   "execution_count": 42,
   "metadata": {
    "ExecuteTime": {
     "end_time": "2021-05-21T19:46:24.520684Z",
     "start_time": "2021-05-21T19:46:24.515697Z"
    }
   },
   "outputs": [
    {
     "data": {
      "text/plain": [
       "array([25558, 47262,  2297, ..., 36099, 42447, 22128])"
      ]
     },
     "execution_count": 42,
     "metadata": {},
     "output_type": "execute_result"
    }
   ],
   "source": [
    "count_matrix.indices"
   ]
  },
  {
   "cell_type": "code",
   "execution_count": 43,
   "metadata": {
    "ExecuteTime": {
     "end_time": "2021-05-21T19:45:24.695235Z",
     "start_time": "2021-05-21T19:45:22.549542Z"
    }
   },
   "outputs": [],
   "source": [
    "# Compute the Cosine Similarity matrix based on the count_matrix\n",
    "from sklearn.metrics.pairwise import cosine_similarity\n",
    "\n",
    "cosine_sim2 = cosine_similarity(count_matrix, count_matrix)"
   ]
  },
  {
   "cell_type": "code",
   "execution_count": 44,
   "metadata": {
    "ExecuteTime": {
     "end_time": "2021-05-21T19:45:24.717141Z",
     "start_time": "2021-05-21T19:45:24.697196Z"
    }
   },
   "outputs": [
    {
     "data": {
      "text/html": [
       "<div>\n",
       "<style scoped>\n",
       "    .dataframe tbody tr th:only-of-type {\n",
       "        vertical-align: middle;\n",
       "    }\n",
       "\n",
       "    .dataframe tbody tr th {\n",
       "        vertical-align: top;\n",
       "    }\n",
       "\n",
       "    .dataframe thead th {\n",
       "        text-align: right;\n",
       "    }\n",
       "</style>\n",
       "<table border=\"1\" class=\"dataframe\">\n",
       "  <thead>\n",
       "    <tr style=\"text-align: right;\">\n",
       "      <th></th>\n",
       "      <th>movieId</th>\n",
       "      <th>title</th>\n",
       "      <th>genres</th>\n",
       "      <th>overview</th>\n",
       "      <th>production_companies</th>\n",
       "      <th>production_countries</th>\n",
       "      <th>actor1_name</th>\n",
       "      <th>actor2_name</th>\n",
       "      <th>actor3_name</th>\n",
       "      <th>director_name</th>\n",
       "      <th>tag</th>\n",
       "      <th>year</th>\n",
       "      <th>genres_split</th>\n",
       "      <th>soup</th>\n",
       "    </tr>\n",
       "  </thead>\n",
       "  <tbody>\n",
       "    <tr>\n",
       "      <th>0</th>\n",
       "      <td>1</td>\n",
       "      <td>Toy Story (1995)</td>\n",
       "      <td>Adventure|Animation|Children|Comedy|Fantasy</td>\n",
       "      <td>Led by Woody, Andy's toys live happily in his ...</td>\n",
       "      <td>pixaranimationstudios</td>\n",
       "      <td>unitedstatesofamerica</td>\n",
       "      <td>tomhanks</td>\n",
       "      <td>timallen</td>\n",
       "      <td>donrickles</td>\n",
       "      <td>johnlasseter</td>\n",
       "      <td>pixarfun</td>\n",
       "      <td>1995</td>\n",
       "      <td>Adventure Animation Children Comedy Fantasy</td>\n",
       "      <td>Led by Woody, Andy's toys live happily in his ...</td>\n",
       "    </tr>\n",
       "    <tr>\n",
       "      <th>1</th>\n",
       "      <td>2</td>\n",
       "      <td>Jumanji (1995)</td>\n",
       "      <td>Adventure|Children|Fantasy</td>\n",
       "      <td>When siblings Judy and Peter discover an encha...</td>\n",
       "      <td>tristarpictures</td>\n",
       "      <td>unitedstatesofamerica</td>\n",
       "      <td>robinwilliams</td>\n",
       "      <td>jonathanhyde</td>\n",
       "      <td>kirstendunst</td>\n",
       "      <td>joejohnston</td>\n",
       "      <td>fantasymagicboardgamerobinwilliamsgame</td>\n",
       "      <td>1995</td>\n",
       "      <td>Adventure Children Fantasy</td>\n",
       "      <td>When siblings Judy and Peter discover an encha...</td>\n",
       "    </tr>\n",
       "  </tbody>\n",
       "</table>\n",
       "</div>"
      ],
      "text/plain": [
       "   movieId             title                                       genres  \\\n",
       "0        1  Toy Story (1995)  Adventure|Animation|Children|Comedy|Fantasy   \n",
       "1        2    Jumanji (1995)                   Adventure|Children|Fantasy   \n",
       "\n",
       "                                            overview   production_companies  \\\n",
       "0  Led by Woody, Andy's toys live happily in his ...  pixaranimationstudios   \n",
       "1  When siblings Judy and Peter discover an encha...        tristarpictures   \n",
       "\n",
       "    production_countries    actor1_name   actor2_name   actor3_name  \\\n",
       "0  unitedstatesofamerica       tomhanks      timallen    donrickles   \n",
       "1  unitedstatesofamerica  robinwilliams  jonathanhyde  kirstendunst   \n",
       "\n",
       "  director_name                                     tag  year  \\\n",
       "0  johnlasseter                                pixarfun  1995   \n",
       "1   joejohnston  fantasymagicboardgamerobinwilliamsgame  1995   \n",
       "\n",
       "                                  genres_split  \\\n",
       "0  Adventure Animation Children Comedy Fantasy   \n",
       "1                   Adventure Children Fantasy   \n",
       "\n",
       "                                                soup  \n",
       "0  Led by Woody, Andy's toys live happily in his ...  \n",
       "1  When siblings Judy and Peter discover an encha...  "
      ]
     },
     "execution_count": 44,
     "metadata": {},
     "output_type": "execute_result"
    }
   ],
   "source": [
    "df.head(2)"
   ]
  },
  {
   "cell_type": "code",
   "execution_count": 45,
   "metadata": {
    "ExecuteTime": {
     "end_time": "2021-05-21T19:45:24.737089Z",
     "start_time": "2021-05-21T19:45:24.719137Z"
    },
    "cell_style": "center",
    "scrolled": true
   },
   "outputs": [
    {
     "data": {
      "text/plain": [
       "7355                Toy Story 3 (2010)\n",
       "2355                Toy Story 2 (1999)\n",
       "5972    40-Year-Old Virgin, The (2005)\n",
       "840       Rebel Without a Cause (1955)\n",
       "2392            Man on the Moon (1999)\n",
       "6343     For Your Consideration (2006)\n",
       "9207       Welcome to Happiness (2015)\n",
       "1512                  Condorman (1981)\n",
       "427                      Malice (1993)\n",
       "6421               Factory Girl (2006)\n",
       "Name: title, dtype: object"
      ]
     },
     "execution_count": 45,
     "metadata": {},
     "output_type": "execute_result"
    }
   ],
   "source": [
    "get_recommendations('Toy Story (1995)', cosine_sim)"
   ]
  },
  {
   "cell_type": "code",
   "execution_count": 46,
   "metadata": {
    "ExecuteTime": {
     "end_time": "2021-05-21T19:45:24.761025Z",
     "start_time": "2021-05-21T19:45:24.739084Z"
    },
    "cell_style": "center"
   },
   "outputs": [
    {
     "data": {
      "text/plain": [
       "2355                                   Toy Story 2 (1999)\n",
       "7355                                   Toy Story 3 (2010)\n",
       "5972                       40-Year-Old Virgin, The (2005)\n",
       "7733                                 Puss in Boots (2011)\n",
       "8385                         Mr. Peabody & Sherman (2014)\n",
       "9586           In the blue sea, in the white foam. (1984)\n",
       "3568                                Monsters, Inc. (2001)\n",
       "8715                                 Halloweentown (1998)\n",
       "8219                                         Turbo (2013)\n",
       "585     Wallace & Gromit: The Best of Aardman Animatio...\n",
       "Name: title, dtype: object"
      ]
     },
     "execution_count": 46,
     "metadata": {},
     "output_type": "execute_result"
    }
   ],
   "source": [
    "get_recommendations('Toy Story (1995)', cosine_sim2)"
   ]
  },
  {
   "cell_type": "markdown",
   "metadata": {},
   "source": [
    "# Collaborative Filtering with different Algos"
   ]
  },
  {
   "cell_type": "markdown",
   "metadata": {},
   "source": [
    "## Cross Validation to find best Algos"
   ]
  },
  {
   "cell_type": "code",
   "execution_count": 25,
   "metadata": {
    "ExecuteTime": {
     "end_time": "2021-05-21T19:45:24.815883Z",
     "start_time": "2021-05-21T19:45:24.763020Z"
    }
   },
   "outputs": [],
   "source": [
    "from surprise import Reader, Dataset\n",
    "from surprise.model_selection import cross_validate\n",
    "\n",
    "from surprise import KNNBasic, KNNWithMeans, KNNWithZScore, KNNBaseline\n",
    "from surprise import NormalPredictor, BaselineOnly\n",
    "from surprise import SVD, NMF, SlopeOne, CoClustering"
   ]
  },
  {
   "cell_type": "code",
   "execution_count": 26,
   "metadata": {
    "ExecuteTime": {
     "end_time": "2021-05-21T19:45:24.950517Z",
     "start_time": "2021-05-21T19:45:24.817872Z"
    }
   },
   "outputs": [],
   "source": [
    "reader = Reader()\n",
    "\n",
    "data = Dataset.load_from_df(ratings[['userId', 'movieId', 'rating']], reader)"
   ]
  },
  {
   "cell_type": "code",
   "execution_count": 27,
   "metadata": {
    "ExecuteTime": {
     "end_time": "2021-05-21T19:45:24.957499Z",
     "start_time": "2021-05-21T19:45:24.951523Z"
    }
   },
   "outputs": [],
   "source": [
    "knnb = KNNBasic()\n",
    "knnwm = KNNWithMeans()\n",
    "knnwz = KNNWithZScore()\n",
    "normal_pred = NormalPredictor()\n",
    "baseline = BaselineOnly()\n",
    "nmf = NMF()\n",
    "svd = SVD()\n",
    "slope = SlopeOne()\n",
    "cocluster = CoClustering()"
   ]
  },
  {
   "cell_type": "code",
   "execution_count": 28,
   "metadata": {
    "ExecuteTime": {
     "end_time": "2021-05-21T20:16:21.016962Z",
     "start_time": "2021-05-21T20:10:29.987845Z"
    },
    "scrolled": true
   },
   "outputs": [
    {
     "name": "stdout",
     "output_type": "stream",
     "text": [
      "Computing the msd similarity matrix...\n",
      "Done computing similarity matrix.\n",
      "Computing the msd similarity matrix...\n",
      "Done computing similarity matrix.\n",
      "Computing the msd similarity matrix...\n",
      "Done computing similarity matrix.\n",
      "Computing the msd similarity matrix...\n",
      "Done computing similarity matrix.\n",
      "Computing the msd similarity matrix...\n",
      "Done computing similarity matrix.\n",
      "Computing the msd similarity matrix...\n",
      "Done computing similarity matrix.\n",
      "Computing the msd similarity matrix...\n",
      "Done computing similarity matrix.\n",
      "Computing the msd similarity matrix...\n",
      "Done computing similarity matrix.\n",
      "Computing the msd similarity matrix...\n",
      "Done computing similarity matrix.\n",
      "Computing the msd similarity matrix...\n",
      "Done computing similarity matrix.\n",
      "Evaluating RMSE, MAE of algorithm KNNBasic on 10 split(s).\n",
      "\n",
      "                  Fold 1  Fold 2  Fold 3  Fold 4  Fold 5  Fold 6  Fold 7  Fold 8  Fold 9  Fold 10 Mean    Std     \n",
      "RMSE (testset)    0.9479  0.9466  0.9421  0.9161  0.9498  0.9297  0.9313  0.9429  0.9472  0.9405  0.9394  0.0101  \n",
      "MAE (testset)     0.7238  0.7249  0.7205  0.7017  0.7309  0.7132  0.7132  0.7225  0.7260  0.7221  0.7199  0.0079  \n",
      "Fit time          0.31    0.31    0.31    0.30    0.31    0.30    0.30    0.36    0.30    0.30    0.31    0.02    \n",
      "Test time         0.91    0.91    0.99    0.86    0.96    0.86    0.92    0.86    0.86    0.90    0.90    0.04    \n",
      "Computing the msd similarity matrix...\n",
      "Done computing similarity matrix.\n",
      "Computing the msd similarity matrix...\n",
      "Done computing similarity matrix.\n",
      "Computing the msd similarity matrix...\n",
      "Done computing similarity matrix.\n",
      "Computing the msd similarity matrix...\n",
      "Done computing similarity matrix.\n",
      "Computing the msd similarity matrix...\n",
      "Done computing similarity matrix.\n",
      "Computing the msd similarity matrix...\n",
      "Done computing similarity matrix.\n",
      "Computing the msd similarity matrix...\n",
      "Done computing similarity matrix.\n",
      "Computing the msd similarity matrix...\n",
      "Done computing similarity matrix.\n",
      "Computing the msd similarity matrix...\n",
      "Done computing similarity matrix.\n",
      "Computing the msd similarity matrix...\n",
      "Done computing similarity matrix.\n",
      "Evaluating RMSE, MAE of algorithm KNNWithMeans on 10 split(s).\n",
      "\n",
      "                  Fold 1  Fold 2  Fold 3  Fold 4  Fold 5  Fold 6  Fold 7  Fold 8  Fold 9  Fold 10 Mean    Std     \n",
      "RMSE (testset)    0.8894  0.8964  0.9091  0.8955  0.8885  0.8795  0.8988  0.8984  0.8857  0.8759  0.8917  0.0094  \n",
      "MAE (testset)     0.6802  0.6834  0.6939  0.6789  0.6826  0.6722  0.6852  0.6827  0.6824  0.6717  0.6813  0.0060  \n",
      "Fit time          0.36    0.33    0.35    0.33    0.36    0.34    0.34    0.35    0.41    0.35    0.35    0.02    \n",
      "Test time         0.91    0.98    1.06    0.97    0.97    0.96    0.93    0.97    1.07    1.01    0.98    0.05    \n",
      "Computing the msd similarity matrix...\n",
      "Done computing similarity matrix.\n",
      "Computing the msd similarity matrix...\n",
      "Done computing similarity matrix.\n",
      "Computing the msd similarity matrix...\n",
      "Done computing similarity matrix.\n",
      "Computing the msd similarity matrix...\n",
      "Done computing similarity matrix.\n",
      "Computing the msd similarity matrix...\n",
      "Done computing similarity matrix.\n",
      "Computing the msd similarity matrix...\n",
      "Done computing similarity matrix.\n",
      "Computing the msd similarity matrix...\n",
      "Done computing similarity matrix.\n",
      "Computing the msd similarity matrix...\n",
      "Done computing similarity matrix.\n",
      "Computing the msd similarity matrix...\n",
      "Done computing similarity matrix.\n",
      "Computing the msd similarity matrix...\n",
      "Done computing similarity matrix.\n",
      "Evaluating RMSE, MAE of algorithm KNNWithZScore on 10 split(s).\n",
      "\n",
      "                  Fold 1  Fold 2  Fold 3  Fold 4  Fold 5  Fold 6  Fold 7  Fold 8  Fold 9  Fold 10 Mean    Std     \n",
      "RMSE (testset)    0.8827  0.9029  0.8896  0.9068  0.8927  0.8837  0.9001  0.8750  0.8800  0.8953  0.8909  0.0100  \n",
      "MAE (testset)     0.6697  0.6859  0.6782  0.6854  0.6768  0.6722  0.6796  0.6668  0.6652  0.6806  0.6760  0.0069  \n",
      "Fit time          0.39    0.42    0.46    0.40    0.42    0.40    0.43    0.42    0.41    0.42    0.42    0.02    \n",
      "Test time         1.03    1.02    1.02    1.10    1.01    1.01    1.07    1.01    1.02    1.08    1.04    0.03    \n",
      "Evaluating RMSE, MAE of algorithm NormalPredictor on 10 split(s).\n",
      "\n",
      "                  Fold 1  Fold 2  Fold 3  Fold 4  Fold 5  Fold 6  Fold 7  Fold 8  Fold 9  Fold 10 Mean    Std     \n",
      "RMSE (testset)    1.4370  1.4160  1.4136  1.4220  1.4122  1.4067  1.4410  1.4163  1.4337  1.4121  1.4211  0.0113  \n",
      "MAE (testset)     1.1532  1.1301  1.1263  1.1378  1.1283  1.1213  1.1519  1.1345  1.1475  1.1254  1.1356  0.0110  \n",
      "Fit time          0.14    0.16    0.16    0.16    0.20    0.16    0.16    0.19    0.22    0.17    0.17    0.02    \n",
      "Test time         0.07    0.07    0.06    0.06    0.08    0.07    0.07    0.07    0.07    0.07    0.07    0.00    \n",
      "Estimating biases using als...\n",
      "Estimating biases using als...\n",
      "Estimating biases using als...\n",
      "Estimating biases using als...\n",
      "Estimating biases using als...\n",
      "Estimating biases using als...\n",
      "Estimating biases using als...\n",
      "Estimating biases using als...\n",
      "Estimating biases using als...\n",
      "Estimating biases using als...\n",
      "Evaluating RMSE, MAE of algorithm BaselineOnly on 10 split(s).\n",
      "\n",
      "                  Fold 1  Fold 2  Fold 3  Fold 4  Fold 5  Fold 6  Fold 7  Fold 8  Fold 9  Fold 10 Mean    Std     \n",
      "RMSE (testset)    0.8683  0.8719  0.8689  0.8568  0.8719  0.8734  0.8768  0.8759  0.8615  0.8746  0.8700  0.0061  \n",
      "MAE (testset)     0.6694  0.6708  0.6725  0.6627  0.6714  0.6715  0.6750  0.6737  0.6651  0.6717  0.6704  0.0036  \n",
      "Fit time          0.28    0.30    0.30    0.32    0.31    0.29    0.30    0.30    0.29    0.30    0.30    0.01    \n",
      "Test time         0.05    0.15    0.05    0.05    0.17    0.04    0.05    0.04    0.05    0.05    0.07    0.05    \n",
      "Evaluating RMSE, MAE of algorithm NMF on 10 split(s).\n",
      "\n",
      "                  Fold 1  Fold 2  Fold 3  Fold 4  Fold 5  Fold 6  Fold 7  Fold 8  Fold 9  Fold 10 Mean    Std     \n",
      "RMSE (testset)    0.9099  0.9114  0.9174  0.9151  0.9197  0.9124  0.9093  0.9128  0.9160  0.9163  0.9140  0.0032  \n",
      "MAE (testset)     0.7030  0.7000  0.6992  0.7020  0.7007  0.6984  0.6969  0.7011  0.7030  0.7007  0.7005  0.0019  \n",
      "Fit time          7.46    8.43    8.26    7.61    7.51    7.35    7.25    7.15    7.08    7.30    7.54    0.43    \n",
      "Test time         0.06    0.06    0.06    0.08    0.19    0.06    0.06    0.06    0.06    0.06    0.08    0.04    \n",
      "Evaluating RMSE, MAE of algorithm SlopeOne on 10 split(s).\n",
      "\n",
      "                  Fold 1  Fold 2  Fold 3  Fold 4  Fold 5  Fold 6  Fold 7  Fold 8  Fold 9  Fold 10 Mean    Std     \n",
      "RMSE (testset)    0.8878  0.8965  0.8895  0.9032  0.8923  0.9001  0.8945  0.8914  0.8945  0.9001  0.8950  0.0047  \n",
      "MAE (testset)     0.6791  0.6837  0.6798  0.6898  0.6842  0.6862  0.6816  0.6811  0.6821  0.6901  0.6838  0.0037  \n",
      "Fit time          5.73    6.00    6.22    5.99    6.68    6.31    7.54    9.81    8.67    6.09    6.90    1.28    \n",
      "Test time         3.36    3.63    3.44    3.43    3.68    5.08    4.65    3.90    4.29    3.69    3.91    0.55    \n",
      "Evaluating RMSE, MAE of algorithm CoClustering on 10 split(s).\n",
      "\n",
      "                  Fold 1  Fold 2  Fold 3  Fold 4  Fold 5  Fold 6  Fold 7  Fold 8  Fold 9  Fold 10 Mean    Std     \n",
      "RMSE (testset)    0.9429  0.9336  0.9378  0.9351  0.9421  0.9377  0.9445  0.9436  0.9292  0.9277  0.9374  0.0057  \n",
      "MAE (testset)     0.7334  0.7260  0.7253  0.7228  0.7322  0.7261  0.7305  0.7300  0.7194  0.7194  0.7265  0.0047  \n",
      "Fit time          4.48    4.29    3.50    3.48    3.59    3.60    4.51    4.59    3.58    4.12    3.97    0.44    \n",
      "Test time         0.08    0.05    0.04    0.05    0.05    0.20    0.06    0.05    0.06    0.06    0.07    0.04    \n",
      "Evaluating RMSE, MAE of algorithm SVD on 10 split(s).\n",
      "\n",
      "                  Fold 1  Fold 2  Fold 3  Fold 4  Fold 5  Fold 6  Fold 7  Fold 8  Fold 9  Fold 10 Mean    Std     \n",
      "RMSE (testset)    0.8615  0.8740  0.8678  0.8664  0.8764  0.8589  0.8601  0.8664  0.8639  0.8904  0.8686  0.0090  \n",
      "MAE (testset)     0.6632  0.6720  0.6663  0.6667  0.6749  0.6585  0.6599  0.6640  0.6627  0.6792  0.6667  0.0063  \n",
      "Fit time          8.27    6.66    7.70    8.37    6.38    6.74    7.16    7.06    6.82    6.30    7.14    0.70    \n",
      "Test time         0.09    0.07    0.23    0.08    0.07    0.08    0.07    0.08    0.07    0.07    0.09    0.05    \n"
     ]
    }
   ],
   "source": [
    "algos = [\n",
    "    'knnb', 'knnwm', 'knnwz', 'normal_pred', 'baseline', 'nmf', 'slope',\n",
    "    'cocluster', 'svd'\n",
    "]\n",
    "rmse = {algo: {} for algo in algos}\n",
    "mae = {algo: {} for algo in algos}\n",
    "\n",
    "for algo in algos:\n",
    "    c = cross_validate(eval(algo),\n",
    "                       data,\n",
    "                       measures=['RMSE', 'MAE'],\n",
    "                       cv=10,\n",
    "                       verbose=True)\n",
    "    rmse[algo] = c['test_rmse']\n",
    "    mae[algo] = c['test_mae']"
   ]
  },
  {
   "cell_type": "code",
   "execution_count": 29,
   "metadata": {
    "ExecuteTime": {
     "end_time": "2021-05-21T20:16:21.986771Z",
     "start_time": "2021-05-21T20:16:21.483714Z"
    },
    "scrolled": true
   },
   "outputs": [
    {
     "data": {
      "text/plain": [
       "<matplotlib.collections.PathCollection at 0x1d28ed9c0a0>"
      ]
     },
     "execution_count": 29,
     "metadata": {},
     "output_type": "execute_result"
    },
    {
     "data": {
      "text/plain": [
       "<matplotlib.collections.PathCollection at 0x1d28ed9c040>"
      ]
     },
     "execution_count": 29,
     "metadata": {},
     "output_type": "execute_result"
    },
    {
     "data": {
      "text/plain": [
       "<matplotlib.collections.PathCollection at 0x1d28ed9cb20>"
      ]
     },
     "execution_count": 29,
     "metadata": {},
     "output_type": "execute_result"
    },
    {
     "data": {
      "text/plain": [
       "<matplotlib.collections.PathCollection at 0x1d28ed9ce80>"
      ]
     },
     "execution_count": 29,
     "metadata": {},
     "output_type": "execute_result"
    },
    {
     "data": {
      "text/plain": [
       "<matplotlib.collections.PathCollection at 0x1d24b78c280>"
      ]
     },
     "execution_count": 29,
     "metadata": {},
     "output_type": "execute_result"
    },
    {
     "data": {
      "text/plain": [
       "<matplotlib.collections.PathCollection at 0x1d24b78c520>"
      ]
     },
     "execution_count": 29,
     "metadata": {},
     "output_type": "execute_result"
    },
    {
     "data": {
      "text/plain": [
       "<matplotlib.collections.PathCollection at 0x1d28ed9ce20>"
      ]
     },
     "execution_count": 29,
     "metadata": {},
     "output_type": "execute_result"
    },
    {
     "data": {
      "text/plain": [
       "<matplotlib.collections.PathCollection at 0x1d24b78cf10>"
      ]
     },
     "execution_count": 29,
     "metadata": {},
     "output_type": "execute_result"
    },
    {
     "data": {
      "text/plain": [
       "<matplotlib.collections.PathCollection at 0x1d244783370>"
      ]
     },
     "execution_count": 29,
     "metadata": {},
     "output_type": "execute_result"
    },
    {
     "data": {
      "text/plain": [
       "<matplotlib.legend.Legend at 0x1d242babeb0>"
      ]
     },
     "execution_count": 29,
     "metadata": {},
     "output_type": "execute_result"
    },
    {
     "data": {
      "image/png": "[encoded data removed]",
      "text/plain": [
       "<Figure size 432x288 with 1 Axes>"
      ]
     },
     "metadata": {
      "needs_background": "light"
     },
     "output_type": "display_data"
    }
   ],
   "source": [
    "for key in rmse:\n",
    "    plt.scatter([key] * 10, rmse[key], label=key)\n",
    "\n",
    "plt.legend()"
   ]
  },
  {
   "cell_type": "code",
   "execution_count": 30,
   "metadata": {
    "ExecuteTime": {
     "end_time": "2021-05-21T20:16:23.050007Z",
     "start_time": "2021-05-21T20:16:22.426683Z"
    },
    "scrolled": true
   },
   "outputs": [
    {
     "data": {
      "text/plain": [
       "<AxesSubplot:>"
      ]
     },
     "execution_count": 30,
     "metadata": {},
     "output_type": "execute_result"
    },
    {
     "data": {
      "text/plain": [
       "<AxesSubplot:>"
      ]
     },
     "execution_count": 30,
     "metadata": {},
     "output_type": "execute_result"
    },
    {
     "data": {
      "text/plain": [
       "<AxesSubplot:>"
      ]
     },
     "execution_count": 30,
     "metadata": {},
     "output_type": "execute_result"
    },
    {
     "data": {
      "text/plain": [
       "<AxesSubplot:>"
      ]
     },
     "execution_count": 30,
     "metadata": {},
     "output_type": "execute_result"
    },
    {
     "data": {
      "text/plain": [
       "<AxesSubplot:>"
      ]
     },
     "execution_count": 30,
     "metadata": {},
     "output_type": "execute_result"
    },
    {
     "data": {
      "text/plain": [
       "<AxesSubplot:>"
      ]
     },
     "execution_count": 30,
     "metadata": {},
     "output_type": "execute_result"
    },
    {
     "data": {
      "text/plain": [
       "<AxesSubplot:>"
      ]
     },
     "execution_count": 30,
     "metadata": {},
     "output_type": "execute_result"
    },
    {
     "data": {
      "text/plain": [
       "<AxesSubplot:>"
      ]
     },
     "execution_count": 30,
     "metadata": {},
     "output_type": "execute_result"
    },
    {
     "data": {
      "text/plain": [
       "<AxesSubplot:>"
      ]
     },
     "execution_count": 30,
     "metadata": {},
     "output_type": "execute_result"
    },
    {
     "data": {
      "image/png": "[encoded data removed]",
      "text/plain": [
       "<Figure size 432x288 with 1 Axes>"
      ]
     },
     "metadata": {
      "needs_background": "light"
     },
     "output_type": "display_data"
    }
   ],
   "source": [
    "for key in mae:\n",
    "    sns.scatterplot([key] * 10, mae[key], label=key, legend='auto')"
   ]
  },
  {
   "cell_type": "markdown",
   "metadata": {},
   "source": [
    "## Train Model and Recommendation"
   ]
  },
  {
   "cell_type": "code",
   "execution_count": 54,
   "metadata": {
    "ExecuteTime": {
     "end_time": "2021-05-21T20:16:23.482377Z",
     "start_time": "2021-05-21T20:16:23.478388Z"
    }
   },
   "outputs": [],
   "source": [
    "from surprise.model_selection import GridSearchCV"
   ]
  },
  {
   "cell_type": "code",
   "execution_count": 55,
   "metadata": {
    "ExecuteTime": {
     "end_time": "2021-05-21T21:02:06.008995Z",
     "start_time": "2021-05-21T20:16:23.916747Z"
    }
   },
   "outputs": [
    {
     "name": "stdout",
     "output_type": "stream",
     "text": [
      "0.8677926804395577\n",
      "{'n_epochs': 25, 'lr_all': 0.01, 'reg_all': 0.05}\n"
     ]
    }
   ],
   "source": [
    "param_grid = {\n",
    "    'n_epochs': [5, 10, 15, 20, 25],\n",
    "    'lr_all': [0.002, 0.003, 0.004, 0.005, 0.006, 0.007, 0.008, 0.009, 0.01],\n",
    "    'reg_all': [0.01, 0.02, 0.03, 0.04, 0.05]\n",
    "}\n",
    "\n",
    "gs = GridSearchCV(SVD, param_grid, measures=['rmse', 'mae'], cv=3)\n",
    "gs.fit(data)\n",
    "\n",
    "# best RMSE score\n",
    "print(gs.best_score['rmse'])\n",
    "\n",
    "# combination of parameters that gave the best RMSE score\n",
    "print(gs.best_params['rmse'])"
   ]
  },
  {
   "cell_type": "code",
   "execution_count": 31,
   "metadata": {
    "ExecuteTime": {
     "end_time": "2021-05-21T21:02:06.489258Z",
     "start_time": "2021-05-21T21:02:06.481279Z"
    }
   },
   "outputs": [],
   "source": [
    "from collections import defaultdict\n",
    "\n",
    "def get_top_n(predictions, n=10):\n",
    "    # First map the predictions to each user.\n",
    "    top_n = defaultdict(list)\n",
    "    for uid, iid, true_r, est, _ in predictions:\n",
    "        top_n[uid].append((iid, est))\n",
    "\n",
    "    # Then sort the predictions for each user and retrieve the k highest ones.\n",
    "    for uid, user_ratings in top_n.items():\n",
    "        user_ratings.sort(key=lambda x: x[1], reverse=True)\n",
    "        top_n[uid] = user_ratings[:n]\n",
    "\n",
    "    return top_n"
   ]
  },
  {
   "cell_type": "code",
   "execution_count": 32,
   "metadata": {
    "ExecuteTime": {
     "end_time": "2021-05-21T21:02:17.305700Z",
     "start_time": "2021-05-21T21:02:06.949623Z"
    },
    "scrolled": true
   },
   "outputs": [
    {
     "data": {
      "text/plain": [
       "<surprise.prediction_algorithms.matrix_factorization.SVD at 0x1d244502640>"
      ]
     },
     "execution_count": 32,
     "metadata": {},
     "output_type": "execute_result"
    }
   ],
   "source": [
    "trainset = data.build_full_trainset()\n",
    "svd.fit(trainset)"
   ]
  },
  {
   "cell_type": "code",
   "execution_count": 33,
   "metadata": {
    "ExecuteTime": {
     "end_time": "2021-05-21T21:03:29.226976Z",
     "start_time": "2021-05-21T21:02:18.621745Z"
    }
   },
   "outputs": [],
   "source": [
    "# Predict ratings for all pairs (u, i) that are NOT in the training set.\n",
    "testset = trainset.build_anti_testset()\n",
    "predictions = svd.test(testset)\n",
    "\n",
    "top_n = get_top_n(predictions, n=10)"
   ]
  },
  {
   "cell_type": "code",
   "execution_count": 34,
   "metadata": {
    "ExecuteTime": {
     "end_time": "2021-05-21T21:05:37.591045Z",
     "start_time": "2021-05-21T21:05:37.584065Z"
    }
   },
   "outputs": [],
   "source": [
    "def get_recommendation_collaborative(id):\n",
    "    for uid, user_ratings in top_n.items():\n",
    "        if uid == id:\n",
    "            [\n",
    "                print(df.query('movieId==' + str(i)).title.values)\n",
    "                for i in [iid for (iid, _) in user_ratings]\n",
    "            ]"
   ]
  },
  {
   "cell_type": "code",
   "execution_count": 35,
   "metadata": {
    "ExecuteTime": {
     "end_time": "2021-05-21T21:07:49.858157Z",
     "start_time": "2021-05-21T21:07:49.642198Z"
    },
    "scrolled": true
   },
   "outputs": [
    {
     "name": "stdout",
     "output_type": "stream",
     "text": [
      "['Life Is Beautiful (La Vita è bella) (1997)']\n",
      "['Philadelphia Story, The (1940)']\n",
      "['Rear Window (1954)']\n",
      "['Christmas Story, A (1983)']\n",
      "['Femme Nikita, La (Nikita) (1990)']\n",
      "[\"Amelie (Fabuleux destin d'Amélie Poulain, Le) (2001)\"]\n",
      "['Logan (2017)']\n",
      "['Glory (1989)']\n",
      "['American Beauty (1999)']\n",
      "['Great Escape, The (1963)']\n"
     ]
    }
   ],
   "source": [
    "get_recommendation_collaborative(50)"
   ]
  },
  {
   "cell_type": "code",
   "execution_count": 36,
   "metadata": {
    "ExecuteTime": {
     "end_time": "2021-05-21T21:07:49.867103Z",
     "start_time": "2021-05-21T20:10:41.953Z"
    }
   },
   "outputs": [],
   "source": [
    "def get_top_10(id):\n",
    "    top = ratings[ratings['userId'] == id].sort_values(\n",
    "        by=['rating'], ascending=False).head(10)\n",
    "    top = top['movieId'].tolist()\n",
    "    return df[df['movieId'].isin(top)].title"
   ]
  },
  {
   "cell_type": "code",
   "execution_count": 37,
   "metadata": {
    "ExecuteTime": {
     "end_time": "2021-05-21T21:07:49.876080Z",
     "start_time": "2021-05-21T20:10:44.182Z"
    },
    "scrolled": true
   },
   "outputs": [
    {
     "data": {
      "text/plain": [
       "706                          2001: A Space Odyssey (1968)\n",
       "863                Monty Python and the Holy Grail (1975)\n",
       "901                                         Brazil (1985)\n",
       "903     Good, the Bad and the Ugly, The (Buono, il bru...\n",
       "906                             Lawrence of Arabia (1962)\n",
       "909                                 Apocalypse Now (1979)\n",
       "932                                        Stalker (1979)\n",
       "950                                     8 1/2 (8½) (1963)\n",
       "951                                      Chinatown (1974)\n",
       "4893                                       Persona (1966)\n",
       "Name: title, dtype: object"
      ]
     },
     "execution_count": 37,
     "metadata": {},
     "output_type": "execute_result"
    }
   ],
   "source": [
    "get_top_10(50)"
   ]
  },
  {
   "cell_type": "markdown",
   "metadata": {},
   "source": [
    "# Save model for reuse"
   ]
  },
  {
   "cell_type": "code",
   "execution_count": 39,
   "metadata": {},
   "outputs": [],
   "source": [
    "import pickle"
   ]
  },
  {
   "cell_type": "code",
   "execution_count": 40,
   "metadata": {},
   "outputs": [],
   "source": [
    "filename = 'finalized_model.sav'\n",
    "pickle.dump(svd, open(filename, 'wb'))"
   ]
  },
  {
   "cell_type": "code",
   "execution_count": null,
   "metadata": {},
   "outputs": [],
   "source": []
  }
 ],
 "metadata": {
  "kernelspec": {
   "display_name": "Python 3",
   "language": "python",
   "name": "python3"
  },
  "language_info": {
   "codemirror_mode": {
    "name": "ipython",
    "version": 3
   },
   "file_extension": ".py",
   "mimetype": "text/x-python",
   "name": "python",
   "nbconvert_exporter": "python",
   "pygments_lexer": "ipython3",
   "version": "3.8.8"
  },
  "toc": {
   "base_numbering": 1,
   "nav_menu": {},
   "number_sections": true,
   "sideBar": true,
   "skip_h1_title": false,
   "title_cell": "Table of Contents",
   "title_sidebar": "Contents",
   "toc_cell": false,
   "toc_position": {
    "height": "calc(100% - 180px)",
    "left": "10px",
    "top": "150px",
    "width": "165px"
   },
   "toc_section_display": true,
   "toc_window_display": true
  },
  "toc-autonumbering": false,
  "toc-showmarkdowntxt": false,
  "toc-showtags": false,
  "varInspector": {
   "cols": {
    "lenName": 16,
    "lenType": 16,
    "lenVar": 40
   },
   "kernels_config": {
    "python": {
     "delete_cmd_postfix": "",
     "delete_cmd_prefix": "del ",
     "library": "var_list.py",
     "varRefreshCmd": "print(var_dic_list())"
    },
    "r": {
     "delete_cmd_postfix": ") ",
     "delete_cmd_prefix": "rm(",
     "library": "var_list.r",
     "varRefreshCmd": "cat(var_dic_list()) "
    }
   },
   "types_to_exclude": [
    "module",
    "function",
    "builtin_function_or_method",
    "instance",
    "_Feature"
   ],
   "window_display": false
  }
 },
 "nbformat": 4,
 "nbformat_minor": 4
}
